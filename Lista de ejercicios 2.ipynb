{
 "cells": [
  {
   "cell_type": "markdown",
   "id": "a41bb261",
   "metadata": {},
   "source": [
    "**Lista de Ejercicios 1** \n",
    "\n",
    "\n",
    "Grupo:\n",
    "1. Mayra Gavilán (20131530)\n",
    "2. Milagros Meza (20120186)\n",
    "3. Paola Cordova (20130365)\n",
    "4. Serghi Arista (20125341)"
   ]
  },
