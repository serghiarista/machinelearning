{
 "cells": [
  {
   "cell_type": "markdown",
   "id": "a8bb2145",
   "metadata": {},
   "source": [
    "**Lista de Ejercicios 2** \n",
    "\n",
    "\n",
    "Grupo:\n",
    "1. Mayra Gavilán (20131530)\n",
    "2. Milagros Meza (20120186)\n",
    "3. Paola Cordova (20130365)\n",
    "4. Serghi Arista (20125341)"
   ]
  },
  {
   "cell_type": "markdown",
   "id": "1335be2a",
   "metadata": {},
   "source": [
    "**Pregunta 1**"
   ]
  },
  {
   "cell_type": "markdown",
   "id": "1d6ab0cf",
   "metadata": {},
   "source": [
    "Considere el conjunto de datos de viviendas de Boston:"
   ]
  },
  {
   "cell_type": "code",
   "execution_count": 1,
   "id": "0ca0fec6",
   "metadata": {},
   "outputs": [],
   "source": [
    "import warnings\n",
    "\n",
    "warnings.filterwarnings('ignore')"
   ]
  },
  {
   "cell_type": "code",
   "execution_count": 2,
   "id": "8322bb8d",
   "metadata": {},
   "outputs": [],
   "source": [
    "import numpy as np\n",
    "import pandas as pd"
   ]
  },
  {
   "cell_type": "code",
   "execution_count": 3,
   "id": "dd7b8bb3",
   "metadata": {},
   "outputs": [],
   "source": [
    "data = pd.read_csv('https://raw.githubusercontent.com/qlabpucp/datasets/main/datasets/boston.csv')\n",
    "data = data.drop(columns=['Unnamed: 0'])"
   ]
  },
  {
   "cell_type": "markdown",
   "id": "c5e6f094",
   "metadata": {},
   "source": [
    "a) Defina una función llamada 'estimate_mean' que tome como argumentos un DataFrame de Pandas data, una serie de índices idx y el nombre de una columna x. Esta función debe calcular y devolver la media de la columna x para las filas correspondientes a los índices dados en el DataFrame. Utilice esta función y estime la media poblacional de la columna **medv** en el conjunto de datos proporcionado. Llame a esta estimación $\\hat{μ}$. Hint: Para estimar la media poblacional, asegúrese de incluir todos los índices del conjunto de datos en el cálculo."
   ]
  },
  {
   "cell_type": "code",
   "execution_count": 4,
   "id": "a7e307d2",
   "metadata": {},
   "outputs": [
    {
     "name": "stdout",
     "output_type": "stream",
     "text": [
      "Estimación de la media poblacional de 'medv': 22.5328\n"
     ]
    }
   ],
   "source": [
    "def estimate_mean(data, idx, x):\n",
    "    \n",
    "    subset = data.loc[idx]\n",
    "    mean = subset[x].mean()\n",
    "    return round(mean, 4)\n",
    "\n",
    "estimated_mean = estimate_mean(data, data.index, 'medv')\n",
    "print(\"Estimación de la media poblacional de 'medv':\", estimated_mean)"
   ]
  },
  {
   "cell_type": "markdown",
   "id": "720cd73c",
   "metadata": {},
   "source": [
    "b) Proporcione una estimación del error estándar de $\\hat{μ}$. Interprete este resultado. Hint: Puede\n",
    "calcular el error estándar dividiendo la desviación estándar de la columna 'medv'(.std())\n",
    "por la raíz cuadrada del número de observaciones."
   ]
  },
  {
   "cell_type": "code",
   "execution_count": 5,
   "id": "b111178b",
   "metadata": {},
   "outputs": [
    {
     "name": "stdout",
     "output_type": "stream",
     "text": [
      "Estimación del error estándar de la media poblacional de 'medv': 0.4089\n"
     ]
    }
   ],
   "source": [
    "def estimate_standard_error(data, x):\n",
    "    std_dev = data[x].std()\n",
    "    n = len(data)\n",
    "    standard_error = std_dev / np.sqrt(n)\n",
    "    return round(standard_error, 4)\n",
    "\n",
    "estimated_standard_error = estimate_standard_error(data, 'medv')\n",
    "print(\"Estimación del error estándar de la media poblacional de 'medv':\", estimated_standard_error)"
   ]
  },
  {
   "cell_type": "markdown",
   "id": "baa7c3b3",
   "metadata": {},
   "source": [
    "c) Ahora estime el error estándar (SE) de $\\hat{μ}$ usando el método Bootstrap. ¿Cómo se compara esto con su respuesta de (b) Hint: Puede modificar la función boot SE para adaptarla a la función definida en (a)."
   ]
  },
  {
   "cell_type": "code",
   "execution_count": 6,
   "id": "65053ac2",
   "metadata": {},
   "outputs": [
    {
     "name": "stdout",
     "output_type": "stream",
     "text": [
      "Error estándar de la media poblacional de 'medv' estimado con Bootstrap: 0.4125\n"
     ]
    }
   ],
   "source": [
    "def boot_SE(func, data, idx, x, n=None, b=1000, seed=0):\n",
    "\n",
    "    rng = np.random.default_rng(seed)\n",
    "    sum_estimates = 0\n",
    "    sum_squared_estimates = 0\n",
    "    n = n or data.shape[0]\n",
    "    estimates = []\n",
    "\n",
    "    for sample in range(b):\n",
    "        idx = rng.choice(data.index, n, replace=True)\n",
    "        estimate = func(data, idx, x)\n",
    "        sum_estimates += estimate\n",
    "        sum_squared_estimates += estimate ** 2\n",
    "        estimates.append(estimate)\n",
    "\n",
    "    mean_estimates = sum_estimates / b\n",
    "    se = np.sqrt(sum_squared_estimates / b - mean_estimates ** 2)\n",
    "\n",
    "    return round(se, 4), estimates\n",
    "\n",
    "estimated_bootstrap_se, bootstrap_estimates = boot_SE(estimate_mean, data, data.index, 'medv')\n",
    "print(\"Error estándar de la media poblacional de 'medv' estimado con Bootstrap:\", estimated_bootstrap_se)\n"
   ]
  },
  {
   "cell_type": "markdown",
   "id": "bea21acd",
   "metadata": {},
   "source": [
    "En relación al error estándar hallado en b), el error estándar estimado con Bootstrap difiere y es mayor."
   ]
  },
  {
   "cell_type": "markdown",
   "id": "72026ba5",
   "metadata": {},
   "source": [
    "d) Basado en su estimación bootstrap de (c), proporcione un intervalo de confianza del 95%\n",
    "para la media de medv. Hint: Puede aproximar un intervalo de confianza del 95% usando la\n",
    "fórmula $\\hat{μ}$ − 2SE($\\hat{μ}$), $\\hat{μ}$ + 2SE($\\hat{μ}$)."
   ]
  },
  {
   "cell_type": "code",
   "execution_count": 7,
   "id": "08cdbad7",
   "metadata": {
    "scrolled": true
   },
   "outputs": [
    {
     "name": "stdout",
     "output_type": "stream",
     "text": [
      "Intervalo de confianza del 95% para la media de 'medv': (21.707800000000002, 23.3578)\n"
     ]
    }
   ],
   "source": [
    "lower_bound = estimated_mean - 2 * estimated_bootstrap_se\n",
    "upper_bound = estimated_mean + 2 * estimated_bootstrap_se\n",
    "\n",
    "print(\"Intervalo de confianza del 95% para la media de 'medv':\", (lower_bound, upper_bound))"
   ]
  },
  {
   "cell_type": "markdown",
   "id": "d59ad1d7",
   "metadata": {},
   "source": [
    "e) Defina una función para estimar la mediana de una variable. Use esta función y estime la\n",
    "mediana poblacional de la columna **medv**. Llame a esta estimación $\\hat{μ}$$_{med}$. Hint: puede seguir\n",
    "el mismo enfoque que en (a)."
   ]
  },
  {
   "cell_type": "code",
   "execution_count": 8,
   "id": "c5e23220",
   "metadata": {},
   "outputs": [
    {
     "name": "stdout",
     "output_type": "stream",
     "text": [
      "Estimación de la mediana poblacional de 'medv': 21.2\n"
     ]
    }
   ],
   "source": [
    "def estimate_median(data, idx, x):\n",
    "    \n",
    "    subset = data.loc[idx]\n",
    "    median = subset[x].median()\n",
    "    return median\n",
    "\n",
    "estimated_median = estimate_median(data, data.index, 'medv')\n",
    "print(\"Estimación de la mediana poblacional de 'medv':\", estimated_median)"
   ]
  },
  {
   "cell_type": "markdown",
   "id": "f3d96401",
   "metadata": {},
   "source": [
    "f) Estime el error estándar (SE) de $\\hat{μ}$$_{med}$ mediante el método Bootstrap. Hint: Puede seguir el mismo enfoque en que (c)."
   ]
  },
  {
   "cell_type": "code",
   "execution_count": 9,
   "id": "f153b31a",
   "metadata": {},
   "outputs": [
    {
     "name": "stdout",
     "output_type": "stream",
     "text": [
      "Error estándar de la mediana poblacional de 'medv' estimado con Bootstrap: 0.3694\n"
     ]
    }
   ],
   "source": [
    "def boot_SE_median(func, data, idx, x, n=None, b=1000, seed=0):\n",
    "\n",
    "    rng = np.random.default_rng(seed)\n",
    "    sum_estimates = 0\n",
    "    sum_squared_estimates = 0\n",
    "    n = n or data.shape[0]\n",
    "    estimates = []\n",
    "\n",
    "    for sample in range(b):\n",
    "        idx = rng.choice(data.index, n, replace=True)\n",
    "        estimate = func(data, idx, x)\n",
    "        sum_estimates += estimate\n",
    "        sum_squared_estimates += estimate ** 2\n",
    "        estimates.append(estimate)\n",
    "\n",
    "    mean_estimates = sum_estimates / b\n",
    "    se = np.sqrt(sum_squared_estimates / b - mean_estimates ** 2)\n",
    "\n",
    "    return round(se, 4), estimates\n",
    "\n",
    "estimated_bootstrap_se_median, bootstrap_estimates_median = boot_SE_median(estimate_median, data, data.index, 'medv')\n",
    "print(\"Error estándar de la mediana poblacional de 'medv' estimado con Bootstrap:\", estimated_bootstrap_se_median)\n"
   ]
  },
  {
   "cell_type": "markdown",
   "id": "e9a4ec25",
   "metadata": {},
   "source": [
    "**Pregunta 2**"
   ]
  },
  {
   "cell_type": "markdown",
   "id": "dc6e5e2d",
   "metadata": {},
   "source": [
    "Suponga que estima los coeficientes de regresión de un modelo de Regresión Lineal minimizando:"
   ]
  },
  {
   "cell_type": "markdown",
   "id": "bae13933",
   "metadata": {},
   "source": [
    "$$ \\sum_{i=1}^{n}({y}_i-{β}_0-\\sum_{j=1}^{p}{β}_j{x}_{ij})^2 + {λ}\\sum_{j=1}^{p}{β}_j^2 $$"
   ]
  },
  {
   "cell_type": "markdown",
   "id": "ba72c15f",
   "metadata": {},
   "source": [
    "para un valor particular de λ. Indique si los  ítems son verdaderos o falsos y justifique su respuesta."
   ]
  },
  {
   "cell_type": "markdown",
   "id": "7e3fe182",
   "metadata": {},
   "source": [
    "a) A medida que λ se incrementa desde 0, la métrica RSS (Residual Sum of Squares) de entrenamiento cambiará de la siguiente forma:"
   ]
  },
  {
   "cell_type": "markdown",
   "id": "98c706dd",
   "metadata": {},
   "source": [
    "Opción III. A medida que el λ aumenta, la métrica RSS de entrenamiento aumenta."
   ]
  },
  {
   "cell_type": "markdown",
   "id": "36d7c797",
   "metadata": {},
   "source": [
    "b) Repita a) para la métrica RSS de prueba."
   ]
  },
  {
   "cell_type": "markdown",
   "id": "f56b65ff",
   "metadata": {},
   "source": [
    "Opción IV. A medida que el λ aumenta, la métrica RSS de prueba disminuye."
   ]
  },
  {
   "cell_type": "markdown",
   "id": "f109e60d",
   "metadata": {},
   "source": [
    "c) Repita a) para la varianza."
   ]
  },
  {
   "cell_type": "markdown",
   "id": "e967c71c",
   "metadata": {},
   "source": [
    "Opción IV. A medida que el λ aumenta, la varianza disminuye."
   ]
  },
  {
   "cell_type": "markdown",
   "id": "d7931c91",
   "metadata": {},
   "source": [
    "d) Repita a) para el sesgo (bias) al cuadrado."
   ]
  },
  {
   "cell_type": "markdown",
   "id": "bd7e6013",
   "metadata": {},
   "source": [
    "Opción III. A medida que el λ aumenta, el sesgo aumenta."
   ]
  },
  {
   "cell_type": "markdown",
   "id": "c4909417",
   "metadata": {},
   "source": [
    "**Pregunta 3**"
   ]
  },
  {
   "cell_type": "markdown",
   "id": "338f570a",
   "metadata": {},
   "source": [
    "Suponga que estima los coeficientes de regresión de un modelo de Regresión Lineal minimizando:"
   ]
  },
  {
   "cell_type": "markdown",
   "id": "3fa0c9da",
   "metadata": {},
   "source": [
    "$$ \\sum_{i=1}^{n}({y}_i-{β}_0-\\sum_{j=1}^{p}{β}_j{x}_{ij})^2  s.t.  \\sum_{j=1}^{p}{|β|}_j{≤}s $$"
   ]
  },
  {
   "cell_type": "markdown",
   "id": "28d987f8",
   "metadata": {},
   "source": [
    "para un valor particular de s. Indique si los  ítems son verdaderos o falsos y justifique su respuesta."
   ]
  },
  {
   "cell_type": "markdown",
   "id": "20ba5b82",
   "metadata": {},
   "source": [
    "a) A medida que s se incrementa desde 0, la métrica RSS (Residual Sum of Squares) de entrenamiento cambiará de la siguiente forma:"
   ]
  },
  {
   "cell_type": "markdown",
   "id": "c6ad8e3a",
   "metadata": {},
   "source": [
    "Opción IV. A medida que el s aumenta, la métrica RSS de entrenamiento disminuye."
   ]
  },
  {
   "cell_type": "markdown",
   "id": "34c4686b",
   "metadata": {},
   "source": [
    "b) Repita a) para la métrica RSS de prueba."
   ]
  },
  {
   "cell_type": "markdown",
   "id": "926c3b16",
   "metadata": {},
   "source": [
    "Opción III. A medida que el λ aumenta, la métrica RSS de prueba aumenta."
   ]
  },
  {
   "cell_type": "markdown",
   "id": "f461b036",
   "metadata": {},
   "source": [
    "c) Repita a) para la varianza."
   ]
  },
  {
   "cell_type": "markdown",
   "id": "7938a3e6",
   "metadata": {},
   "source": [
    "Opción III. A medida que el s aumenta, la varianza aumenta."
   ]
  },
  {
   "cell_type": "markdown",
   "id": "01019d0e",
   "metadata": {},
   "source": [
    "d) Repita a) para el sesgo (bias) al cuadrado."
   ]
  },
  {
   "cell_type": "markdown",
   "id": "01f0695e",
   "metadata": {},
   "source": [
    "Opción IV. A medida que el s aumenta, el sesgo disminuye."
   ]
  },
  {
   "cell_type": "markdown",
   "id": "b686e37f",
   "metadata": {},
   "source": [
    "**Pregunta 4**\\\n",
    "Prediga el número de solicitudes recibidas (columna Apps)."
   ]
  },
  {
   "cell_type": "code",
   "execution_count": 10,
   "id": "32d060ef",
   "metadata": {
    "scrolled": true
   },
   "outputs": [],
   "source": [
    "from functools import partial\n",
    "\n",
    "from sklearn.linear_model import LinearRegression\n",
    "from sklearn.preprocessing import scale\n",
    "import sklearn.model_selection as skm\n",
    "import sklearn.linear_model as skl\n",
    "from sklearn.pipeline import Pipeline\n",
    "from sklearn.preprocessing import StandardScaler\n",
    "from sklearn.metrics import mean_squared_error\n",
    "from matplotlib.pyplot import subplots\n",
    "from sklearn.model_selection import train_test_split"
   ]
  },
  {
   "cell_type": "code",
   "execution_count": 11,
   "id": "230b5201",
   "metadata": {},
   "outputs": [
    {
     "data": {
      "text/plain": [
       "(777, 18)"
      ]
     },
     "execution_count": 11,
     "metadata": {},
     "output_type": "execute_result"
    }
   ],
   "source": [
    "college = pd.read_csv('https://raw.githubusercontent.com/qlabpucp/datasets/main/datasets/college.csv')\n",
    "college = college.drop(columns=['Unnamed: 0'])\n",
    "college['Private'] = college['Private'].map({'Yes': 1, 'No': 0})\n",
    "college = college.dropna()\n",
    "college = college.reindex()\n",
    "college.shape"
   ]
  },
  {
   "cell_type": "markdown",
   "id": "15a31b25",
   "metadata": {},
   "source": [
    "a) Divida el conjunto de datos en un conjunto de entrenamiento y un conjunto de validacion."
   ]
  },
  {
   "cell_type": "code",
   "execution_count": 12,
   "id": "35f6729c",
   "metadata": {},
   "outputs": [],
   "source": [
    "Y = np.array(college['Apps'])\n",
    "X = college.drop(columns=['Apps'])\n",
    "\n",
    "X_train, X_test, Y_train, Y_test = train_test_split(X, Y, test_size=0.3, random_state=0)"
   ]
  },
  {
   "cell_type": "markdown",
   "id": "2b743513",
   "metadata": {},
   "source": [
    "b) Ajuste un modelo lineal utilizando mınimos cuadrados en el conjunto de entrenamiento e informe el error en el conjunto de prueba."
   ]
  },
  {
   "cell_type": "code",
   "execution_count": 13,
   "id": "f04fa11a",
   "metadata": {},
   "outputs": [
    {
     "name": "stdout",
     "output_type": "stream",
     "text": [
      "MSE en el conjunto de prueba: 1659682.172\n"
     ]
    }
   ],
   "source": [
    "model = LinearRegression()\n",
    "model.fit(X_train, Y_train)\n",
    "\n",
    "pred = model.predict(X_test)\n",
    "MSE = round(np.mean((Y_test - pred)**2, axis=0),3)\n",
    "print(\"MSE en el conjunto de prueba:\", MSE)\n",
    "\n",
    "Resultados = pd.DataFrame(model.coef_, columns=['Coeficientes OLS'], index = X.columns)"
   ]
  },
  {
   "cell_type": "markdown",
   "id": "425892b4",
   "metadata": {},
   "source": [
    "c) Ajuste un modelo de regresion Ridge en el conjunto de entrenamiento, con λ elegido por Cross-Validation. Reporte el error en el conjunto de prueba y los coeficientes de las variables."
   ]
  },
  {
   "cell_type": "code",
   "execution_count": 14,
   "id": "31f4adb9",
   "metadata": {},
   "outputs": [
    {
     "name": "stdout",
     "output_type": "stream",
     "text": [
      "MSE en el conjunto de prueba: 1757963.0\n"
     ]
    }
   ],
   "source": [
    "lambdas = 10**np.linspace(8, -6, 200)\n",
    "scaler  = StandardScaler(with_mean=True, with_std=True)\n",
    "\n",
    "kfold = skm.KFold(10, random_state=0, shuffle=True)\n",
    "\n",
    "ridgeCV = skl.ElasticNetCV(alphas=lambdas, l1_ratio=0, cv=kfold)\n",
    "pipeCV = Pipeline(steps=[('scaler', scaler), ('ridge', ridgeCV)])\n",
    "pipeCV.fit(X_train, Y_train)\n",
    "\n",
    "tuned_ridge = pipeCV.named_steps['ridge']\n",
    "\n",
    "Y_pred_ridge = pipeCV.predict(X_test)\n",
    "mse_ridge = round(mean_squared_error(Y_test, Y_pred_ridge),3)\n",
    "print(\"MSE en el conjunto de prueba:\", mse_ridge)\n",
    "\n",
    "Resultados['Coeficientes Ridge'] = tuned_ridge.coef_"
   ]
  },
  {
   "cell_type": "markdown",
   "id": "1def61e1",
   "metadata": {},
   "source": [
    "d) Ajuste un modelo de regresion Lasso en el conjunto de entrenamiento, con λ elegido por Cross-Validation. Informe el error en el conjunto de prueba y los coeficientes de las variables."
   ]
  },
  {
   "cell_type": "code",
   "execution_count": 15,
   "id": "38254b9a",
   "metadata": {},
   "outputs": [
    {
     "name": "stdout",
     "output_type": "stream",
     "text": [
      "MSE en el conjunto de prueba: 1752978.467\n"
     ]
    }
   ],
   "source": [
    "lasso = skl.ElasticNet(l1_ratio=1)\n",
    "pipe_l = Pipeline(steps=[('scaler', scaler), ('lasso', lasso)])\n",
    "\n",
    "lassoCV = skl.ElasticNetCV(alphas=lambdas, l1_ratio=1,cv=kfold)\n",
    "pipeCV_lasso = Pipeline(steps=[('scaler', scaler), ('lasso', lassoCV)])\n",
    "pipeCV_lasso.fit(X_train, Y_train)\n",
    "\n",
    "tuned_lasso = pipeCV_lasso.named_steps['lasso']\n",
    "\n",
    "Y_pred_lasso = pipeCV_lasso.predict(X_test)\n",
    "mse_lasso = round(mean_squared_error(Y_test, Y_pred_lasso),3)\n",
    "print(\"MSE en el conjunto de prueba:\", mse_lasso)\n",
    "\n",
    "Resultados['Coeficientes Lasso'] = tuned_lasso.coef_"
   ]
  },
  {
   "cell_type": "markdown",
   "id": "6b444e4c",
   "metadata": {},
   "source": [
    "e) Muestre un pandas Dataframe que resuma los resultados. ¿Cual modelo seleccionara para su investigacion? Justifique."
   ]
  },
  {
   "cell_type": "markdown",
   "id": "1eb11c14",
   "metadata": {},
   "source": [
    "En base a los resultados obtenidos, seleccionaria el modelo de Lasso, esto debido a la que es el único con el cual puedo eliminar algunas variables que no son importantes para la predicción del número de solicitudes de Apps (enroll, boosk, SF ratio). Asimismo, observamos un MSE de conjunto de prueba es menor en Lasso que en Ridge, y si observamos el error del conjunto de validación, vemos que la misma relación, por lo que considerariamos a Lasso como un modelo con una mejor capacidad de generalización."
   ]
  },
  {
   "cell_type": "code",
   "execution_count": 16,
   "id": "91e191ab",
   "metadata": {},
   "outputs": [
    {
     "data": {
      "text/html": [
       "<div>\n",
       "<style scoped>\n",
       "    .dataframe tbody tr th:only-of-type {\n",
       "        vertical-align: middle;\n",
       "    }\n",
       "\n",
       "    .dataframe tbody tr th {\n",
       "        vertical-align: top;\n",
       "    }\n",
       "\n",
       "    .dataframe thead th {\n",
       "        text-align: right;\n",
       "    }\n",
       "</style>\n",
       "<table border=\"1\" class=\"dataframe\">\n",
       "  <thead>\n",
       "    <tr style=\"text-align: right;\">\n",
       "      <th></th>\n",
       "      <th>Coeficientes OLS</th>\n",
       "      <th>Coeficientes Ridge</th>\n",
       "      <th>Coeficientes Lasso</th>\n",
       "    </tr>\n",
       "  </thead>\n",
       "  <tbody>\n",
       "    <tr>\n",
       "      <th>Private</th>\n",
       "      <td>-671.494581</td>\n",
       "      <td>-306.622286</td>\n",
       "      <td>-300.143375</td>\n",
       "    </tr>\n",
       "    <tr>\n",
       "      <th>Accept</th>\n",
       "      <td>1.260847</td>\n",
       "      <td>2924.738096</td>\n",
       "      <td>2906.887403</td>\n",
       "    </tr>\n",
       "    <tr>\n",
       "      <th>Enroll</th>\n",
       "      <td>-0.378676</td>\n",
       "      <td>-213.944514</td>\n",
       "      <td>-0.000000</td>\n",
       "    </tr>\n",
       "    <tr>\n",
       "      <th>Top10perc</th>\n",
       "      <td>52.618992</td>\n",
       "      <td>873.989659</td>\n",
       "      <td>773.859506</td>\n",
       "    </tr>\n",
       "    <tr>\n",
       "      <th>Top25perc</th>\n",
       "      <td>-16.154400</td>\n",
       "      <td>-285.541082</td>\n",
       "      <td>-191.740110</td>\n",
       "    </tr>\n",
       "    <tr>\n",
       "      <th>F.Undergrad</th>\n",
       "      <td>0.098948</td>\n",
       "      <td>470.927999</td>\n",
       "      <td>275.526344</td>\n",
       "    </tr>\n",
       "    <tr>\n",
       "      <th>P.Undergrad</th>\n",
       "      <td>0.037652</td>\n",
       "      <td>61.122178</td>\n",
       "      <td>52.681271</td>\n",
       "    </tr>\n",
       "    <tr>\n",
       "      <th>Outstate</th>\n",
       "      <td>-0.042843</td>\n",
       "      <td>-146.612458</td>\n",
       "      <td>-102.858937</td>\n",
       "    </tr>\n",
       "    <tr>\n",
       "      <th>Room.Board</th>\n",
       "      <td>0.217593</td>\n",
       "      <td>242.358386</td>\n",
       "      <td>222.021816</td>\n",
       "    </tr>\n",
       "    <tr>\n",
       "      <th>Books</th>\n",
       "      <td>0.035527</td>\n",
       "      <td>6.442361</td>\n",
       "      <td>0.000000</td>\n",
       "    </tr>\n",
       "    <tr>\n",
       "      <th>Personal</th>\n",
       "      <td>-0.045311</td>\n",
       "      <td>-34.164749</td>\n",
       "      <td>-13.492329</td>\n",
       "    </tr>\n",
       "    <tr>\n",
       "      <th>PhD</th>\n",
       "      <td>-9.466083</td>\n",
       "      <td>-148.355148</td>\n",
       "      <td>-129.745538</td>\n",
       "    </tr>\n",
       "    <tr>\n",
       "      <th>Terminal</th>\n",
       "      <td>-4.687669</td>\n",
       "      <td>-75.289055</td>\n",
       "      <td>-66.988295</td>\n",
       "    </tr>\n",
       "    <tr>\n",
       "      <th>S.F.Ratio</th>\n",
       "      <td>4.572739</td>\n",
       "      <td>18.316919</td>\n",
       "      <td>0.000000</td>\n",
       "    </tr>\n",
       "    <tr>\n",
       "      <th>perc.alumni</th>\n",
       "      <td>-7.541081</td>\n",
       "      <td>-104.348535</td>\n",
       "      <td>-93.700718</td>\n",
       "    </tr>\n",
       "    <tr>\n",
       "      <th>Expend</th>\n",
       "      <td>0.064437</td>\n",
       "      <td>312.857130</td>\n",
       "      <td>279.765350</td>\n",
       "    </tr>\n",
       "    <tr>\n",
       "      <th>Grad.Rate</th>\n",
       "      <td>10.583755</td>\n",
       "      <td>182.229521</td>\n",
       "      <td>143.820440</td>\n",
       "    </tr>\n",
       "  </tbody>\n",
       "</table>\n",
       "</div>"
      ],
      "text/plain": [
       "             Coeficientes OLS  Coeficientes Ridge  Coeficientes Lasso\n",
       "Private           -671.494581         -306.622286         -300.143375\n",
       "Accept               1.260847         2924.738096         2906.887403\n",
       "Enroll              -0.378676         -213.944514           -0.000000\n",
       "Top10perc           52.618992          873.989659          773.859506\n",
       "Top25perc          -16.154400         -285.541082         -191.740110\n",
       "F.Undergrad          0.098948          470.927999          275.526344\n",
       "P.Undergrad          0.037652           61.122178           52.681271\n",
       "Outstate            -0.042843         -146.612458         -102.858937\n",
       "Room.Board           0.217593          242.358386          222.021816\n",
       "Books                0.035527            6.442361            0.000000\n",
       "Personal            -0.045311          -34.164749          -13.492329\n",
       "PhD                 -9.466083         -148.355148         -129.745538\n",
       "Terminal            -4.687669          -75.289055          -66.988295\n",
       "S.F.Ratio            4.572739           18.316919            0.000000\n",
       "perc.alumni         -7.541081         -104.348535          -93.700718\n",
       "Expend               0.064437          312.857130          279.765350\n",
       "Grad.Rate           10.583755          182.229521          143.820440"
      ]
     },
     "execution_count": 16,
     "metadata": {},
     "output_type": "execute_result"
    }
   ],
   "source": [
    "Resultados"
   ]
  },
  {
   "cell_type": "code",
   "execution_count": 17,
   "id": "2ef289bb",
   "metadata": {},
   "outputs": [
    {
     "name": "stdout",
     "output_type": "stream",
     "text": [
      "Ridge CV MSE: 1105686.6290130184\n",
      "Lasso CV MSE: 1101897.4541473552\n"
     ]
    }
   ],
   "source": [
    "from sklearn.model_selection import cross_val_score\n",
    "lasso_cv_scores = cross_val_score(pipeCV_lasso, X_train, Y_train, scoring='neg_mean_squared_error', cv=10)\n",
    "ridge_cv_scores = cross_val_score(pipeCV, X_train, Y_train, scoring='neg_mean_squared_error', cv=10)\n",
    "\n",
    "lasso_cv_mse = -lasso_cv_scores.mean()\n",
    "ridge_cv_mse = -ridge_cv_scores.mean()\n",
    "\n",
    "print(\"Ridge CV MSE:\", ridge_cv_mse)\n",
    "print(\"Lasso CV MSE:\", lasso_cv_mse)"
   ]
  },
  {
   "cell_type": "markdown",
   "id": "8fc3c2f1",
   "metadata": {},
   "source": [
    "**Pregunta 5**"
   ]
  },
  {
   "cell_type": "markdown",
   "id": "cee7a690",
   "metadata": {},
   "source": [
    " En este ejercicio predecirá las ventas de autos de juguete (variable *Sales*) de la dataset **Carseats**:\n"
   ]
  },
  {
   "cell_type": "code",
   "execution_count": 18,
   "id": "06c584f2",
   "metadata": {},
   "outputs": [],
   "source": [
    "carseats = pd.read_csv('https://raw.githubusercontent.com/qlabpucp/datasets/main/datasets/carseats.csv')\n",
    "carseats = carseats.dropna() # Eliminar filas con valores nulo\n",
    "carseats = carseats.drop(columns=['Unnamed: 0']) # Eliminar index antiguo\n",
    "carseats = pd.get_dummies(carseats, dtype='int')  # Binarizar variables categóricas"
   ]
  },
  {
   "cell_type": "code",
   "execution_count": 19,
   "id": "1e69a781",
   "metadata": {},
   "outputs": [
    {
     "data": {
      "text/plain": [
       "(400, 12)"
      ]
     },
     "execution_count": 19,
     "metadata": {},
     "output_type": "execute_result"
    }
   ],
   "source": [
    "carseats = carseats.drop(columns = ['ShelveLoc_Medium', 'Urban_No', 'US_No'])\n",
    "carseats.rename(columns={'Urban_Yes': 'Urban', 'US_Yes': 'US'}, inplace=True)\n",
    "carseats = carseats.reindex()\n",
    "carseats.shape"
   ]
  },
  {
   "cell_type": "markdown",
   "id": "56941030",
   "metadata": {},
   "source": [
    "a) Implemente los modelos de regularización explorados: Ridge y Lasso. Presente y discuta los\n",
    " resultados."
   ]
  },
  {
   "cell_type": "code",
   "execution_count": 20,
   "id": "4a487e03",
   "metadata": {},
   "outputs": [],
   "source": [
    "from functools import partial\n",
    "\n",
    "# Scikit-Learn\n",
    "import sklearn.model_selection as skm\n",
    "import sklearn.linear_model as skl\n",
    "from sklearn.pipeline import Pipeline\n",
    "from sklearn.preprocessing import StandardScaler\n",
    "from sklearn.metrics import mean_squared_error\n",
    "\n",
    "# Matplotlib\n",
    "import matplotlib.pyplot as plt\n",
    "from matplotlib import style\n",
    "from matplotlib.pyplot import subplots\n",
    "import seaborn as sns"
   ]
  },
  {
   "cell_type": "markdown",
   "id": "c5ea571c",
   "metadata": {},
   "source": [
    "a.1) Ridge Regression"
   ]
  },
  {
   "cell_type": "code",
   "execution_count": 21,
   "id": "327346e9",
   "metadata": {},
   "outputs": [],
   "source": [
    "# Dividir dataset en un vector de Y predicho y una matriz de predictores X\n",
    "Y = np.array(carseats['Sales'])\n",
    "X = carseats.drop(columns=['Sales'])"
   ]
  },
  {
   "cell_type": "code",
   "execution_count": 22,
   "id": "64c8aa9f",
   "metadata": {},
   "outputs": [],
   "source": [
    "scaler = StandardScaler() # Definir una función 'scaler'\n",
    "Xs = scaler.fit_transform(X) # Escalar la matriz de predictores X\n",
    "lambdas = 10**np.linspace(8, -6, 100) # Definir 'regularization path'\n",
    "soln_array = skl.ElasticNet.path(Xs, Y, l1_ratio=0, alphas=lambdas)[1] # Estimar coeficientes usando el *skl.ElasticNet.path*\n",
    "# Considerar que l1_ratio define el tipo de regularización\n",
    "# Donde 0 = Ridge & 1 = Lasso"
   ]
  },
  {
   "cell_type": "code",
   "execution_count": 23,
   "id": "b409be2c",
   "metadata": {},
   "outputs": [
    {
     "data": {
      "image/png": "[encoded data removed]",
      "text/plain": [
       "<Figure size 800x800 with 1 Axes>"
      ]
     },
     "metadata": {},
     "output_type": "display_data"
    }
   ],
   "source": [
    "# Crear Panda Dataframe para visualizar los coeficientes\n",
    "# Columnas representan las variables predictoras y el índice representa la fuerza de la regularización\n",
    "soln_path = pd.DataFrame(soln_array.T, columns=X.columns, index=np.log(lambdas))\n",
    "soln_path.index.name = 'negative log(lambda)'\n",
    "# Graficar\n",
    "path_fig, ax = subplots(figsize=(8, 8))\n",
    "soln_path.plot(ax=ax, legend=True)\n",
    "ax.set_xlabel(r'$\\log(\\lambda)$', fontsize=15)\n",
    "ax.set_ylabel('Standardized coefficients', fontsize=15)\n",
    "ax.legend(loc='center left', bbox_to_anchor=(1, 0.5))\n",
    "path_fig.tight_layout()"
   ]
  },
  {
   "cell_type": "code",
   "execution_count": 24,
   "id": "9c370e3f",
   "metadata": {},
   "outputs": [],
   "source": [
    "# Estimar el error\n",
    "ridge = skl.ElasticNet(l1_ratio=0)\n",
    "scaler = StandardScaler(with_mean=True, with_std=True)\n",
    "pipe = Pipeline(steps=[('scaler', scaler), ('ridge', ridge)])"
   ]
  },
  {
   "cell_type": "code",
   "execution_count": 25,
   "id": "5d6d9147",
   "metadata": {},
   "outputs": [
    {
     "data": {
      "text/html": [
       "<style>#sk-container-id-1 {\n",
       "  /* Definition of color scheme common for light and dark mode */\n",
       "  --sklearn-color-text: black;\n",
       "  --sklearn-color-line: gray;\n",
       "  /* Definition of color scheme for unfitted estimators */\n",
       "  --sklearn-color-unfitted-level-0: #fff5e6;\n",
       "  --sklearn-color-unfitted-level-1: #f6e4d2;\n",
       "  --sklearn-color-unfitted-level-2: #ffe0b3;\n",
       "  --sklearn-color-unfitted-level-3: chocolate;\n",
       "  /* Definition of color scheme for fitted estimators */\n",
       "  --sklearn-color-fitted-level-0: #f0f8ff;\n",
       "  --sklearn-color-fitted-level-1: #d4ebff;\n",
       "  --sklearn-color-fitted-level-2: #b3dbfd;\n",
       "  --sklearn-color-fitted-level-3: cornflowerblue;\n",
       "\n",
       "  /* Specific color for light theme */\n",
       "  --sklearn-color-text-on-default-background: var(--sg-text-color, var(--theme-code-foreground, var(--jp-content-font-color1, black)));\n",
       "  --sklearn-color-background: var(--sg-background-color, var(--theme-background, var(--jp-layout-color0, white)));\n",
       "  --sklearn-color-border-box: var(--sg-text-color, var(--theme-code-foreground, var(--jp-content-font-color1, black)));\n",
       "  --sklearn-color-icon: #696969;\n",
       "\n",
       "  @media (prefers-color-scheme: dark) {\n",
       "    /* Redefinition of color scheme for dark theme */\n",
       "    --sklearn-color-text-on-default-background: var(--sg-text-color, var(--theme-code-foreground, var(--jp-content-font-color1, white)));\n",
       "    --sklearn-color-background: var(--sg-background-color, var(--theme-background, var(--jp-layout-color0, #111)));\n",
       "    --sklearn-color-border-box: var(--sg-text-color, var(--theme-code-foreground, var(--jp-content-font-color1, white)));\n",
       "    --sklearn-color-icon: #878787;\n",
       "  }\n",
       "}\n",
       "\n",
       "#sk-container-id-1 {\n",
       "  color: var(--sklearn-color-text);\n",
       "}\n",
       "\n",
       "#sk-container-id-1 pre {\n",
       "  padding: 0;\n",
       "}\n",
       "\n",
       "#sk-container-id-1 input.sk-hidden--visually {\n",
       "  border: 0;\n",
       "  clip: rect(1px 1px 1px 1px);\n",
       "  clip: rect(1px, 1px, 1px, 1px);\n",
       "  height: 1px;\n",
       "  margin: -1px;\n",
       "  overflow: hidden;\n",
       "  padding: 0;\n",
       "  position: absolute;\n",
       "  width: 1px;\n",
       "}\n",
       "\n",
       "#sk-container-id-1 div.sk-dashed-wrapped {\n",
       "  border: 1px dashed var(--sklearn-color-line);\n",
       "  margin: 0 0.4em 0.5em 0.4em;\n",
       "  box-sizing: border-box;\n",
       "  padding-bottom: 0.4em;\n",
       "  background-color: var(--sklearn-color-background);\n",
       "}\n",
       "\n",
       "#sk-container-id-1 div.sk-container {\n",
       "  /* jupyter's `normalize.less` sets `[hidden] { display: none; }`\n",
       "     but bootstrap.min.css set `[hidden] { display: none !important; }`\n",
       "     so we also need the `!important` here to be able to override the\n",
       "     default hidden behavior on the sphinx rendered scikit-learn.org.\n",
       "     See: https://github.com/scikit-learn/scikit-learn/issues/21755 */\n",
       "  display: inline-block !important;\n",
       "  position: relative;\n",
       "}\n",
       "\n",
       "#sk-container-id-1 div.sk-text-repr-fallback {\n",
       "  display: none;\n",
       "}\n",
       "\n",
       "div.sk-parallel-item,\n",
       "div.sk-serial,\n",
       "div.sk-item {\n",
       "  /* draw centered vertical line to link estimators */\n",
       "  background-image: linear-gradient(var(--sklearn-color-text-on-default-background), var(--sklearn-color-text-on-default-background));\n",
       "  background-size: 2px 100%;\n",
       "  background-repeat: no-repeat;\n",
       "  background-position: center center;\n",
       "}\n",
       "\n",
       "/* Parallel-specific style estimator block */\n",
       "\n",
       "#sk-container-id-1 div.sk-parallel-item::after {\n",
       "  content: \"\";\n",
       "  width: 100%;\n",
       "  border-bottom: 2px solid var(--sklearn-color-text-on-default-background);\n",
       "  flex-grow: 1;\n",
       "}\n",
       "\n",
       "#sk-container-id-1 div.sk-parallel {\n",
       "  display: flex;\n",
       "  align-items: stretch;\n",
       "  justify-content: center;\n",
       "  background-color: var(--sklearn-color-background);\n",
       "  position: relative;\n",
       "}\n",
       "\n",
       "#sk-container-id-1 div.sk-parallel-item {\n",
       "  display: flex;\n",
       "  flex-direction: column;\n",
       "}\n",
       "\n",
       "#sk-container-id-1 div.sk-parallel-item:first-child::after {\n",
       "  align-self: flex-end;\n",
       "  width: 50%;\n",
       "}\n",
       "\n",
       "#sk-container-id-1 div.sk-parallel-item:last-child::after {\n",
       "  align-self: flex-start;\n",
       "  width: 50%;\n",
       "}\n",
       "\n",
       "#sk-container-id-1 div.sk-parallel-item:only-child::after {\n",
       "  width: 0;\n",
       "}\n",
       "\n",
       "/* Serial-specific style estimator block */\n",
       "\n",
       "#sk-container-id-1 div.sk-serial {\n",
       "  display: flex;\n",
       "  flex-direction: column;\n",
       "  align-items: center;\n",
       "  background-color: var(--sklearn-color-background);\n",
       "  padding-right: 1em;\n",
       "  padding-left: 1em;\n",
       "}\n",
       "\n",
       "\n",
       "/* Toggleable style: style used for estimator/Pipeline/ColumnTransformer box that is\n",
       "clickable and can be expanded/collapsed.\n",
       "- Pipeline and ColumnTransformer use this feature and define the default style\n",
       "- Estimators will overwrite some part of the style using the `sk-estimator` class\n",
       "*/\n",
       "\n",
       "/* Pipeline and ColumnTransformer style (default) */\n",
       "\n",
       "#sk-container-id-1 div.sk-toggleable {\n",
       "  /* Default theme specific background. It is overwritten whether we have a\n",
       "  specific estimator or a Pipeline/ColumnTransformer */\n",
       "  background-color: var(--sklearn-color-background);\n",
       "}\n",
       "\n",
       "/* Toggleable label */\n",
       "#sk-container-id-1 label.sk-toggleable__label {\n",
       "  cursor: pointer;\n",
       "  display: block;\n",
       "  width: 100%;\n",
       "  margin-bottom: 0;\n",
       "  padding: 0.5em;\n",
       "  box-sizing: border-box;\n",
       "  text-align: center;\n",
       "}\n",
       "\n",
       "#sk-container-id-1 label.sk-toggleable__label-arrow:before {\n",
       "  /* Arrow on the left of the label */\n",
       "  content: \"▸\";\n",
       "  float: left;\n",
       "  margin-right: 0.25em;\n",
       "  color: var(--sklearn-color-icon);\n",
       "}\n",
       "\n",
       "#sk-container-id-1 label.sk-toggleable__label-arrow:hover:before {\n",
       "  color: var(--sklearn-color-text);\n",
       "}\n",
       "\n",
       "/* Toggleable content - dropdown */\n",
       "\n",
       "#sk-container-id-1 div.sk-toggleable__content {\n",
       "  max-height: 0;\n",
       "  max-width: 0;\n",
       "  overflow: hidden;\n",
       "  text-align: left;\n",
       "  /* unfitted */\n",
       "  background-color: var(--sklearn-color-unfitted-level-0);\n",
       "}\n",
       "\n",
       "#sk-container-id-1 div.sk-toggleable__content.fitted {\n",
       "  /* fitted */\n",
       "  background-color: var(--sklearn-color-fitted-level-0);\n",
       "}\n",
       "\n",
       "#sk-container-id-1 div.sk-toggleable__content pre {\n",
       "  margin: 0.2em;\n",
       "  border-radius: 0.25em;\n",
       "  color: var(--sklearn-color-text);\n",
       "  /* unfitted */\n",
       "  background-color: var(--sklearn-color-unfitted-level-0);\n",
       "}\n",
       "\n",
       "#sk-container-id-1 div.sk-toggleable__content.fitted pre {\n",
       "  /* unfitted */\n",
       "  background-color: var(--sklearn-color-fitted-level-0);\n",
       "}\n",
       "\n",
       "#sk-container-id-1 input.sk-toggleable__control:checked~div.sk-toggleable__content {\n",
       "  /* Expand drop-down */\n",
       "  max-height: 200px;\n",
       "  max-width: 100%;\n",
       "  overflow: auto;\n",
       "}\n",
       "\n",
       "#sk-container-id-1 input.sk-toggleable__control:checked~label.sk-toggleable__label-arrow:before {\n",
       "  content: \"▾\";\n",
       "}\n",
       "\n",
       "/* Pipeline/ColumnTransformer-specific style */\n",
       "\n",
       "#sk-container-id-1 div.sk-label input.sk-toggleable__control:checked~label.sk-toggleable__label {\n",
       "  color: var(--sklearn-color-text);\n",
       "  background-color: var(--sklearn-color-unfitted-level-2);\n",
       "}\n",
       "\n",
       "#sk-container-id-1 div.sk-label.fitted input.sk-toggleable__control:checked~label.sk-toggleable__label {\n",
       "  background-color: var(--sklearn-color-fitted-level-2);\n",
       "}\n",
       "\n",
       "/* Estimator-specific style */\n",
       "\n",
       "/* Colorize estimator box */\n",
       "#sk-container-id-1 div.sk-estimator input.sk-toggleable__control:checked~label.sk-toggleable__label {\n",
       "  /* unfitted */\n",
       "  background-color: var(--sklearn-color-unfitted-level-2);\n",
       "}\n",
       "\n",
       "#sk-container-id-1 div.sk-estimator.fitted input.sk-toggleable__control:checked~label.sk-toggleable__label {\n",
       "  /* fitted */\n",
       "  background-color: var(--sklearn-color-fitted-level-2);\n",
       "}\n",
       "\n",
       "#sk-container-id-1 div.sk-label label.sk-toggleable__label,\n",
       "#sk-container-id-1 div.sk-label label {\n",
       "  /* The background is the default theme color */\n",
       "  color: var(--sklearn-color-text-on-default-background);\n",
       "}\n",
       "\n",
       "/* On hover, darken the color of the background */\n",
       "#sk-container-id-1 div.sk-label:hover label.sk-toggleable__label {\n",
       "  color: var(--sklearn-color-text);\n",
       "  background-color: var(--sklearn-color-unfitted-level-2);\n",
       "}\n",
       "\n",
       "/* Label box, darken color on hover, fitted */\n",
       "#sk-container-id-1 div.sk-label.fitted:hover label.sk-toggleable__label.fitted {\n",
       "  color: var(--sklearn-color-text);\n",
       "  background-color: var(--sklearn-color-fitted-level-2);\n",
       "}\n",
       "\n",
       "/* Estimator label */\n",
       "\n",
       "#sk-container-id-1 div.sk-label label {\n",
       "  font-family: monospace;\n",
       "  font-weight: bold;\n",
       "  display: inline-block;\n",
       "  line-height: 1.2em;\n",
       "}\n",
       "\n",
       "#sk-container-id-1 div.sk-label-container {\n",
       "  text-align: center;\n",
       "}\n",
       "\n",
       "/* Estimator-specific */\n",
       "#sk-container-id-1 div.sk-estimator {\n",
       "  font-family: monospace;\n",
       "  border: 1px dotted var(--sklearn-color-border-box);\n",
       "  border-radius: 0.25em;\n",
       "  box-sizing: border-box;\n",
       "  margin-bottom: 0.5em;\n",
       "  /* unfitted */\n",
       "  background-color: var(--sklearn-color-unfitted-level-0);\n",
       "}\n",
       "\n",
       "#sk-container-id-1 div.sk-estimator.fitted {\n",
       "  /* fitted */\n",
       "  background-color: var(--sklearn-color-fitted-level-0);\n",
       "}\n",
       "\n",
       "/* on hover */\n",
       "#sk-container-id-1 div.sk-estimator:hover {\n",
       "  /* unfitted */\n",
       "  background-color: var(--sklearn-color-unfitted-level-2);\n",
       "}\n",
       "\n",
       "#sk-container-id-1 div.sk-estimator.fitted:hover {\n",
       "  /* fitted */\n",
       "  background-color: var(--sklearn-color-fitted-level-2);\n",
       "}\n",
       "\n",
       "/* Specification for estimator info (e.g. \"i\" and \"?\") */\n",
       "\n",
       "/* Common style for \"i\" and \"?\" */\n",
       "\n",
       ".sk-estimator-doc-link,\n",
       "a:link.sk-estimator-doc-link,\n",
       "a:visited.sk-estimator-doc-link {\n",
       "  float: right;\n",
       "  font-size: smaller;\n",
       "  line-height: 1em;\n",
       "  font-family: monospace;\n",
       "  background-color: var(--sklearn-color-background);\n",
       "  border-radius: 1em;\n",
       "  height: 1em;\n",
       "  width: 1em;\n",
       "  text-decoration: none !important;\n",
       "  margin-left: 1ex;\n",
       "  /* unfitted */\n",
       "  border: var(--sklearn-color-unfitted-level-1) 1pt solid;\n",
       "  color: var(--sklearn-color-unfitted-level-1);\n",
       "}\n",
       "\n",
       ".sk-estimator-doc-link.fitted,\n",
       "a:link.sk-estimator-doc-link.fitted,\n",
       "a:visited.sk-estimator-doc-link.fitted {\n",
       "  /* fitted */\n",
       "  border: var(--sklearn-color-fitted-level-1) 1pt solid;\n",
       "  color: var(--sklearn-color-fitted-level-1);\n",
       "}\n",
       "\n",
       "/* On hover */\n",
       "div.sk-estimator:hover .sk-estimator-doc-link:hover,\n",
       ".sk-estimator-doc-link:hover,\n",
       "div.sk-label-container:hover .sk-estimator-doc-link:hover,\n",
       ".sk-estimator-doc-link:hover {\n",
       "  /* unfitted */\n",
       "  background-color: var(--sklearn-color-unfitted-level-3);\n",
       "  color: var(--sklearn-color-background);\n",
       "  text-decoration: none;\n",
       "}\n",
       "\n",
       "div.sk-estimator.fitted:hover .sk-estimator-doc-link.fitted:hover,\n",
       ".sk-estimator-doc-link.fitted:hover,\n",
       "div.sk-label-container:hover .sk-estimator-doc-link.fitted:hover,\n",
       ".sk-estimator-doc-link.fitted:hover {\n",
       "  /* fitted */\n",
       "  background-color: var(--sklearn-color-fitted-level-3);\n",
       "  color: var(--sklearn-color-background);\n",
       "  text-decoration: none;\n",
       "}\n",
       "\n",
       "/* Span, style for the box shown on hovering the info icon */\n",
       ".sk-estimator-doc-link span {\n",
       "  display: none;\n",
       "  z-index: 9999;\n",
       "  position: relative;\n",
       "  font-weight: normal;\n",
       "  right: .2ex;\n",
       "  padding: .5ex;\n",
       "  margin: .5ex;\n",
       "  width: min-content;\n",
       "  min-width: 20ex;\n",
       "  max-width: 50ex;\n",
       "  color: var(--sklearn-color-text);\n",
       "  box-shadow: 2pt 2pt 4pt #999;\n",
       "  /* unfitted */\n",
       "  background: var(--sklearn-color-unfitted-level-0);\n",
       "  border: .5pt solid var(--sklearn-color-unfitted-level-3);\n",
       "}\n",
       "\n",
       ".sk-estimator-doc-link.fitted span {\n",
       "  /* fitted */\n",
       "  background: var(--sklearn-color-fitted-level-0);\n",
       "  border: var(--sklearn-color-fitted-level-3);\n",
       "}\n",
       "\n",
       ".sk-estimator-doc-link:hover span {\n",
       "  display: block;\n",
       "}\n",
       "\n",
       "/* \"?\"-specific style due to the `<a>` HTML tag */\n",
       "\n",
       "#sk-container-id-1 a.estimator_doc_link {\n",
       "  float: right;\n",
       "  font-size: 1rem;\n",
       "  line-height: 1em;\n",
       "  font-family: monospace;\n",
       "  background-color: var(--sklearn-color-background);\n",
       "  border-radius: 1rem;\n",
       "  height: 1rem;\n",
       "  width: 1rem;\n",
       "  text-decoration: none;\n",
       "  /* unfitted */\n",
       "  color: var(--sklearn-color-unfitted-level-1);\n",
       "  border: var(--sklearn-color-unfitted-level-1) 1pt solid;\n",
       "}\n",
       "\n",
       "#sk-container-id-1 a.estimator_doc_link.fitted {\n",
       "  /* fitted */\n",
       "  border: var(--sklearn-color-fitted-level-1) 1pt solid;\n",
       "  color: var(--sklearn-color-fitted-level-1);\n",
       "}\n",
       "\n",
       "/* On hover */\n",
       "#sk-container-id-1 a.estimator_doc_link:hover {\n",
       "  /* unfitted */\n",
       "  background-color: var(--sklearn-color-unfitted-level-3);\n",
       "  color: var(--sklearn-color-background);\n",
       "  text-decoration: none;\n",
       "}\n",
       "\n",
       "#sk-container-id-1 a.estimator_doc_link.fitted:hover {\n",
       "  /* fitted */\n",
       "  background-color: var(--sklearn-color-fitted-level-3);\n",
       "}\n",
       "</style><div id=\"sk-container-id-1\" class=\"sk-top-container\"><div class=\"sk-text-repr-fallback\"><pre>Pipeline(steps=[(&#x27;scaler&#x27;, StandardScaler()),\n",
       "                (&#x27;ridge&#x27;, ElasticNet(alpha=0.03351602650938848, l1_ratio=0))])</pre><b>In a Jupyter environment, please rerun this cell to show the HTML representation or trust the notebook. <br />On GitHub, the HTML representation is unable to render, please try loading this page with nbviewer.org.</b></div><div class=\"sk-container\" hidden><div class=\"sk-item sk-dashed-wrapped\"><div class=\"sk-label-container\"><div class=\"sk-label fitted sk-toggleable\"><input class=\"sk-toggleable__control sk-hidden--visually\" id=\"sk-estimator-id-1\" type=\"checkbox\" ><label for=\"sk-estimator-id-1\" class=\"sk-toggleable__label fitted sk-toggleable__label-arrow fitted\">&nbsp;&nbsp;Pipeline<a class=\"sk-estimator-doc-link fitted\" rel=\"noreferrer\" target=\"_blank\" href=\"https://scikit-learn.org/1.4/modules/generated/sklearn.pipeline.Pipeline.html\">?<span>Documentation for Pipeline</span></a><span class=\"sk-estimator-doc-link fitted\">i<span>Fitted</span></span></label><div class=\"sk-toggleable__content fitted\"><pre>Pipeline(steps=[(&#x27;scaler&#x27;, StandardScaler()),\n",
       "                (&#x27;ridge&#x27;, ElasticNet(alpha=0.03351602650938848, l1_ratio=0))])</pre></div> </div></div><div class=\"sk-serial\"><div class=\"sk-item\"><div class=\"sk-estimator fitted sk-toggleable\"><input class=\"sk-toggleable__control sk-hidden--visually\" id=\"sk-estimator-id-2\" type=\"checkbox\" ><label for=\"sk-estimator-id-2\" class=\"sk-toggleable__label fitted sk-toggleable__label-arrow fitted\">&nbsp;StandardScaler<a class=\"sk-estimator-doc-link fitted\" rel=\"noreferrer\" target=\"_blank\" href=\"https://scikit-learn.org/1.4/modules/generated/sklearn.preprocessing.StandardScaler.html\">?<span>Documentation for StandardScaler</span></a></label><div class=\"sk-toggleable__content fitted\"><pre>StandardScaler()</pre></div> </div></div><div class=\"sk-item\"><div class=\"sk-estimator fitted sk-toggleable\"><input class=\"sk-toggleable__control sk-hidden--visually\" id=\"sk-estimator-id-3\" type=\"checkbox\" ><label for=\"sk-estimator-id-3\" class=\"sk-toggleable__label fitted sk-toggleable__label-arrow fitted\">&nbsp;ElasticNet<a class=\"sk-estimator-doc-link fitted\" rel=\"noreferrer\" target=\"_blank\" href=\"https://scikit-learn.org/1.4/modules/generated/sklearn.linear_model.ElasticNet.html\">?<span>Documentation for ElasticNet</span></a></label><div class=\"sk-toggleable__content fitted\"><pre>ElasticNet(alpha=0.03351602650938848, l1_ratio=0)</pre></div> </div></div></div></div></div></div>"
      ],
      "text/plain": [
       "Pipeline(steps=[('scaler', StandardScaler()),\n",
       "                ('ridge', ElasticNet(alpha=0.03351602650938848, l1_ratio=0))])"
      ]
     },
     "execution_count": 25,
     "metadata": {},
     "output_type": "execute_result"
    }
   ],
   "source": [
    "validation = skm.ShuffleSplit(n_splits=1, test_size=0.5, random_state=0)\n",
    "lambdas    = 10**np.linspace(8, -6, 100)\n",
    "param_grid = {'ridge__alpha': lambdas}\n",
    "grid       = skm.GridSearchCV(pipe, param_grid, cv=validation, scoring='neg_mean_squared_error')\n",
    "grid.fit(X, Y)\n",
    "# grid.best_params_['ridge__alpha']\n",
    "grid.best_estimator_"
   ]
  },
  {
   "cell_type": "code",
   "execution_count": 26,
   "id": "f92f4e49",
   "metadata": {},
   "outputs": [
    {
     "data": {
      "text/html": [
       "<style>#sk-container-id-2 {\n",
       "  /* Definition of color scheme common for light and dark mode */\n",
       "  --sklearn-color-text: black;\n",
       "  --sklearn-color-line: gray;\n",
       "  /* Definition of color scheme for unfitted estimators */\n",
       "  --sklearn-color-unfitted-level-0: #fff5e6;\n",
       "  --sklearn-color-unfitted-level-1: #f6e4d2;\n",
       "  --sklearn-color-unfitted-level-2: #ffe0b3;\n",
       "  --sklearn-color-unfitted-level-3: chocolate;\n",
       "  /* Definition of color scheme for fitted estimators */\n",
       "  --sklearn-color-fitted-level-0: #f0f8ff;\n",
       "  --sklearn-color-fitted-level-1: #d4ebff;\n",
       "  --sklearn-color-fitted-level-2: #b3dbfd;\n",
       "  --sklearn-color-fitted-level-3: cornflowerblue;\n",
       "\n",
       "  /* Specific color for light theme */\n",
       "  --sklearn-color-text-on-default-background: var(--sg-text-color, var(--theme-code-foreground, var(--jp-content-font-color1, black)));\n",
       "  --sklearn-color-background: var(--sg-background-color, var(--theme-background, var(--jp-layout-color0, white)));\n",
       "  --sklearn-color-border-box: var(--sg-text-color, var(--theme-code-foreground, var(--jp-content-font-color1, black)));\n",
       "  --sklearn-color-icon: #696969;\n",
       "\n",
       "  @media (prefers-color-scheme: dark) {\n",
       "    /* Redefinition of color scheme for dark theme */\n",
       "    --sklearn-color-text-on-default-background: var(--sg-text-color, var(--theme-code-foreground, var(--jp-content-font-color1, white)));\n",
       "    --sklearn-color-background: var(--sg-background-color, var(--theme-background, var(--jp-layout-color0, #111)));\n",
       "    --sklearn-color-border-box: var(--sg-text-color, var(--theme-code-foreground, var(--jp-content-font-color1, white)));\n",
       "    --sklearn-color-icon: #878787;\n",
       "  }\n",
       "}\n",
       "\n",
       "#sk-container-id-2 {\n",
       "  color: var(--sklearn-color-text);\n",
       "}\n",
       "\n",
       "#sk-container-id-2 pre {\n",
       "  padding: 0;\n",
       "}\n",
       "\n",
       "#sk-container-id-2 input.sk-hidden--visually {\n",
       "  border: 0;\n",
       "  clip: rect(1px 1px 1px 1px);\n",
       "  clip: rect(1px, 1px, 1px, 1px);\n",
       "  height: 1px;\n",
       "  margin: -1px;\n",
       "  overflow: hidden;\n",
       "  padding: 0;\n",
       "  position: absolute;\n",
       "  width: 1px;\n",
       "}\n",
       "\n",
       "#sk-container-id-2 div.sk-dashed-wrapped {\n",
       "  border: 1px dashed var(--sklearn-color-line);\n",
       "  margin: 0 0.4em 0.5em 0.4em;\n",
       "  box-sizing: border-box;\n",
       "  padding-bottom: 0.4em;\n",
       "  background-color: var(--sklearn-color-background);\n",
       "}\n",
       "\n",
       "#sk-container-id-2 div.sk-container {\n",
       "  /* jupyter's `normalize.less` sets `[hidden] { display: none; }`\n",
       "     but bootstrap.min.css set `[hidden] { display: none !important; }`\n",
       "     so we also need the `!important` here to be able to override the\n",
       "     default hidden behavior on the sphinx rendered scikit-learn.org.\n",
       "     See: https://github.com/scikit-learn/scikit-learn/issues/21755 */\n",
       "  display: inline-block !important;\n",
       "  position: relative;\n",
       "}\n",
       "\n",
       "#sk-container-id-2 div.sk-text-repr-fallback {\n",
       "  display: none;\n",
       "}\n",
       "\n",
       "div.sk-parallel-item,\n",
       "div.sk-serial,\n",
       "div.sk-item {\n",
       "  /* draw centered vertical line to link estimators */\n",
       "  background-image: linear-gradient(var(--sklearn-color-text-on-default-background), var(--sklearn-color-text-on-default-background));\n",
       "  background-size: 2px 100%;\n",
       "  background-repeat: no-repeat;\n",
       "  background-position: center center;\n",
       "}\n",
       "\n",
       "/* Parallel-specific style estimator block */\n",
       "\n",
       "#sk-container-id-2 div.sk-parallel-item::after {\n",
       "  content: \"\";\n",
       "  width: 100%;\n",
       "  border-bottom: 2px solid var(--sklearn-color-text-on-default-background);\n",
       "  flex-grow: 1;\n",
       "}\n",
       "\n",
       "#sk-container-id-2 div.sk-parallel {\n",
       "  display: flex;\n",
       "  align-items: stretch;\n",
       "  justify-content: center;\n",
       "  background-color: var(--sklearn-color-background);\n",
       "  position: relative;\n",
       "}\n",
       "\n",
       "#sk-container-id-2 div.sk-parallel-item {\n",
       "  display: flex;\n",
       "  flex-direction: column;\n",
       "}\n",
       "\n",
       "#sk-container-id-2 div.sk-parallel-item:first-child::after {\n",
       "  align-self: flex-end;\n",
       "  width: 50%;\n",
       "}\n",
       "\n",
       "#sk-container-id-2 div.sk-parallel-item:last-child::after {\n",
       "  align-self: flex-start;\n",
       "  width: 50%;\n",
       "}\n",
       "\n",
       "#sk-container-id-2 div.sk-parallel-item:only-child::after {\n",
       "  width: 0;\n",
       "}\n",
       "\n",
       "/* Serial-specific style estimator block */\n",
       "\n",
       "#sk-container-id-2 div.sk-serial {\n",
       "  display: flex;\n",
       "  flex-direction: column;\n",
       "  align-items: center;\n",
       "  background-color: var(--sklearn-color-background);\n",
       "  padding-right: 1em;\n",
       "  padding-left: 1em;\n",
       "}\n",
       "\n",
       "\n",
       "/* Toggleable style: style used for estimator/Pipeline/ColumnTransformer box that is\n",
       "clickable and can be expanded/collapsed.\n",
       "- Pipeline and ColumnTransformer use this feature and define the default style\n",
       "- Estimators will overwrite some part of the style using the `sk-estimator` class\n",
       "*/\n",
       "\n",
       "/* Pipeline and ColumnTransformer style (default) */\n",
       "\n",
       "#sk-container-id-2 div.sk-toggleable {\n",
       "  /* Default theme specific background. It is overwritten whether we have a\n",
       "  specific estimator or a Pipeline/ColumnTransformer */\n",
       "  background-color: var(--sklearn-color-background);\n",
       "}\n",
       "\n",
       "/* Toggleable label */\n",
       "#sk-container-id-2 label.sk-toggleable__label {\n",
       "  cursor: pointer;\n",
       "  display: block;\n",
       "  width: 100%;\n",
       "  margin-bottom: 0;\n",
       "  padding: 0.5em;\n",
       "  box-sizing: border-box;\n",
       "  text-align: center;\n",
       "}\n",
       "\n",
       "#sk-container-id-2 label.sk-toggleable__label-arrow:before {\n",
       "  /* Arrow on the left of the label */\n",
       "  content: \"▸\";\n",
       "  float: left;\n",
       "  margin-right: 0.25em;\n",
       "  color: var(--sklearn-color-icon);\n",
       "}\n",
       "\n",
       "#sk-container-id-2 label.sk-toggleable__label-arrow:hover:before {\n",
       "  color: var(--sklearn-color-text);\n",
       "}\n",
       "\n",
       "/* Toggleable content - dropdown */\n",
       "\n",
       "#sk-container-id-2 div.sk-toggleable__content {\n",
       "  max-height: 0;\n",
       "  max-width: 0;\n",
       "  overflow: hidden;\n",
       "  text-align: left;\n",
       "  /* unfitted */\n",
       "  background-color: var(--sklearn-color-unfitted-level-0);\n",
       "}\n",
       "\n",
       "#sk-container-id-2 div.sk-toggleable__content.fitted {\n",
       "  /* fitted */\n",
       "  background-color: var(--sklearn-color-fitted-level-0);\n",
       "}\n",
       "\n",
       "#sk-container-id-2 div.sk-toggleable__content pre {\n",
       "  margin: 0.2em;\n",
       "  border-radius: 0.25em;\n",
       "  color: var(--sklearn-color-text);\n",
       "  /* unfitted */\n",
       "  background-color: var(--sklearn-color-unfitted-level-0);\n",
       "}\n",
       "\n",
       "#sk-container-id-2 div.sk-toggleable__content.fitted pre {\n",
       "  /* unfitted */\n",
       "  background-color: var(--sklearn-color-fitted-level-0);\n",
       "}\n",
       "\n",
       "#sk-container-id-2 input.sk-toggleable__control:checked~div.sk-toggleable__content {\n",
       "  /* Expand drop-down */\n",
       "  max-height: 200px;\n",
       "  max-width: 100%;\n",
       "  overflow: auto;\n",
       "}\n",
       "\n",
       "#sk-container-id-2 input.sk-toggleable__control:checked~label.sk-toggleable__label-arrow:before {\n",
       "  content: \"▾\";\n",
       "}\n",
       "\n",
       "/* Pipeline/ColumnTransformer-specific style */\n",
       "\n",
       "#sk-container-id-2 div.sk-label input.sk-toggleable__control:checked~label.sk-toggleable__label {\n",
       "  color: var(--sklearn-color-text);\n",
       "  background-color: var(--sklearn-color-unfitted-level-2);\n",
       "}\n",
       "\n",
       "#sk-container-id-2 div.sk-label.fitted input.sk-toggleable__control:checked~label.sk-toggleable__label {\n",
       "  background-color: var(--sklearn-color-fitted-level-2);\n",
       "}\n",
       "\n",
       "/* Estimator-specific style */\n",
       "\n",
       "/* Colorize estimator box */\n",
       "#sk-container-id-2 div.sk-estimator input.sk-toggleable__control:checked~label.sk-toggleable__label {\n",
       "  /* unfitted */\n",
       "  background-color: var(--sklearn-color-unfitted-level-2);\n",
       "}\n",
       "\n",
       "#sk-container-id-2 div.sk-estimator.fitted input.sk-toggleable__control:checked~label.sk-toggleable__label {\n",
       "  /* fitted */\n",
       "  background-color: var(--sklearn-color-fitted-level-2);\n",
       "}\n",
       "\n",
       "#sk-container-id-2 div.sk-label label.sk-toggleable__label,\n",
       "#sk-container-id-2 div.sk-label label {\n",
       "  /* The background is the default theme color */\n",
       "  color: var(--sklearn-color-text-on-default-background);\n",
       "}\n",
       "\n",
       "/* On hover, darken the color of the background */\n",
       "#sk-container-id-2 div.sk-label:hover label.sk-toggleable__label {\n",
       "  color: var(--sklearn-color-text);\n",
       "  background-color: var(--sklearn-color-unfitted-level-2);\n",
       "}\n",
       "\n",
       "/* Label box, darken color on hover, fitted */\n",
       "#sk-container-id-2 div.sk-label.fitted:hover label.sk-toggleable__label.fitted {\n",
       "  color: var(--sklearn-color-text);\n",
       "  background-color: var(--sklearn-color-fitted-level-2);\n",
       "}\n",
       "\n",
       "/* Estimator label */\n",
       "\n",
       "#sk-container-id-2 div.sk-label label {\n",
       "  font-family: monospace;\n",
       "  font-weight: bold;\n",
       "  display: inline-block;\n",
       "  line-height: 1.2em;\n",
       "}\n",
       "\n",
       "#sk-container-id-2 div.sk-label-container {\n",
       "  text-align: center;\n",
       "}\n",
       "\n",
       "/* Estimator-specific */\n",
       "#sk-container-id-2 div.sk-estimator {\n",
       "  font-family: monospace;\n",
       "  border: 1px dotted var(--sklearn-color-border-box);\n",
       "  border-radius: 0.25em;\n",
       "  box-sizing: border-box;\n",
       "  margin-bottom: 0.5em;\n",
       "  /* unfitted */\n",
       "  background-color: var(--sklearn-color-unfitted-level-0);\n",
       "}\n",
       "\n",
       "#sk-container-id-2 div.sk-estimator.fitted {\n",
       "  /* fitted */\n",
       "  background-color: var(--sklearn-color-fitted-level-0);\n",
       "}\n",
       "\n",
       "/* on hover */\n",
       "#sk-container-id-2 div.sk-estimator:hover {\n",
       "  /* unfitted */\n",
       "  background-color: var(--sklearn-color-unfitted-level-2);\n",
       "}\n",
       "\n",
       "#sk-container-id-2 div.sk-estimator.fitted:hover {\n",
       "  /* fitted */\n",
       "  background-color: var(--sklearn-color-fitted-level-2);\n",
       "}\n",
       "\n",
       "/* Specification for estimator info (e.g. \"i\" and \"?\") */\n",
       "\n",
       "/* Common style for \"i\" and \"?\" */\n",
       "\n",
       ".sk-estimator-doc-link,\n",
       "a:link.sk-estimator-doc-link,\n",
       "a:visited.sk-estimator-doc-link {\n",
       "  float: right;\n",
       "  font-size: smaller;\n",
       "  line-height: 1em;\n",
       "  font-family: monospace;\n",
       "  background-color: var(--sklearn-color-background);\n",
       "  border-radius: 1em;\n",
       "  height: 1em;\n",
       "  width: 1em;\n",
       "  text-decoration: none !important;\n",
       "  margin-left: 1ex;\n",
       "  /* unfitted */\n",
       "  border: var(--sklearn-color-unfitted-level-1) 1pt solid;\n",
       "  color: var(--sklearn-color-unfitted-level-1);\n",
       "}\n",
       "\n",
       ".sk-estimator-doc-link.fitted,\n",
       "a:link.sk-estimator-doc-link.fitted,\n",
       "a:visited.sk-estimator-doc-link.fitted {\n",
       "  /* fitted */\n",
       "  border: var(--sklearn-color-fitted-level-1) 1pt solid;\n",
       "  color: var(--sklearn-color-fitted-level-1);\n",
       "}\n",
       "\n",
       "/* On hover */\n",
       "div.sk-estimator:hover .sk-estimator-doc-link:hover,\n",
       ".sk-estimator-doc-link:hover,\n",
       "div.sk-label-container:hover .sk-estimator-doc-link:hover,\n",
       ".sk-estimator-doc-link:hover {\n",
       "  /* unfitted */\n",
       "  background-color: var(--sklearn-color-unfitted-level-3);\n",
       "  color: var(--sklearn-color-background);\n",
       "  text-decoration: none;\n",
       "}\n",
       "\n",
       "div.sk-estimator.fitted:hover .sk-estimator-doc-link.fitted:hover,\n",
       ".sk-estimator-doc-link.fitted:hover,\n",
       "div.sk-label-container:hover .sk-estimator-doc-link.fitted:hover,\n",
       ".sk-estimator-doc-link.fitted:hover {\n",
       "  /* fitted */\n",
       "  background-color: var(--sklearn-color-fitted-level-3);\n",
       "  color: var(--sklearn-color-background);\n",
       "  text-decoration: none;\n",
       "}\n",
       "\n",
       "/* Span, style for the box shown on hovering the info icon */\n",
       ".sk-estimator-doc-link span {\n",
       "  display: none;\n",
       "  z-index: 9999;\n",
       "  position: relative;\n",
       "  font-weight: normal;\n",
       "  right: .2ex;\n",
       "  padding: .5ex;\n",
       "  margin: .5ex;\n",
       "  width: min-content;\n",
       "  min-width: 20ex;\n",
       "  max-width: 50ex;\n",
       "  color: var(--sklearn-color-text);\n",
       "  box-shadow: 2pt 2pt 4pt #999;\n",
       "  /* unfitted */\n",
       "  background: var(--sklearn-color-unfitted-level-0);\n",
       "  border: .5pt solid var(--sklearn-color-unfitted-level-3);\n",
       "}\n",
       "\n",
       ".sk-estimator-doc-link.fitted span {\n",
       "  /* fitted */\n",
       "  background: var(--sklearn-color-fitted-level-0);\n",
       "  border: var(--sklearn-color-fitted-level-3);\n",
       "}\n",
       "\n",
       ".sk-estimator-doc-link:hover span {\n",
       "  display: block;\n",
       "}\n",
       "\n",
       "/* \"?\"-specific style due to the `<a>` HTML tag */\n",
       "\n",
       "#sk-container-id-2 a.estimator_doc_link {\n",
       "  float: right;\n",
       "  font-size: 1rem;\n",
       "  line-height: 1em;\n",
       "  font-family: monospace;\n",
       "  background-color: var(--sklearn-color-background);\n",
       "  border-radius: 1rem;\n",
       "  height: 1rem;\n",
       "  width: 1rem;\n",
       "  text-decoration: none;\n",
       "  /* unfitted */\n",
       "  color: var(--sklearn-color-unfitted-level-1);\n",
       "  border: var(--sklearn-color-unfitted-level-1) 1pt solid;\n",
       "}\n",
       "\n",
       "#sk-container-id-2 a.estimator_doc_link.fitted {\n",
       "  /* fitted */\n",
       "  border: var(--sklearn-color-fitted-level-1) 1pt solid;\n",
       "  color: var(--sklearn-color-fitted-level-1);\n",
       "}\n",
       "\n",
       "/* On hover */\n",
       "#sk-container-id-2 a.estimator_doc_link:hover {\n",
       "  /* unfitted */\n",
       "  background-color: var(--sklearn-color-unfitted-level-3);\n",
       "  color: var(--sklearn-color-background);\n",
       "  text-decoration: none;\n",
       "}\n",
       "\n",
       "#sk-container-id-2 a.estimator_doc_link.fitted:hover {\n",
       "  /* fitted */\n",
       "  background-color: var(--sklearn-color-fitted-level-3);\n",
       "}\n",
       "</style><div id=\"sk-container-id-2\" class=\"sk-top-container\"><div class=\"sk-text-repr-fallback\"><pre>Pipeline(steps=[(&#x27;scaler&#x27;, StandardScaler()),\n",
       "                (&#x27;ridge&#x27;, ElasticNet(alpha=0.006579332246575682, l1_ratio=0))])</pre><b>In a Jupyter environment, please rerun this cell to show the HTML representation or trust the notebook. <br />On GitHub, the HTML representation is unable to render, please try loading this page with nbviewer.org.</b></div><div class=\"sk-container\" hidden><div class=\"sk-item sk-dashed-wrapped\"><div class=\"sk-label-container\"><div class=\"sk-label fitted sk-toggleable\"><input class=\"sk-toggleable__control sk-hidden--visually\" id=\"sk-estimator-id-4\" type=\"checkbox\" ><label for=\"sk-estimator-id-4\" class=\"sk-toggleable__label fitted sk-toggleable__label-arrow fitted\">&nbsp;&nbsp;Pipeline<a class=\"sk-estimator-doc-link fitted\" rel=\"noreferrer\" target=\"_blank\" href=\"https://scikit-learn.org/1.4/modules/generated/sklearn.pipeline.Pipeline.html\">?<span>Documentation for Pipeline</span></a><span class=\"sk-estimator-doc-link fitted\">i<span>Fitted</span></span></label><div class=\"sk-toggleable__content fitted\"><pre>Pipeline(steps=[(&#x27;scaler&#x27;, StandardScaler()),\n",
       "                (&#x27;ridge&#x27;, ElasticNet(alpha=0.006579332246575682, l1_ratio=0))])</pre></div> </div></div><div class=\"sk-serial\"><div class=\"sk-item\"><div class=\"sk-estimator fitted sk-toggleable\"><input class=\"sk-toggleable__control sk-hidden--visually\" id=\"sk-estimator-id-5\" type=\"checkbox\" ><label for=\"sk-estimator-id-5\" class=\"sk-toggleable__label fitted sk-toggleable__label-arrow fitted\">&nbsp;StandardScaler<a class=\"sk-estimator-doc-link fitted\" rel=\"noreferrer\" target=\"_blank\" href=\"https://scikit-learn.org/1.4/modules/generated/sklearn.preprocessing.StandardScaler.html\">?<span>Documentation for StandardScaler</span></a></label><div class=\"sk-toggleable__content fitted\"><pre>StandardScaler()</pre></div> </div></div><div class=\"sk-item\"><div class=\"sk-estimator fitted sk-toggleable\"><input class=\"sk-toggleable__control sk-hidden--visually\" id=\"sk-estimator-id-6\" type=\"checkbox\" ><label for=\"sk-estimator-id-6\" class=\"sk-toggleable__label fitted sk-toggleable__label-arrow fitted\">&nbsp;ElasticNet<a class=\"sk-estimator-doc-link fitted\" rel=\"noreferrer\" target=\"_blank\" href=\"https://scikit-learn.org/1.4/modules/generated/sklearn.linear_model.ElasticNet.html\">?<span>Documentation for ElasticNet</span></a></label><div class=\"sk-toggleable__content fitted\"><pre>ElasticNet(alpha=0.006579332246575682, l1_ratio=0)</pre></div> </div></div></div></div></div></div>"
      ],
      "text/plain": [
       "Pipeline(steps=[('scaler', StandardScaler()),\n",
       "                ('ridge', ElasticNet(alpha=0.006579332246575682, l1_ratio=0))])"
      ]
     },
     "execution_count": 26,
     "metadata": {},
     "output_type": "execute_result"
    }
   ],
   "source": [
    "K          = 5\n",
    "kfold      = skm.KFold(K, random_state=0, shuffle=True)\n",
    "lambdas    = 10**np.linspace(8, -6, 100)\n",
    "param_grid = {'ridge__alpha': lambdas}\n",
    "grid       = skm.GridSearchCV(pipe, param_grid, cv=kfold, scoring='neg_mean_squared_error')\n",
    "grid.fit(X, Y)\n",
    "grid.best_estimator_"
   ]
  },
  {
   "cell_type": "code",
   "execution_count": 27,
   "id": "bc4d10ce",
   "metadata": {},
   "outputs": [
    {
     "data": {
      "text/plain": [
       "Text(0, 0.5, 'Cross-validated MSE')"
      ]
     },
     "execution_count": 27,
     "metadata": {},
     "output_type": "execute_result"
    },
    {
     "data": {
      "image/png": "[encoded data removed]",
      "text/plain": [
       "<Figure size 800x600 with 1 Axes>"
      ]
     },
     "metadata": {},
     "output_type": "display_data"
    }
   ],
   "source": [
    "ridge_fig, ax = subplots(figsize=(8,6))\n",
    "ax.errorbar(np.log(lambdas), -grid.cv_results_['mean_test_score'], yerr=grid.cv_results_['std_test_score'] / np.sqrt(K))\n",
    "ax.set_xlabel(r'$\\log(\\lambda)$', fontsize=15)\n",
    "ax.set_ylabel('Cross-validated MSE', fontsize=15)"
   ]
  },
  {
   "cell_type": "code",
   "execution_count": 28,
   "id": "a3169f14",
   "metadata": {},
   "outputs": [],
   "source": [
    "# Dividimos nuestra data en 'train' and 'test' sets\n",
    "# Evaluar el performance en el set de 'test'\n",
    "\n",
    "target = [ 'Sales' ]\n",
    "predictors = [ var for var in carseats.columns if var not in target ]\n",
    "\n",
    "X_train, X_test, y_train, y_test = skm.train_test_split(carseats[predictors], carseats[target], test_size=0.25, random_state=1)\n",
    "y_train = np.ravel(y_train)\n",
    "y_test = np.ravel(y_test)"
   ]
  },
  {
   "cell_type": "code",
   "execution_count": 29,
   "id": "d15ec3bd",
   "metadata": {},
   "outputs": [
    {
     "data": {
      "text/plain": [
       "Text(0, 0.5, 'Cross-validated MSE')"
      ]
     },
     "execution_count": 29,
     "metadata": {},
     "output_type": "execute_result"
    },
    {
     "data": {
      "image/png": "[encoded data removed]",
      "text/plain": [
       "<Figure size 800x800 with 1 Axes>"
      ]
     },
     "metadata": {},
     "output_type": "display_data"
    }
   ],
   "source": [
    "# Desplegar modelo\n",
    "ridgeCV = skl.ElasticNetCV(alphas=lambdas, l1_ratio=0, cv=kfold)\n",
    "pipeCV = Pipeline(steps=[('scaler', scaler), ('ridge', ridgeCV)])\n",
    "pipeCV.fit(X_train, y_train)\n",
    "y_pred_ridge = pipeCV.predict(X_test)\n",
    "\n",
    "# Plot\n",
    "tuned_ridge = pipeCV.named_steps['ridge']\n",
    "ridgeCV_fig, ax = subplots(figsize=(8,8))\n",
    "ax.errorbar(np.log(lambdas), tuned_ridge.mse_path_.mean(1), yerr=tuned_ridge.mse_path_.std(1) / np.sqrt(K))\n",
    "ax.axvline(np.log(tuned_ridge.alpha_), c='k', ls='--')\n",
    "ax.set_xlabel(r'$\\log(\\lambda)$', fontsize=20)\n",
    "ax.set_ylabel('Cross-validated MSE', fontsize=20)"
   ]
  },
  {
   "cell_type": "code",
   "execution_count": 30,
   "id": "dd5f4d2c",
   "metadata": {},
   "outputs": [
    {
     "name": "stdout",
     "output_type": "stream",
     "text": [
      "The optimal value of lambda is: -8.280\n"
     ]
    }
   ],
   "source": [
    "selected_alpha = np.log(tuned_ridge.alpha_)\n",
    "print(f'The optimal value of lambda is: {selected_alpha:.3f}')"
   ]
  },
  {
   "cell_type": "code",
   "execution_count": 31,
   "id": "3d9dc3c2",
   "metadata": {},
   "outputs": [
    {
     "name": "stdout",
     "output_type": "stream",
     "text": [
      "The MSE on the test set is: 1.133\n"
     ]
    }
   ],
   "source": [
    "np.min(tuned_ridge.mse_path_.mean(1))\n",
    "mse_ridge = round(mean_squared_error(y_test, y_pred_ridge), 3)\n",
    "print(f'The MSE on the test set is: {mse_ridge:.3f}')"
   ]
  },
  {
   "cell_type": "code",
   "execution_count": 32,
   "id": "db960513",
   "metadata": {},
   "outputs": [
    {
     "data": {
      "text/html": [
       "<div>\n",
       "<style scoped>\n",
       "    .dataframe tbody tr th:only-of-type {\n",
       "        vertical-align: middle;\n",
       "    }\n",
       "\n",
       "    .dataframe tbody tr th {\n",
       "        vertical-align: top;\n",
       "    }\n",
       "\n",
       "    .dataframe thead th {\n",
       "        text-align: right;\n",
       "    }\n",
       "</style>\n",
       "<table border=\"1\" class=\"dataframe\">\n",
       "  <thead>\n",
       "    <tr style=\"text-align: right;\">\n",
       "      <th></th>\n",
       "      <th>Variable</th>\n",
       "      <th>Coefficient</th>\n",
       "    </tr>\n",
       "  </thead>\n",
       "  <tbody>\n",
       "    <tr>\n",
       "      <th>0</th>\n",
       "      <td>CompPrice</td>\n",
       "      <td>1.428266</td>\n",
       "    </tr>\n",
       "    <tr>\n",
       "      <th>8</th>\n",
       "      <td>ShelveLoc_Good</td>\n",
       "      <td>1.212135</td>\n",
       "    </tr>\n",
       "    <tr>\n",
       "      <th>2</th>\n",
       "      <td>Advertising</td>\n",
       "      <td>0.837990</td>\n",
       "    </tr>\n",
       "    <tr>\n",
       "      <th>1</th>\n",
       "      <td>Income</td>\n",
       "      <td>0.392254</td>\n",
       "    </tr>\n",
       "    <tr>\n",
       "      <th>9</th>\n",
       "      <td>Urban</td>\n",
       "      <td>0.089344</td>\n",
       "    </tr>\n",
       "    <tr>\n",
       "      <th>3</th>\n",
       "      <td>Population</td>\n",
       "      <td>-0.039191</td>\n",
       "    </tr>\n",
       "    <tr>\n",
       "      <th>6</th>\n",
       "      <td>Education</td>\n",
       "      <td>-0.057906</td>\n",
       "    </tr>\n",
       "    <tr>\n",
       "      <th>10</th>\n",
       "      <td>US</td>\n",
       "      <td>-0.114209</td>\n",
       "    </tr>\n",
       "    <tr>\n",
       "      <th>5</th>\n",
       "      <td>Age</td>\n",
       "      <td>-0.821331</td>\n",
       "    </tr>\n",
       "    <tr>\n",
       "      <th>7</th>\n",
       "      <td>ShelveLoc_Bad</td>\n",
       "      <td>-0.877963</td>\n",
       "    </tr>\n",
       "    <tr>\n",
       "      <th>4</th>\n",
       "      <td>Price</td>\n",
       "      <td>-2.199182</td>\n",
       "    </tr>\n",
       "  </tbody>\n",
       "</table>\n",
       "</div>"
      ],
      "text/plain": [
       "          Variable  Coefficient\n",
       "0        CompPrice     1.428266\n",
       "8   ShelveLoc_Good     1.212135\n",
       "2      Advertising     0.837990\n",
       "1           Income     0.392254\n",
       "9            Urban     0.089344\n",
       "3       Population    -0.039191\n",
       "6        Education    -0.057906\n",
       "10              US    -0.114209\n",
       "5              Age    -0.821331\n",
       "7    ShelveLoc_Bad    -0.877963\n",
       "4            Price    -2.199182"
      ]
     },
     "execution_count": 32,
     "metadata": {},
     "output_type": "execute_result"
    }
   ],
   "source": [
    "# Coeficientes\n",
    "ridge_coefs = tuned_ridge.coef_\n",
    "ridge_df = pd.DataFrame({'Variable': X.columns,'Coefficient': ridge_coefs})\n",
    "ridge_df = ridge_df.sort_values(by='Coefficient', ascending=False)\n",
    "ridge_df"
   ]
  },
  {
   "cell_type": "markdown",
   "id": "593b92cc",
   "metadata": {},
   "source": [
    "a.2) Lasso"
   ]
  },
  {
   "cell_type": "code",
   "execution_count": 33,
   "id": "1ee429a5",
   "metadata": {},
   "outputs": [
    {
     "data": {
      "image/png": "[encoded data removed]",
      "text/plain": [
       "<Figure size 800x800 with 1 Axes>"
      ]
     },
     "metadata": {},
     "output_type": "display_data"
    }
   ],
   "source": [
    "Xs = scaler.fit_transform(X)\n",
    "lambdas = 10**np.linspace(8, -6, 100)\n",
    "soln_array = skl.ElasticNet.path(Xs, Y, l1_ratio=1, alphas=lambdas)[1]\n",
    "# Ver coeficientes\n",
    "soln_path = pd.DataFrame(soln_array.T, columns=X.columns, index=np.log(lambdas))\n",
    "soln_path.index.name = 'negative log(lambda)'\n",
    "soln_path\n",
    "# Plot\n",
    "path_fig, ax = subplots(figsize=(8,8))\n",
    "soln_path.plot(ax=ax, legend=False)\n",
    "ax.legend(loc='upper left')\n",
    "ax.set_xlabel(r'$\\log(\\lambda)$', fontsize=15)\n",
    "ax.set_ylabel('Standardized coefficiients', fontsize=15)\n",
    "ax.legend(loc='center left', bbox_to_anchor=(1, 0.5))\n",
    "path_fig.tight_layout()"
   ]
  },
  {
   "cell_type": "code",
   "execution_count": 34,
   "id": "47f85976",
   "metadata": {},
   "outputs": [],
   "source": [
    "# Desplegar el modelo lasso a través de la Validación Cruzada \n",
    "# incluida en el método de Conjunto de Validación\n",
    "kfold   = skm.KFold(n_splits=5, random_state=0, shuffle=True)\n",
    "lambdas = 10**np.linspace(8, -6, 100)\n",
    "scaler  = StandardScaler(with_mean=True, with_std=True)\n",
    "lassoCV = skl.ElasticNetCV(alphas=lambdas, l1_ratio=1,cv=kfold)\n",
    "pipeCV_lasso = Pipeline(steps=[('scaler', scaler), ('lasso', lassoCV)])\n",
    "pipeCV_lasso.fit(X_train, y_train)\n",
    "y_pred_lasso = pipeCV_lasso.predict(X_test)"
   ]
  },
  {
   "cell_type": "code",
   "execution_count": 35,
   "id": "e5bfa557",
   "metadata": {},
   "outputs": [
    {
     "data": {
      "text/plain": [
       "Text(0, 0.5, 'Cross-validated MSE')"
      ]
     },
     "execution_count": 35,
     "metadata": {},
     "output_type": "execute_result"
    },
    {
     "data": {
      "image/png": "[encoded data removed]",
      "text/plain": [
       "<Figure size 800x800 with 1 Axes>"
      ]
     },
     "metadata": {},
     "output_type": "display_data"
    }
   ],
   "source": [
    "# Graficar error de la Validación Cruzada\n",
    "tuned_lasso = pipeCV_lasso.named_steps['lasso']\n",
    "lassoCV_fig, ax = subplots(figsize=(8,8))\n",
    "ax.errorbar(np.log(tuned_lasso.alphas_), tuned_lasso.mse_path_.mean(1), yerr=tuned_lasso.mse_path_.std(1) / np.sqrt(K))\n",
    "ax.axvline(np.log(tuned_lasso.alpha_), c='k', ls='--')\n",
    "ax.set_xlabel(r'$\\log(\\lambda)$', fontsize=15)\n",
    "ax.set_ylabel('Cross-validated MSE', fontsize=15)"
   ]
  },
  {
   "cell_type": "code",
   "execution_count": 36,
   "id": "b852379c",
   "metadata": {},
   "outputs": [
    {
     "name": "stdout",
     "output_type": "stream",
     "text": [
      "The optimal value of lambda is: -13.816\n"
     ]
    }
   ],
   "source": [
    "selected_alpha = np.log(tuned_lasso.alpha_)\n",
    "print(f'The optimal value of lambda is: {selected_alpha:.3f}')"
   ]
  },
  {
   "cell_type": "code",
   "execution_count": 37,
   "id": "62cd3c8d",
   "metadata": {},
   "outputs": [
    {
     "name": "stdout",
     "output_type": "stream",
     "text": [
      "The MSE on the test set is: 1.134\n"
     ]
    }
   ],
   "source": [
    "np.min(tuned_lasso.mse_path_.mean(1))\n",
    "mse_lasso = round(mean_squared_error(y_test, y_pred_lasso), 3)\n",
    "print(f'The MSE on the test set is: {mse_lasso:.3f}')"
   ]
  },
  {
   "cell_type": "code",
   "execution_count": 38,
   "id": "cf7a0acc",
   "metadata": {},
   "outputs": [
    {
     "data": {
      "text/html": [
       "<div>\n",
       "<style scoped>\n",
       "    .dataframe tbody tr th:only-of-type {\n",
       "        vertical-align: middle;\n",
       "    }\n",
       "\n",
       "    .dataframe tbody tr th {\n",
       "        vertical-align: top;\n",
       "    }\n",
       "\n",
       "    .dataframe thead th {\n",
       "        text-align: right;\n",
       "    }\n",
       "</style>\n",
       "<table border=\"1\" class=\"dataframe\">\n",
       "  <thead>\n",
       "    <tr style=\"text-align: right;\">\n",
       "      <th></th>\n",
       "      <th>Variable</th>\n",
       "      <th>Coefficient</th>\n",
       "    </tr>\n",
       "  </thead>\n",
       "  <tbody>\n",
       "    <tr>\n",
       "      <th>0</th>\n",
       "      <td>CompPrice</td>\n",
       "      <td>1.429328</td>\n",
       "    </tr>\n",
       "    <tr>\n",
       "      <th>8</th>\n",
       "      <td>ShelveLoc_Good</td>\n",
       "      <td>1.212400</td>\n",
       "    </tr>\n",
       "    <tr>\n",
       "      <th>2</th>\n",
       "      <td>Advertising</td>\n",
       "      <td>0.838509</td>\n",
       "    </tr>\n",
       "    <tr>\n",
       "      <th>1</th>\n",
       "      <td>Income</td>\n",
       "      <td>0.392375</td>\n",
       "    </tr>\n",
       "    <tr>\n",
       "      <th>9</th>\n",
       "      <td>Urban</td>\n",
       "      <td>0.089385</td>\n",
       "    </tr>\n",
       "    <tr>\n",
       "      <th>3</th>\n",
       "      <td>Population</td>\n",
       "      <td>-0.039174</td>\n",
       "    </tr>\n",
       "    <tr>\n",
       "      <th>6</th>\n",
       "      <td>Education</td>\n",
       "      <td>-0.057913</td>\n",
       "    </tr>\n",
       "    <tr>\n",
       "      <th>10</th>\n",
       "      <td>US</td>\n",
       "      <td>-0.114592</td>\n",
       "    </tr>\n",
       "    <tr>\n",
       "      <th>5</th>\n",
       "      <td>Age</td>\n",
       "      <td>-0.821593</td>\n",
       "    </tr>\n",
       "    <tr>\n",
       "      <th>7</th>\n",
       "      <td>ShelveLoc_Bad</td>\n",
       "      <td>-0.878074</td>\n",
       "    </tr>\n",
       "    <tr>\n",
       "      <th>4</th>\n",
       "      <td>Price</td>\n",
       "      <td>-2.200410</td>\n",
       "    </tr>\n",
       "  </tbody>\n",
       "</table>\n",
       "</div>"
      ],
      "text/plain": [
       "          Variable  Coefficient\n",
       "0        CompPrice     1.429328\n",
       "8   ShelveLoc_Good     1.212400\n",
       "2      Advertising     0.838509\n",
       "1           Income     0.392375\n",
       "9            Urban     0.089385\n",
       "3       Population    -0.039174\n",
       "6        Education    -0.057913\n",
       "10              US    -0.114592\n",
       "5              Age    -0.821593\n",
       "7    ShelveLoc_Bad    -0.878074\n",
       "4            Price    -2.200410"
      ]
     },
     "execution_count": 38,
     "metadata": {},
     "output_type": "execute_result"
    }
   ],
   "source": [
    "# Coeficientes optimos\n",
    "lasso_coefs = tuned_lasso.coef_\n",
    "lasso_df    = pd.DataFrame({'Variable': X.columns,'Coefficient': lasso_coefs})\n",
    "lasso_df    = lasso_df.sort_values(by='Coefficient', ascending=False)\n",
    "lasso_df"
   ]
  },
  {
   "cell_type": "markdown",
   "id": "741bbbc4",
   "metadata": {},
   "source": [
    "Se compara el error de test (RMSE) entre los dos modelos:"
   ]
  },
  {
   "cell_type": "code",
   "execution_count": 39,
   "id": "c5cf5794",
   "metadata": {},
   "outputs": [
    {
     "data": {
      "text/html": [
       "<div>\n",
       "<style scoped>\n",
       "    .dataframe tbody tr th:only-of-type {\n",
       "        vertical-align: middle;\n",
       "    }\n",
       "\n",
       "    .dataframe tbody tr th {\n",
       "        vertical-align: top;\n",
       "    }\n",
       "\n",
       "    .dataframe thead th {\n",
       "        text-align: right;\n",
       "    }\n",
       "</style>\n",
       "<table border=\"1\" class=\"dataframe\">\n",
       "  <thead>\n",
       "    <tr style=\"text-align: right;\">\n",
       "      <th></th>\n",
       "      <th>Modelo</th>\n",
       "      <th>Test RMSE</th>\n",
       "    </tr>\n",
       "  </thead>\n",
       "  <tbody>\n",
       "    <tr>\n",
       "      <th>0</th>\n",
       "      <td>Ridge</td>\n",
       "      <td>1.133</td>\n",
       "    </tr>\n",
       "    <tr>\n",
       "      <th>1</th>\n",
       "      <td>Lasso</td>\n",
       "      <td>1.134</td>\n",
       "    </tr>\n",
       "  </tbody>\n",
       "</table>\n",
       "</div>"
      ],
      "text/plain": [
       "  Modelo  Test RMSE\n",
       "0  Ridge      1.133\n",
       "1  Lasso      1.134"
      ]
     },
     "execution_count": 39,
     "metadata": {},
     "output_type": "execute_result"
    }
   ],
   "source": [
    "carseats_comparacion = pd.DataFrame({\n",
    "                    'Modelo': [ 'Ridge', 'Lasso'],\n",
    "                    'Test RMSE': [mse_ridge, mse_lasso]\n",
    "                 })\n",
    "carseats_comparacion"
   ]
  },
  {
   "cell_type": "markdown",
   "id": "2beb9d35",
   "metadata": {},
   "source": [
    "En este caso, por mínima diferencia, el mejor modelo se obtiene aplicando regularización Ridge. El modelo con regularización Lasso tiene un error ligeramente superior y el uso de variables es el mismo. No se ha descartado ninguna variable en la predicción al no identificiarse ninguno con coeficiente 0."
   ]
  },
  {
   "cell_type": "markdown",
   "id": "2da778db",
   "metadata": {},
   "source": [
    "b) Proponga un modelo (o conjunto de modelos) que parezca funcionar bien en este conjunto\n",
    " de datos y justifique su respuesta. Asegúrese de que está evaluando el desempeño del modelo\n",
    " utilizando el error del conjunto de validación, la validación cruzada o alguna otra alternativa\n",
    " razonable, en lugar del error de entrenamiento."
   ]
  },
  {
   "cell_type": "code",
   "execution_count": 40,
   "id": "48e55546",
   "metadata": {},
   "outputs": [],
   "source": [
    "from sklearn.model_selection import cross_val_score\n",
    "\n",
    "lasso_cv_scores = cross_val_score(pipeCV_lasso, X_train, y_train, scoring='neg_mean_squared_error', cv=5)\n",
    "ridge_cv_scores = cross_val_score(pipeCV, X_train, y_train, scoring='neg_mean_squared_error', cv=5)\n",
    "\n",
    "lasso_cv_mse = -lasso_cv_scores.mean()\n",
    "ridge_cv_mse = -ridge_cv_scores.mean()\n"
   ]
  },
  {
   "cell_type": "code",
   "execution_count": 41,
   "id": "b98de34b",
   "metadata": {},
   "outputs": [
    {
     "name": "stdout",
     "output_type": "stream",
     "text": [
      "Lasso CV MSE: 1.0802922294843154\n",
      "Ridge CV MSE: 1.0973312358875629\n"
     ]
    }
   ],
   "source": [
    "print(\"Lasso CV MSE:\", lasso_cv_mse)\n",
    "print(\"Ridge CV MSE:\", ridge_cv_mse)"
   ]
  },
  {
   "cell_type": "markdown",
   "id": "5d4c0b1a",
   "metadata": {},
   "source": [
    "El modelo Lasso tiene un MSE (Error Cuadrático Medio) menor que el modelo Ridge después de evaluar ambos modelos en un conjunto de validación. Lasso presenta ventajas en términos de selección de características, interpretación del modelo, eficiencia computacional y, como se observa, mejor rendimiento predictivo en esta base de datos específica."
   ]
  },
  {
   "cell_type": "markdown",
   "id": "e6162227",
   "metadata": {},
   "source": [
    "c). ¿Su modelo elegido involucra todas las variables de la base de datos? ¿Por qué o por qué no?"
   ]
  },
  {
   "cell_type": "markdown",
   "id": "528ecd0f",
   "metadata": {},
   "source": [
    "El modelo elegido involucra todas las variables de la base de datos, porque al examinar los coeficientes obtenidos de los modelos Ridge y Lasso, se observa que todos los coeficientes son no nulos, lo cual significa que todas las variables están contribuyendo al modelo de alguna manera, incluso después de aplicar regularización."
   ]
  }
 ],
 "metadata": {
  "kernelspec": {
   "display_name": "Python 3 (ipykernel)",
   "language": "python",
   "name": "python3"
  },
  "language_info": {
   "codemirror_mode": {
    "name": "ipython",
    "version": 3
   },
   "file_extension": ".py",
   "mimetype": "text/x-python",
   "name": "python",
   "nbconvert_exporter": "python",
   "pygments_lexer": "ipython3",
   "version": "3.11.5"
  }
 },
 "nbformat": 4,
 "nbformat_minor": 5
}
