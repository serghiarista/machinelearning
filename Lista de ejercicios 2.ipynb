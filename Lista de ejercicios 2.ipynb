{
 "cells": [
  {
   "cell_type": "markdown",
   "id": "a8bb2145",
   "metadata": {},
   "source": [
    "**Lista de Ejercicios 2** \n",
    "\n",
    "\n",
    "Grupo:\n",
    "1. Mayra Gavilán (20131530)\n",
    "2. Milagros Meza (20120186)\n",
    "3. Paola Cordova (20130365)\n",
    "4. Serghi Arista (20125341)"
   ]
  },
  {
   "cell_type": "markdown",
   "id": "1335be2a",
   "metadata": {},
   "source": [
    "**Pregunta 1**"
   ]
  },
  {
   "cell_type": "markdown",
   "id": "1d6ab0cf",
   "metadata": {},
   "source": [
    "Considere el conjunto de datos de viviendas de Boston:"
   ]
  },
  {
   "cell_type": "code",
   "execution_count": 1,
   "id": "8322bb8d",
   "metadata": {},
   "outputs": [],
   "source": [
    "import numpy as np\n",
    "import pandas as pd"
   ]
  },
  {
   "cell_type": "code",
   "execution_count": 2,
   "id": "dd7b8bb3",
   "metadata": {},
   "outputs": [],
   "source": [
    "data = pd.read_csv('https://raw.githubusercontent.com/qlabpucp/datasets/main/datasets/boston.csv')\n",
    "data = data.drop(columns=['Unnamed: 0'])"
   ]
  },
  {
   "cell_type": "markdown",
   "id": "c5e6f094",
   "metadata": {},
   "source": [
    "a) Defina una función llamada 'estimate_mean' que tome como argumentos un DataFrame de Pandas data, una serie de índices idx y el nombre de una columna x. Esta función debe calcular y devolver la media de la columna x para las filas correspondientes a los índices dados en el DataFrame. Utilice esta función y estime la media poblacional de la columna **medv** en el conjunto de datos proporcionado. Llame a esta estimación $\\hat{μ}$. Hint: Para estimar la media poblacional, asegúrese de incluir todos los índices del conjunto de datos en el cálculo."
   ]
  },
  {
   "cell_type": "code",
   "execution_count": 13,
   "id": "a7e307d2",
   "metadata": {},
   "outputs": [
    {
     "name": "stdout",
     "output_type": "stream",
     "text": [
      "Estimación de la media poblacional de 'medv': 22.5328\n"
     ]
    }
   ],
   "source": [
    "def estimate_mean(data, idx, x):\n",
    "    \n",
    "    subset = data.loc[idx]\n",
    "    mean = subset[x].mean()\n",
    "    return round(mean, 4)\n",
    "\n",
    "estimated_mean = estimate_mean(data, data.index, 'medv')\n",
    "print(\"Estimación de la media poblacional de 'medv':\", estimated_mean)"
   ]
  },
  {
   "cell_type": "markdown",
   "id": "720cd73c",
   "metadata": {},
   "source": [
    "b) Proporcione una estimación del error estándar de $\\hat{μ}$. Interprete este resultado. Hint: Puede\n",
    "calcular el error estándar dividiendo la desviación estándar de la columna 'medv'(.std())\n",
    "por la raíz cuadrada del número de observaciones."
   ]
  },
  {
   "cell_type": "code",
   "execution_count": 12,
   "id": "b111178b",
   "metadata": {},
   "outputs": [
    {
     "name": "stdout",
     "output_type": "stream",
     "text": [
      "Estimación del error estándar de la media poblacional de 'medv': 0.4089\n"
     ]
    }
   ],
   "source": [
    "def estimate_standard_error(data, x):\n",
    "    std_dev = data[x].std()\n",
    "    n = len(data)\n",
    "    standard_error = std_dev / np.sqrt(n)\n",
    "    return round(standard_error, 4)\n",
    "\n",
    "estimated_standard_error = estimate_standard_error(data, 'medv')\n",
    "print(\"Estimación del error estándar de la media poblacional de 'medv':\", estimated_standard_error)"
   ]
  },
  {
   "cell_type": "markdown",
   "id": "baa7c3b3",
   "metadata": {},
   "source": [
    "c) Ahora estime el error estándar (SE) de $\\hat{μ}$ usando el méodo Bootstrap. ¿Cómo se compara esto con su respuesta de (b) Hint: Puede modificar la función boot SE para adaptarla a la función definida en (a)."
   ]
  },
  {
   "cell_type": "code",
   "execution_count": 7,
   "id": "65053ac2",
   "metadata": {},
   "outputs": [
    {
     "name": "stdout",
     "output_type": "stream",
     "text": [
      "Error estándar de la media poblacional de 'medv' estimado con Bootstrap: 0.4125\n"
     ]
    }
   ],
   "source": [
    "def boot_SE(func, data, idx, x, n=None, b=1000, seed=0):\n",
    "\n",
    "    rng = np.random.default_rng(seed)\n",
    "    sum_estimates = 0\n",
    "    sum_squared_estimates = 0\n",
    "    n = n or data.shape[0]\n",
    "    estimates = []\n",
    "\n",
    "    for sample in range(b):\n",
    "        idx = rng.choice(data.index, n, replace=True)\n",
    "        estimate = func(data, idx, x)\n",
    "        sum_estimates += estimate\n",
    "        sum_squared_estimates += estimate ** 2\n",
    "        estimates.append(estimate)\n",
    "\n",
    "    mean_estimates = sum_estimates / b\n",
    "    se = np.sqrt(sum_squared_estimates / b - mean_estimates ** 2)\n",
    "\n",
    "    return round(se, 4), estimates\n",
    "\n",
    "estimated_bootstrap_se, bootstrap_estimates = boot_SE(estimate_mean, data, data.index, 'medv')\n",
    "print(\"Error estándar de la media poblacional de 'medv' estimado con Bootstrap:\", estimated_bootstrap_se)\n"
   ]
  },
  {
   "cell_type": "markdown",
   "id": "bea21acd",
   "metadata": {},
   "source": [
    "En relación al error estándar hallado en b), el error estándar estimado con Bootstrap difiere y es mayor."
   ]
  },
  {
   "cell_type": "markdown",
   "id": "72026ba5",
   "metadata": {},
   "source": [
    "d) Basado en su estimaci´on bootstrap de (c), proporcione un intervalo de confianza del 95%\n",
    "para la media de medv. Hint: Puede aproximar un intervalo de confianza del 95% usando la\n",
    "fórmula $\\hat{μ}$ − 2SE($\\hat{μ}$), $\\hat{μ}$ + 2SE($\\hat{μ}$)."
   ]
  },
  {
   "cell_type": "code",
   "execution_count": 8,
   "id": "08cdbad7",
   "metadata": {
    "scrolled": true
   },
   "outputs": [
    {
     "name": "stdout",
     "output_type": "stream",
     "text": [
      "Intervalo de confianza del 95% para la media de 'medv': (21.707800000000002, 23.3578)\n"
     ]
    }
   ],
   "source": [
    "lower_bound = estimated_mean - 2 * estimated_bootstrap_se\n",
    "upper_bound = estimated_mean + 2 * estimated_bootstrap_se\n",
    "\n",
    "print(\"Intervalo de confianza del 95% para la media de 'medv':\", (lower_bound, upper_bound))"
   ]
  },
  {
   "cell_type": "markdown",
   "id": "d59ad1d7",
   "metadata": {},
   "source": [
    "e) Defina una función para estimar la mediana de una variable. Use esta función y estime la\n",
    "mediana poblacional de la columna **medv**. Llame a esta estimación $\\hat{μ}$$_{med}$. Hint: puede seguir\n",
    "el mismo enfoque que en (a)."
   ]
  },
  {
   "cell_type": "code",
   "execution_count": 10,
   "id": "c5e23220",
   "metadata": {},
   "outputs": [
    {
     "name": "stdout",
     "output_type": "stream",
     "text": [
      "Estimación de la mediana poblacional de 'medv': 21.2\n"
     ]
    }
   ],
   "source": [
    "def estimate_median(data, idx, x):\n",
    "    \n",
    "    subset = data.loc[idx]\n",
    "    median = subset[x].median()\n",
    "    return median\n",
    "\n",
    "estimated_median = estimate_median(data, data.index, 'medv')\n",
    "print(\"Estimación de la mediana poblacional de 'medv':\", estimated_median)"
   ]
  },
  {
   "cell_type": "markdown",
   "id": "f3d96401",
   "metadata": {},
   "source": [
    "f) Estime el error estándar (SE) de $\\hat{μ}$$_{med}$ mediante el método Bootstrap. Hint: Puede seguir el mismo enfoque en que (c)."
   ]
  },
  {
   "cell_type": "code",
   "execution_count": 11,
   "id": "f153b31a",
   "metadata": {},
   "outputs": [
    {
     "name": "stdout",
     "output_type": "stream",
     "text": [
      "Error estándar de la mediana poblacional de 'medv' estimado con Bootstrap: 0.3694\n"
     ]
    }
   ],
   "source": [
    "def boot_SE_median(func, data, idx, x, n=None, b=1000, seed=0):\n",
    "\n",
    "    rng = np.random.default_rng(seed)\n",
    "    sum_estimates = 0\n",
    "    sum_squared_estimates = 0\n",
    "    n = n or data.shape[0]\n",
    "    estimates = []\n",
    "\n",
    "    for sample in range(b):\n",
    "        idx = rng.choice(data.index, n, replace=True)\n",
    "        estimate = func(data, idx, x)\n",
    "        sum_estimates += estimate\n",
    "        sum_squared_estimates += estimate ** 2\n",
    "        estimates.append(estimate)\n",
    "\n",
    "    mean_estimates = sum_estimates / b\n",
    "    se = np.sqrt(sum_squared_estimates / b - mean_estimates ** 2)\n",
    "\n",
    "    return round(se, 4), estimates\n",
    "\n",
    "estimated_bootstrap_se_median, bootstrap_estimates_median = boot_SE_median(estimate_median, data, data.index, 'medv')\n",
    "print(\"Error estándar de la mediana poblacional de 'medv' estimado con Bootstrap:\", estimated_bootstrap_se_median)\n"
   ]
  }
 ],
 "metadata": {
  "kernelspec": {
   "display_name": "Python 3 (ipykernel)",
   "language": "python",
   "name": "python3"
  },
  "language_info": {
   "codemirror_mode": {
    "name": "ipython",
    "version": 3
   },
   "file_extension": ".py",
   "mimetype": "text/x-python",
   "name": "python",
   "nbconvert_exporter": "python",
   "pygments_lexer": "ipython3",
   "version": "3.11.5"
  }
 },
 "nbformat": 4,
 "nbformat_minor": 5
}
