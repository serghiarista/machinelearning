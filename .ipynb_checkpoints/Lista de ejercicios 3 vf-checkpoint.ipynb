{
 "cells": [
  {
   "cell_type": "markdown",
   "id": "e499580f",
   "metadata": {
    "id": "e499580f"
   },
   "source": [
    "**Lista de Ejercicios 3**\n",
    "\n",
    "\n",
    "Grupo:\n",
    "1. Mayra Gavilán (20131530)\n",
    "2. Milagros Meza (20120186)\n",
    "3. Paola Cordova (20130365)\n",
    "4. Serghi Arista (20125341)"
   ]
  },
  {
   "cell_type": "markdown",
   "id": "fdfd5acf",
   "metadata": {
    "id": "fdfd5acf"
   },
   "source": [
    "**Pregunta 1**"
   ]
  },
  {
   "cell_type": "markdown",
   "id": "3ffeedef",
   "metadata": {
    "id": "3ffeedef"
   },
   "source": [
    "Brinde una explicación detallada del algoritmo que se utiliza para implementar un Árbol de Regresión."
   ]
  },
  {
   "cell_type": "markdown",
   "id": "7b03de0c",
   "metadata": {
    "id": "7b03de0c"
   },
   "source": [
    "**1) División de los datos**\n",
    "\n",
    "El algoritmo comienza con todos los datos en un nodo raíz y busca la característica (o variable) que mejor divide los datos en subconjuntos más homogéneos en términos de la variable de respuesta (el valor que estamos tratando de predecir)."
   ]
  },
  {
   "cell_type": "markdown",
   "id": "1fe11002",
   "metadata": {
    "id": "1fe11002"
   },
   "source": [
    "**2) Criterio de división**\n",
    "\n",
    "Para determinar la mejor característica de división, se utiliza un criterio de impureza como el error cuadrático medio (MSE), que mide la dispersión de los valores de la variable de respuesta en un nodo. Se calcula la reducción en la impureza (o la ganancia en la pureza) que se obtiene al dividir los datos según una característica específica."
   ]
  },
  {
   "cell_type": "markdown",
   "id": "fade785a",
   "metadata": {
    "id": "fade785a"
   },
   "source": [
    "**3) División recursiva**\n",
    "\n",
    "Una vez que se selecciona la mejor característica de división, los datos se dividen en dos o más subconjuntos en función de los valores de esa característica. Este proceso se repite recursivamente en cada subconjunto hasta que se alcanza un criterio de parada, como una profundidad máxima del árbol, un número mínimo de muestras en cada nodo hoja o una impureza mínima."
   ]
  },
  {
   "cell_type": "markdown",
   "id": "457af500",
   "metadata": {
    "id": "457af500"
   },
   "source": [
    "**4) Predicción**\n",
    "\n",
    "Una vez construido el árbol, para hacer una predicción para una nueva observación, se sigue el árbol desde la raíz hasta llegar a una hoja, y se predice el valor promedio de las observaciones de entrenamiento en esa hoja."
   ]
  },
  {
   "cell_type": "markdown",
   "id": "147f6232",
   "metadata": {
    "id": "147f6232"
   },
   "source": [
    "**5) Regularización**\n",
    "\n",
    "Para evitar el sobreajuste (overfitting), se pueden aplicar técnicas de regularización como la poda del árbol (eliminación de nodos innecesarios), la limitación de la profundidad máxima del árbol o la especificación de un número mínimo de muestras requeridas para dividir un nodo."
   ]
  },
  {
   "cell_type": "markdown",
   "id": "341fa6ff",
   "metadata": {
    "id": "341fa6ff"
   },
   "source": [
    "**Pregunta 2**"
   ]
  },
  {
   "cell_type": "code",
   "execution_count": null,
   "id": "c598812d",
   "metadata": {
    "id": "c598812d"
   },
   "outputs": [],
   "source": [
    "import pandas as pd\n",
    "import numpy as np\n",
    "import warnings\n",
    "\n",
    "import six\n",
    "import sys\n",
    "from IPython.display import Image\n",
    "sys.modules['sklearn.externals.six'] = six\n",
    "import pydot\n",
    "import matplotlib.pyplot as plt\n",
    "\n",
    "# Scikit-Learn\n",
    "from sklearn.model_selection import train_test_split, cross_val_score\n",
    "from sklearn.externals.six import StringIO\n",
    "from sklearn.tree import DecisionTreeRegressor, DecisionTreeClassifier, export_graphviz\n",
    "from sklearn.ensemble import BaggingClassifier, RandomForestClassifier, BaggingRegressor, RandomForestRegressor, GradientBoostingRegressor\n",
    "from sklearn.metrics import mean_squared_error, r2_score, confusion_matrix, classification_report\n",
    "from sklearn.model_selection import GridSearchCV"
   ]
  },
  {
   "cell_type": "markdown",
   "id": "357f88d4",
   "metadata": {
    "id": "357f88d4"
   },
   "source": [
    "1. Divida los datos en conjuntos de entrenamiento y de prueba."
   ]
  },
  {
   "cell_type": "code",
   "execution_count": null,
   "id": "b2407abc",
   "metadata": {
    "id": "b2407abc",
    "outputId": "d621a501-490d-4ca1-8f81-ec5e7383a281"
   },
   "outputs": [
    {
     "data": {
      "text/plain": [
       "(400, 11)"
      ]
     },
     "execution_count": 27,
     "metadata": {},
     "output_type": "execute_result"
    }
   ],
   "source": [
    "carseats = pd.read_csv('https://raw.githubusercontent.com/qlabpucp/datasets/main/datasets/carseats.csv')\n",
    "carseats.ShelveLoc = pd.factorize(carseats.ShelveLoc)[0]\n",
    "carseats = pd.get_dummies(carseats, dtype='int')\n",
    "carseats = carseats.drop(columns = ['Unnamed: 0', 'Urban_No', 'US_No'])\n",
    "carseats = carseats.dropna()\n",
    "carseats = carseats.reindex()\n",
    "carseats.shape"
   ]
  },
  {
   "cell_type": "code",
   "execution_count": null,
   "id": "3cbdc9a2",
   "metadata": {
    "id": "3cbdc9a2"
   },
   "outputs": [],
   "source": [
    "target = [ 'Sales' ]\n",
    "predictors = [ var for var in carseats.columns if var not in target ]\n",
    "\n",
    "X_train, X_test, Y_train, Y_test = train_test_split(carseats[predictors], carseats[target], test_size=0.3, random_state=0)"
   ]
  },
  {
   "cell_type": "code",
   "execution_count": null,
   "id": "8167ca8f",
   "metadata": {
    "id": "8167ca8f"
   },
   "outputs": [],
   "source": [
    "Y_train = Y_train.values.ravel()\n",
    "Y_test = Y_test.values.ravel()"
   ]
  },
  {
   "cell_type": "markdown",
   "id": "1f89b22b",
   "metadata": {
    "id": "1f89b22b"
   },
   "source": [
    "2. Ajuste un  arbol de regresion al conjunto de entrenamiento. Interprete los resultados. ¿Que valor de MSE se obtiene para el conjunto de prueba?"
   ]
  },
  {
   "cell_type": "code",
   "execution_count": null,
   "id": "99c09302",
   "metadata": {
    "id": "99c09302"
   },
   "outputs": [],
   "source": [
    "regr = DecisionTreeRegressor(max_depth=3)\n",
    "regr.fit(X_train, Y_train)\n",
    "Y_pred = regr.predict(X_test)"
   ]
  },
  {
   "cell_type": "code",
   "execution_count": null,
   "id": "07939079",
   "metadata": {
    "id": "07939079"
   },
   "outputs": [],
   "source": [
    "def print_tree(estimator, features, class_names=None, filled=True):\n",
    "\n",
    "    tree = estimator\n",
    "    names = features\n",
    "    color = filled\n",
    "    classn = class_names\n",
    "    dot_data = StringIO()\n",
    "    export_graphviz(estimator, out_file=dot_data, feature_names=features, class_names=classn, filled=filled)\n",
    "    graph = pydot.graph_from_dot_data(dot_data.getvalue())\n",
    "    return(graph)"
   ]
  },
  {
   "cell_type": "code",
   "execution_count": null,
   "id": "c6905031",
   "metadata": {
    "id": "c6905031",
    "outputId": "a8689482-98e0-448f-a0d9-64186d6d7d7d"
   },
   "outputs": [
    {
     "data": {
      "image/png": "[encoded data removed]",
      "text/plain": [
       "<IPython.core.display.Image object>"
      ]
     },
     "execution_count": 33,
     "metadata": {},
     "output_type": "execute_result"
    }
   ],
   "source": [
    "graph, = print_tree(regr, features=predictors)\n",
    "Image(graph.create_png())"
   ]
  },
  {
   "cell_type": "code",
   "execution_count": null,
   "id": "59dc8167",
   "metadata": {
    "id": "59dc8167",
    "outputId": "25f68770-935b-4e2d-ca64-9a6406a902fc"
   },
   "outputs": [
    {
     "name": "stdout",
     "output_type": "stream",
     "text": [
      "MSE: 3.803\n"
     ]
    }
   ],
   "source": [
    "MSE = round( mean_squared_error(Y_test, Y_pred), 3 )\n",
    "print('MSE:', MSE)"
   ]
  },
  {
   "cell_type": "markdown",
   "id": "04917739",
   "metadata": {
    "id": "04917739"
   },
   "source": [
    "3. Utilice el m etodo Bagging para analizar estos datos. ¿Qu e valor de MSE obtiene para el conjunto de prueba?"
   ]
  },
  {
   "cell_type": "code",
   "execution_count": null,
   "id": "26971f44",
   "metadata": {
    "id": "26971f44",
    "outputId": "a6a5047f-3077-4609-ffe5-6d1faade2cbf"
   },
   "outputs": [
    {
     "name": "stdout",
     "output_type": "stream",
     "text": [
      "MSE con método Bagging: 2.777\n"
     ]
    }
   ],
   "source": [
    "bagging = BaggingRegressor(max_features=10, random_state=1)\n",
    "bagging.fit(X_train, Y_train)\n",
    "\n",
    "Y_pred = bagging.predict(X_test)\n",
    "\n",
    "MSE_bag = round( mean_squared_error(Y_test, Y_pred), 3 )\n",
    "print('MSE con método Bagging:', MSE_bag)"
   ]
  },
  {
   "cell_type": "markdown",
   "id": "dc0fd41c",
   "metadata": {
    "id": "dc0fd41c"
   },
   "source": [
    "4. Utilice el metodo Random Forest para analizar los datos. Repita el procedimiento descrito en el punto 3. Describa el efecto de m, el nu mero de variables consideradas en cada division, sobre la tasa de error obtenida. Utilice la funcion features importance() para determinar que variables son las mas importantes."
   ]
  },
  {
   "cell_type": "code",
   "execution_count": null,
   "id": "a20a269a",
   "metadata": {
    "id": "a20a269a",
    "outputId": "ef7fba4e-6adf-442b-c085-138880465efc"
   },
   "outputs": [
    {
     "name": "stdout",
     "output_type": "stream",
     "text": [
      "MSE para m=3: 2.7264667105833333\n",
      "MSE para m=5: 2.3063116554999983\n",
      "MSE para m=10: 2.19104943\n"
     ]
    }
   ],
   "source": [
    "max_features_values = [3, 5, 10]\n",
    "\n",
    "MSE_rf_values = []\n",
    "\n",
    "for max_features in max_features_values:\n",
    "    rf = RandomForestRegressor(max_features=max_features, random_state=1)\n",
    "    rf.fit(X_train, Y_train)\n",
    "\n",
    "    Y_pred = rf.predict(X_test)\n",
    "\n",
    "    MSE = mean_squared_error(Y_test, Y_pred)\n",
    "    MSE_rf_values.append(MSE)\n",
    "\n",
    "for i, max_features in enumerate(max_features_values):\n",
    "    print(f\"MSE para m={max_features}: {MSE_rf_values[i]}\")"
   ]
  },
  {
   "cell_type": "markdown",
   "id": "09b49d82",
   "metadata": {
    "id": "09b49d82"
   },
   "source": [
    "De los resultados se observa que un cambio en el número de variables consideradas en cada división afecta la tasa de error obtenida; a mayor número de variables menor el MSE obtenido. En este caso con el número máximo de variables (10) alcanzamos el menor MSE (2.19)."
   ]
  },
  {
   "cell_type": "code",
   "execution_count": null,
   "id": "7dda3c98",
   "metadata": {
    "id": "7dda3c98",
    "outputId": "78031049-c705-40e1-a04e-67bf33dc1ff5"
   },
   "outputs": [
    {
     "data": {
      "image/png": "[encoded data removed]",
      "text/plain": [
       "<Figure size 640x480 with 1 Axes>"
      ]
     },
     "metadata": {},
     "output_type": "display_data"
    }
   ],
   "source": [
    "Importance = pd.DataFrame({'Importancia':rf.feature_importances_*100}, index=predictors)\n",
    "Importance.sort_values('Importancia', axis=0, ascending=True).plot(kind='barh', color='r', )\n",
    "plt.xlabel('Importancia de variables')\n",
    "plt.gca().legend_ = None"
   ]
  },
  {
   "cell_type": "markdown",
   "id": "0409cf98",
   "metadata": {
    "id": "0409cf98"
   },
   "source": [
    "Al usar la función features_importance(), observamos que las dos (02) variables más importantes para la predicción de ventas de asientos de coche para niños son el precio y la calidad de la ubicación de la estantería para los asientos de coche de cada sitio; seguidos por la edad media de la población local y el precio cobrado por el competidor en cada ubicación."
   ]
  },
  {
   "cell_type": "markdown",
   "id": "90f282b7",
   "metadata": {
    "id": "90f282b7"
   },
   "source": [
    "5. Utilice el metodo Gradient Boosting. Repita el procedimiento descrito en el punto 4."
   ]
  },
  {
   "cell_type": "code",
   "execution_count": null,
   "id": "252bb26d",
   "metadata": {
    "id": "252bb26d",
    "outputId": "8848de7c-cada-4043-af18-9777792a195a"
   },
   "outputs": [
    {
     "data": {
      "text/html": [
       "<div>\n",
       "<style scoped>\n",
       "    .dataframe tbody tr th:only-of-type {\n",
       "        vertical-align: middle;\n",
       "    }\n",
       "\n",
       "    .dataframe tbody tr th {\n",
       "        vertical-align: top;\n",
       "    }\n",
       "\n",
       "    .dataframe thead th {\n",
       "        text-align: right;\n",
       "    }\n",
       "</style>\n",
       "<table border=\"1\" class=\"dataframe\">\n",
       "  <thead>\n",
       "    <tr style=\"text-align: right;\">\n",
       "      <th></th>\n",
       "      <th>Tasa de aprendizaje</th>\n",
       "      <th>Num Estimadores</th>\n",
       "      <th>MSE GB</th>\n",
       "    </tr>\n",
       "  </thead>\n",
       "  <tbody>\n",
       "    <tr>\n",
       "      <th>0</th>\n",
       "      <td>0.01</td>\n",
       "      <td>200</td>\n",
       "      <td>2.922813</td>\n",
       "    </tr>\n",
       "    <tr>\n",
       "      <th>1</th>\n",
       "      <td>0.01</td>\n",
       "      <td>500</td>\n",
       "      <td>2.171057</td>\n",
       "    </tr>\n",
       "    <tr>\n",
       "      <th>2</th>\n",
       "      <td>0.01</td>\n",
       "      <td>1000</td>\n",
       "      <td>2.083814</td>\n",
       "    </tr>\n",
       "    <tr>\n",
       "      <th>3</th>\n",
       "      <td>0.10</td>\n",
       "      <td>200</td>\n",
       "      <td>2.058998</td>\n",
       "    </tr>\n",
       "    <tr>\n",
       "      <th>4</th>\n",
       "      <td>0.10</td>\n",
       "      <td>500</td>\n",
       "      <td>2.117749</td>\n",
       "    </tr>\n",
       "    <tr>\n",
       "      <th>5</th>\n",
       "      <td>0.10</td>\n",
       "      <td>1000</td>\n",
       "      <td>2.132627</td>\n",
       "    </tr>\n",
       "    <tr>\n",
       "      <th>6</th>\n",
       "      <td>0.50</td>\n",
       "      <td>200</td>\n",
       "      <td>2.433816</td>\n",
       "    </tr>\n",
       "    <tr>\n",
       "      <th>7</th>\n",
       "      <td>0.50</td>\n",
       "      <td>500</td>\n",
       "      <td>2.440724</td>\n",
       "    </tr>\n",
       "    <tr>\n",
       "      <th>8</th>\n",
       "      <td>0.50</td>\n",
       "      <td>1000</td>\n",
       "      <td>2.440726</td>\n",
       "    </tr>\n",
       "  </tbody>\n",
       "</table>\n",
       "</div>"
      ],
      "text/plain": [
       "   Tasa de aprendizaje  Num Estimadores    MSE GB\n",
       "0                 0.01              200  2.922813\n",
       "1                 0.01              500  2.171057\n",
       "2                 0.01             1000  2.083814\n",
       "3                 0.10              200  2.058998\n",
       "4                 0.10              500  2.117749\n",
       "5                 0.10             1000  2.132627\n",
       "6                 0.50              200  2.433816\n",
       "7                 0.50              500  2.440724\n",
       "8                 0.50             1000  2.440726"
      ]
     },
     "execution_count": 38,
     "metadata": {},
     "output_type": "execute_result"
    }
   ],
   "source": [
    "n_estimators_values = [200, 500, 1000]\n",
    "learning_rate_values = [0.01, 0.1, 0.5]\n",
    "\n",
    "results = []\n",
    "\n",
    "for learning_rate in learning_rate_values:\n",
    "    for n_estimators in n_estimators_values:\n",
    "\n",
    "        boost = GradientBoostingRegressor(n_estimators=n_estimators, learning_rate=learning_rate, random_state=1)\n",
    "        boost.fit(X_train, Y_train)\n",
    "\n",
    "        Y_pred = boost.predict(X_test)\n",
    "\n",
    "        mse = mean_squared_error(Y_test, Y_pred)\n",
    "\n",
    "        results.append({'Tasa de aprendizaje': learning_rate, 'Num Estimadores': n_estimators, 'MSE GB': mse})\n",
    "\n",
    "results_df = pd.DataFrame(results)\n",
    "\n",
    "results_df"
   ]
  },
  {
   "cell_type": "markdown",
   "id": "ed88635e",
   "metadata": {
    "id": "ed88635e"
   },
   "source": [
    "Hemos evaluado 9 casos para 3 tasas de aprendizaje y 3 números diferentes de estimadores. Al respecto, observamos que con la menor tasa de aprendizaje, el MSE disminuye a mayor numero de estimadores; mientras que con una tasa de aprendizaje de 0.1 pasa lo contrario y con una tasa de aprendizaje de 0.5 casi no hay movimiento. De los resultados, el mejor MSE nos lo da la tasa de aprendizaje 0.1 con un número de estimadores de 200 (2.07), seguido de la tasa de aprendizaje 0.01 con un número de estimadores de 1000 (2.08)."
   ]
  },
  {
   "cell_type": "markdown",
   "id": "1710a37d",
   "metadata": {
    "id": "1710a37d"
   },
   "source": [
    "**Pregunta 3**"
   ]
  },
  {
   "cell_type": "markdown",
   "id": "59f18d91",
   "metadata": {
    "id": "59f18d91"
   },
   "source": [
    "Aplique los métodos Boosting, Bagging y Random Forest a una dataset de su elección. Asegúrese de dividir los datos en los conjuntos de entrenamiento y de prueba, ajustar los modelos sobre el conjunto de entrenamiento y evaluar su desempeño sobre el conjunto de prueba. ¿Cuán precisos son los resultados si los compara con métodos regresión lineal/logística y/o métodos de Regularización? ¿Cuál de todos los modelos implementados muestra un mejor desempeño?"
   ]
  },
  {
   "cell_type": "markdown",
   "id": "5cf5783c",
   "metadata": {
    "id": "5cf5783c"
   },
   "source": [
    "Primero, importaremos las bibliotecas necesarias y cargaremos el conjunto de datos de diabetes de scikit-learn. Luego dividiremos los datos en conjuntos de entrenamiento y prueba. Posteriormente, entrenaremos y evaluaremos varios modelos, incluyendo Boosting, Bagging, Random Forest, regresión lineal y regresión logística. Finalmente, compararemos los resultados para determinar qué modelo muestra un mejor desempeño."
   ]
  },
  {
   "cell_type": "code",
   "execution_count": null,
   "id": "c95fbd5e",
   "metadata": {
    "id": "c95fbd5e",
    "outputId": "a793ba29-2e04-4141-8149-ae285fa5ae78",
    "scrolled": true
   },
   "outputs": [
    {
     "name": "stdout",
     "output_type": "stream",
     "text": [
      "Desempeño de los modelos:\n",
      "                 Model       RMSE  Accuracy  R Squared\n",
      "0             Boosting  63.811841       NaN   0.205926\n",
      "1              Bagging  66.898933       NaN   0.127237\n",
      "2        Random Forest  61.239694       NaN   0.268652\n",
      "3    Linear Regression  58.517171       NaN   0.332233\n",
      "4  Logistic Regression        NaN       0.0        NaN\n"
     ]
    }
   ],
   "source": [
    "# Importar bibliotecas necesarias\n",
    "import numpy as np\n",
    "import pandas as pd\n",
    "from sklearn.datasets import load_diabetes\n",
    "from sklearn.model_selection import train_test_split\n",
    "from sklearn.ensemble import GradientBoostingRegressor, RandomForestRegressor, BaggingRegressor\n",
    "from sklearn.linear_model import LinearRegression, LogisticRegression\n",
    "from sklearn.preprocessing import StandardScaler\n",
    "from sklearn.metrics import mean_squared_error, accuracy_score, r2_score\n",
    "\n",
    "# Cargar conjunto de datos de diabetes\n",
    "diabetes = load_diabetes()\n",
    "X = diabetes.data\n",
    "y = diabetes.target\n",
    "\n",
    "# Dividir el conjunto de datos en entrenamiento y prueba\n",
    "X_train, X_test, y_train, y_test = train_test_split(X, y, test_size=0.2, random_state=0)\n",
    "\n",
    "# Normalizar los datos (solo para modelos lineales)\n",
    "scaler = StandardScaler()\n",
    "X_train_scaled = scaler.fit_transform(X_train)\n",
    "X_test_scaled = scaler.transform(X_test)\n",
    "\n",
    "# Inicializar modelos\n",
    "models = [\n",
    "    ('Boosting', GradientBoostingRegressor(random_state=0)),\n",
    "    ('Bagging', BaggingRegressor(random_state=0)),\n",
    "    ('Random Forest', RandomForestRegressor(random_state=0)),\n",
    "    ('Linear Regression', LinearRegression()),\n",
    "    ('Logistic Regression', LogisticRegression(max_iter=1000))\n",
    "]\n",
    "\n",
    "# Almacenar resultados en un diccionario\n",
    "results = []\n",
    "for name, model in models:\n",
    "    model.fit(X_train, y_train)\n",
    "    if name == 'Logistic Regression':\n",
    "        y_pred = model.predict(X_test_scaled)\n",
    "        accuracy = accuracy_score(y_test, y_pred)\n",
    "        results.append({'Model': name, 'RMSE': np.nan, 'Accuracy': accuracy, 'R Squared': np.nan})\n",
    "    else:\n",
    "        y_pred = model.predict(X_test)\n",
    "        rmse = np.sqrt(mean_squared_error(y_test, y_pred))\n",
    "        r2 = r2_score(y_test, y_pred)\n",
    "        results.append({'Model': name, 'RMSE': rmse, 'Accuracy': np.nan, 'R Squared': r2})\n",
    "\n",
    "# Crear DataFrame con los resultados\n",
    "df_results = pd.DataFrame(results)\n",
    "\n",
    "# Imprimir DataFrame de resultados\n",
    "print(\"Desempeño de los modelos:\")\n",
    "print(df_results)"
   ]
  },
  {
   "cell_type": "markdown",
   "id": "23b935b1",
   "metadata": {
    "id": "23b935b1"
   },
   "source": [
    "El motivo por el que se utiliza la precisión (accuracy) en lugar del error cuadrático medio (RMSE) para evaluar el desempeño de la regresión logística es porque la regresión logística es un algoritmo de clasificación, no de regresión.\n",
    "\n",
    "El RMSE es una métrica comúnmente utilizada para evaluar modelos de regresión, ya que mide la diferencia entre los valores predichos por el modelo y los valores reales. Sin embargo, en el caso de la regresión logística, estamos tratando de predecir clases discretas (por ejemplo, '0' o '1'), no valores continuos. Por lo tanto, la precisión es una métrica más apropiada para evaluar la calidad de las predicciones de un modelo de clasificación."
   ]
  },
  {
   "cell_type": "markdown",
   "id": "8c392b34",
   "metadata": {
    "id": "8c392b34"
   },
   "source": [
    "**Pregunta 4**"
   ]
  },
  {
   "cell_type": "markdown",
   "id": "2e03a41e",
   "metadata": {
    "id": "2e03a41e"
   },
   "source": [
    "Implemente una red neuronal con la database *Default*. Use una capa oculta con 10 unidades y regularización por dropout. Compare el desempeño de clasificación con respecto al de la regresión lineal."
   ]
  },
  {
   "cell_type": "code",
   "execution_count": null,
   "id": "a11eaf85",
   "metadata": {
    "id": "a11eaf85"
   },
   "outputs": [],
   "source": [
    "# Basic\n",
    "import numpy as np\n",
    "import pandas as pd\n",
    "import requests\n",
    "import json\n",
    "\n",
    "# Plotting\n",
    "import matplotlib.pyplot as plt\n",
    "\n",
    "# Scikit-Learn\n",
    "from sklearn.metrics import mean_absolute_error, mean_squared_error, accuracy_score\n",
    "from sklearn.preprocessing import StandardScaler\n",
    "from sklearn.pipeline import Pipeline\n",
    "import sklearn.model_selection as skm\n",
    "import sklearn.linear_model as skl\n",
    "from sklearn.linear_model import LinearRegression\n",
    "\n",
    "# Keras\n",
    "import keras\n",
    "from keras.models import Sequential\n",
    "from keras.layers import Dense, Dropout, LSTM, Embedding\n",
    "from keras.optimizers import RMSprop\n",
    "from keras.preprocessing import sequence\n",
    "\n",
    "# TensorFlow\n",
    "from tensorflow.keras.datasets import mnist, cifar100, imdb\n",
    "from tensorflow.keras.utils import to_categorical\n",
    "from tensorflow.keras.preprocessing.image import load_img, img_to_array\n",
    "from tensorflow.keras.applications.resnet50 import ResNet50, decode_predictions\n",
    "from tensorflow.keras.preprocessing.sequence import pad_sequences"
   ]
  },
  {
   "cell_type": "code",
   "execution_count": null,
   "id": "ecbebc53",
   "metadata": {
    "id": "ecbebc53",
    "outputId": "ef19682f-84cf-482b-df91-3b6a7b8710c8"
   },
   "outputs": [
    {
     "data": {
      "text/plain": [
       "(10000, 4)"
      ]
     },
     "execution_count": 3,
     "metadata": {},
     "output_type": "execute_result"
    }
   ],
   "source": [
    "# Cargar datos\n",
    "default = pd.read_csv('https://raw.githubusercontent.com/qlabpucp/datasets/main/datasets/default.csv')\n",
    "default = default.dropna()\n",
    "default = default.drop(columns = ['Unnamed: 0'])\n",
    "default = pd.get_dummies(default, dtype='int')\n",
    "default = default.drop(columns = ['default_No', 'student_No'])\n",
    "default.rename(columns={'default_Yes': 'default', 'student_Yes': 'student'}, inplace=True)\n",
    "default = default.reindex()\n",
    "default.shape"
   ]
  },
  {
   "cell_type": "code",
   "execution_count": null,
   "id": "ffde5e26",
   "metadata": {
    "id": "ffde5e26",
    "outputId": "ca8bd7a6-944b-4ce6-e0ea-55c906e9090a"
   },
   "outputs": [
    {
     "data": {
      "text/plain": [
       "default\n",
       "0    9667\n",
       "1     333\n",
       "Name: count, dtype: int64"
      ]
     },
     "execution_count": 4,
     "metadata": {},
     "output_type": "execute_result"
    }
   ],
   "source": [
    "default['default'].value_counts()"
   ]
  },
  {
   "cell_type": "code",
   "execution_count": null,
   "id": "555763b3",
   "metadata": {
    "id": "555763b3"
   },
   "outputs": [],
   "source": [
    "# Dividir dataset en conjuntos de entrenamiento y de prueba\n",
    "target = [ 'default' ]\n",
    "predictors = [ var for var in default.columns if var not in target ]\n",
    "\n",
    "X_train, X_test, y_train, y_test = skm.train_test_split(default[predictors], default[target], test_size=0.33, random_state=0)"
   ]
  },
  {
   "cell_type": "code",
   "execution_count": null,
   "id": "8514371e",
   "metadata": {
    "id": "8514371e",
    "outputId": "a1a1b68a-d083-434d-b17d-a2f151842b24"
   },
   "outputs": [
    {
     "name": "stderr",
     "output_type": "stream",
     "text": [
      "C:\\Anaconda\\Lib\\site-packages\\keras\\src\\layers\\core\\dense.py:87: UserWarning: Do not pass an `input_shape`/`input_dim` argument to a layer. When using Sequential models, prefer using an `Input(shape)` object as the first layer in the model instead.\n",
      "  super().__init__(activity_regularizer=activity_regularizer, **kwargs)\n"
     ]
    }
   ],
   "source": [
    "# Definir y compilar la red neuronal\n",
    "model = keras.Sequential([\n",
    "    keras.layers.Dense(10, activation='relu', input_shape=(X_train.shape[1],)),\n",
    "    keras.layers.Dropout(0.3),\n",
    "    keras.layers.Dense(1, activation='sigmoid')\n",
    "])\n",
    "\n",
    "model.compile(optimizer='adam',\n",
    "              loss='binary_crossentropy',\n",
    "              metrics=['accuracy'])"
   ]
  },
  {
   "cell_type": "code",
   "execution_count": null,
   "id": "03e51c03",
   "metadata": {
    "id": "03e51c03",
    "outputId": "1b50eeef-ca76-4e9c-a0f9-10a5c5ba3648"
   },
   "outputs": [
    {
     "name": "stdout",
     "output_type": "stream",
     "text": [
      "Epoch 1/10\n",
      "\u001b[1m210/210\u001b[0m \u001b[32m━━━━━━━━━━━━━━━━━━━━\u001b[0m\u001b[37m\u001b[0m \u001b[1m1s\u001b[0m 1ms/step - accuracy: 0.7766 - loss: 3106.2744 - val_accuracy: 0.9627 - val_loss: 202.2501\n",
      "Epoch 2/10\n",
      "\u001b[1m210/210\u001b[0m \u001b[32m━━━━━━━━━━━━━━━━━━━━\u001b[0m\u001b[37m\u001b[0m \u001b[1m1s\u001b[0m 850us/step - accuracy: 0.7714 - loss: 1533.0293 - val_accuracy: 0.9627 - val_loss: 186.1494\n",
      "Epoch 3/10\n",
      "\u001b[1m210/210\u001b[0m \u001b[32m━━━━━━━━━━━━━━━━━━━━\u001b[0m\u001b[37m\u001b[0m \u001b[1m0s\u001b[0m 806us/step - accuracy: 0.7689 - loss: 691.9206 - val_accuracy: 0.9627 - val_loss: 133.4593\n",
      "Epoch 4/10\n",
      "\u001b[1m210/210\u001b[0m \u001b[32m━━━━━━━━━━━━━━━━━━━━\u001b[0m\u001b[37m\u001b[0m \u001b[1m0s\u001b[0m 812us/step - accuracy: 0.7822 - loss: 235.9101 - val_accuracy: 0.9627 - val_loss: 86.7965\n",
      "Epoch 5/10\n",
      "\u001b[1m210/210\u001b[0m \u001b[32m━━━━━━━━━━━━━━━━━━━━\u001b[0m\u001b[37m\u001b[0m \u001b[1m0s\u001b[0m 754us/step - accuracy: 0.7714 - loss: 93.9233 - val_accuracy: 0.9627 - val_loss: 45.9940\n",
      "Epoch 6/10\n",
      "\u001b[1m210/210\u001b[0m \u001b[32m━━━━━━━━━━━━━━━━━━━━\u001b[0m\u001b[37m\u001b[0m \u001b[1m0s\u001b[0m 770us/step - accuracy: 0.9685 - loss: 26.0805 - val_accuracy: 0.9627 - val_loss: 17.3702\n",
      "Epoch 7/10\n",
      "\u001b[1m210/210\u001b[0m \u001b[32m━━━━━━━━━━━━━━━━━━━━\u001b[0m\u001b[37m\u001b[0m \u001b[1m0s\u001b[0m 797us/step - accuracy: 0.9682 - loss: 9.3783 - val_accuracy: 0.9627 - val_loss: 2.3869\n",
      "Epoch 8/10\n",
      "\u001b[1m210/210\u001b[0m \u001b[32m━━━━━━━━━━━━━━━━━━━━\u001b[0m\u001b[37m\u001b[0m \u001b[1m0s\u001b[0m 717us/step - accuracy: 0.9734 - loss: 0.7136 - val_accuracy: 0.9627 - val_loss: 0.2742\n",
      "Epoch 9/10\n",
      "\u001b[1m210/210\u001b[0m \u001b[32m━━━━━━━━━━━━━━━━━━━━\u001b[0m\u001b[37m\u001b[0m \u001b[1m0s\u001b[0m 757us/step - accuracy: 0.9723 - loss: 0.2096 - val_accuracy: 0.9627 - val_loss: 0.2125\n",
      "Epoch 10/10\n",
      "\u001b[1m210/210\u001b[0m \u001b[32m━━━━━━━━━━━━━━━━━━━━\u001b[0m\u001b[37m\u001b[0m \u001b[1m0s\u001b[0m 717us/step - accuracy: 0.9685 - loss: 0.1899 - val_accuracy: 0.9627 - val_loss: 0.2027\n"
     ]
    },
    {
     "data": {
      "text/plain": [
       "<keras.src.callbacks.history.History at 0x1c5e4e05790>"
      ]
     },
     "execution_count": 7,
     "metadata": {},
     "output_type": "execute_result"
    }
   ],
   "source": [
    "# Entrenar la red neuronal\n",
    "model.fit(X_train, y_train, epochs=10, batch_size=32, validation_data=(X_test, y_test))"
   ]
  },
  {
   "cell_type": "code",
   "execution_count": null,
   "id": "4f3b67a9",
   "metadata": {
    "id": "4f3b67a9",
    "outputId": "ae496f8f-be2c-4adf-f9c3-39dbeb687d5b"
   },
   "outputs": [
    {
     "name": "stdout",
     "output_type": "stream",
     "text": [
      "\u001b[1m104/104\u001b[0m \u001b[32m━━━━━━━━━━━━━━━━━━━━\u001b[0m\u001b[37m\u001b[0m \u001b[1m0s\u001b[0m 355us/step - accuracy: 0.9624 - loss: 0.2545\n",
      "Accuracy of Neural Network: 0.9627272486686707\n"
     ]
    }
   ],
   "source": [
    "# Evaluar desempeño\n",
    "loss, accuracy = model.evaluate(X_test, y_test)\n",
    "print(\"Accuracy of Neural Network:\", accuracy)"
   ]
  },
  {
   "cell_type": "code",
   "execution_count": null,
   "id": "a6fe46ff",
   "metadata": {
    "id": "a6fe46ff",
    "outputId": "a749417f-1713-4f0d-8f60-8c508437c175"
   },
   "outputs": [
    {
     "name": "stdout",
     "output_type": "stream",
     "text": [
      "MSE of Linear Regression: 0.031\n",
      "Accuracy of Linear Regression: 0.9627272727272728\n"
     ]
    }
   ],
   "source": [
    "# Entrenar una regresión lineal y evaluar su desempeño\n",
    "linear_model = LinearRegression()\n",
    "linear_model.fit(X_train, y_train)\n",
    "y_pred_linear = linear_model.predict(X_test)\n",
    "mse_linear = round( mean_squared_error(y_test, y_pred_linear), 3 )\n",
    "accuracy_linear = accuracy_score(y_test, np.round(y_pred_linear))\n",
    "print(\"MSE of Linear Regression:\", mse_linear)\n",
    "print(\"Accuracy of Linear Regression:\", accuracy_linear)"
   ]
  },
  {
   "cell_type": "code",
   "execution_count": null,
   "id": "0fb865f0",
   "metadata": {
    "id": "0fb865f0",
    "outputId": "23215d55-392b-495a-ba87-23923972b57b"
   },
   "outputs": [
    {
     "name": "stdout",
     "output_type": "stream",
     "text": [
      "La regresión lineal supera a la red neuronal en términos de precisión.\n"
     ]
    }
   ],
   "source": [
    "if accuracy > accuracy_linear:\n",
    "    print(\"La red neuronal supera a la regresión lineal en términos de precisión.\")\n",
    "elif accuracy < accuracy_linear:\n",
    "    print(\"La regresión lineal supera a la red neuronal en términos de precisión.\")\n",
    "else:\n",
    "    print(\"Ambos modelos tienen la misma precisión.\")"
   ]
  },
  {
   "cell_type": "markdown",
   "id": "ace47f17",
   "metadata": {
    "id": "ace47f17"
   },
   "source": [
    "**Pregunta 5**"
   ]
  },
  {
   "cell_type": "markdown",
   "id": "cf5da3fb",
   "metadata": {
    "id": "cf5da3fb"
   },
   "source": [
    "Considere la implementaci ́on del modelo de Redes Neuronales Convolucionales (CNN) utilizando la dataset CIFAR 100 presentada en el notebook de clases. En esta implementaci ́on inicial, se alcanz ́o un Accuracy aproximado de 0.44. Su tarea es desarrollar una nueva implementaci ́on que supere este valor de Accuracy. Para lograrlo, se le anima a experimentar con los siguientes aspectos del modelo:"
   ]
  },
  {
   "cell_type": "markdown",
   "id": "61ff3b4b",
   "metadata": {
    "id": "61ff3b4b"
   },
   "source": [
    "• Arquitectura del Modelo: Puede considerar la adición de más capas convolucionales y de pooling, incrementar el número de filtros por capa, o modificar el tamaño del kernel.\n",
    "• Regularización: Experimente con diferentes tasas de dropout para prevenir el sobreajuste.\n",
    "• Entrenamiento: Pruebe con distintos taman ̃os de batch que puedan influir en la convergencia del modelo durante el entrenamiento.\n",
    "• Optimización: Evalúe el uso de diferentes algoritmos de optimización para verificar si mejoran la precisión del modelo.\n",
    "La meta es ajustar estos parámetros para superar el Accuracy de 0.44 previamente alcanzado. Documente todas las modificaciones realizadas y los resultados obtenidos."
   ]
  },
  {
   "cell_type": "markdown",
   "id": "45367530",
   "metadata": {
    "id": "45367530"
   },
   "source": [
    "Vamos a cargar el dataset CIFAR 100, a normalizar la data y a convertir las variables a categóricas:"
   ]
  },
  {
   "cell_type": "code",
   "execution_count": 1,
   "id": "db903776",
   "metadata": {
    "executionInfo": {
     "elapsed": 5641,
     "status": "ok",
     "timestamp": 1714489170970,
     "user": {
      "displayName": "Cecilia Vásquez",
      "userId": "11534293609306579832"
     },
     "user_tz": 300
    },
    "id": "db903776"
   },
   "outputs": [],
   "source": [
    "# Basic\n",
    "import numpy as np\n",
    "import pandas as pd\n",
    "import requests\n",
    "import json\n",
    "\n",
    "# Plotting\n",
    "import matplotlib.pyplot as plt\n",
    "\n",
    "# Scikit-Learn\n",
    "from sklearn.metrics import mean_absolute_error, mean_squared_error, accuracy_score\n",
    "from sklearn.preprocessing import StandardScaler\n",
    "from sklearn.pipeline import Pipeline\n",
    "import sklearn.model_selection as skm\n",
    "import sklearn.linear_model as skl\n",
    "\n",
    "# Keras\n",
    "import keras\n",
    "from keras.models import Sequential\n",
    "from keras.layers import Dense, Dropout, LSTM, Embedding\n",
    "from keras.optimizers import RMSprop\n",
    "from keras.preprocessing import sequence\n",
    "\n",
    "# TensorFlow\n",
    "from tensorflow.keras.datasets import mnist, cifar100, imdb\n",
    "from tensorflow.keras.utils import to_categorical\n",
    "from tensorflow.keras.preprocessing.image import load_img, img_to_array\n",
    "from tensorflow.keras.applications.resnet50 import ResNet50, decode_predictions\n",
    "from tensorflow.keras.preprocessing.sequence import pad_sequences"
   ]
  },
  {
   "cell_type": "code",
   "execution_count": 2,
   "id": "7f5bbd68",
   "metadata": {
    "colab": {
     "base_uri": "https://localhost:8080/"
    },
    "executionInfo": {
     "elapsed": 10597,
     "status": "ok",
     "timestamp": 1714489196154,
     "user": {
      "displayName": "Cecilia Vásquez",
      "userId": "11534293609306579832"
     },
     "user_tz": 300
    },
    "id": "7f5bbd68",
    "outputId": "d8d2c9dc-4f06-42df-f4af-c6cc44dcdb50"
   },
   "outputs": [
    {
     "name": "stdout",
     "output_type": "stream",
     "text": [
      "Downloading data from https://www.cs.toronto.edu/~kriz/cifar-100-python.tar.gz\n",
      "169001437/169001437 [==============================] - 4s 0us/step\n",
      "(50000, 32, 32, 3)\n",
      "(10000, 32, 32, 3)\n"
     ]
    }
   ],
   "source": [
    "# Load CIFAR-100 dataset\n",
    "(x_train, y_train), (x_test, y_test) = cifar100.load_data()\n",
    "print(x_train.shape)\n",
    "print(x_test.shape)\n",
    "\n",
    "# Normalize data\n",
    "x_train = x_train / 255.0\n",
    "x_test = x_test / 255.0\n",
    "\n",
    "# Convert labels to categorical\n",
    "y_train = to_categorical(y_train, num_classes=100)\n",
    "y_test = to_categorical(y_test, num_classes=100)"
   ]
  },
  {
   "cell_type": "markdown",
   "id": "979e362c",
   "metadata": {
    "id": "979e362c"
   },
   "source": [
    "En primer lugar, para mejorar el rendimiento del modelo, que actualmente tiene un accuracy de 0.44, se va a adoptar la estrategia de modificar la arquitectura del modelo. Esto implica aumentar el número de capas convolucionales y de pooling o modificar el tamaño del kernel. En segundo lugar, se va a adoptar la estrategia de reducir el overfitting mediante la regularización. En ese sentido, se van a introducir capas de dropout, lo que significa eliminar neuronas de manera aleatoria entre las capas. Esto puede ayudar a contrarrestar el problema de overfitting y, como resultado, aumentar el accuracy del modelo. En tercer lugar, también se adoptó la estrategia de modificar los parámetros de entrenamiento como el tamaño de épocas o el tamaño de batchs. Se va a modificar el número de ambos a fin de encontrar si se podía obtener una mejor precisión del modelo. Finalmente, se va a explorar con otro algoritmo de optimización llamado Adam, el cual es conocido por su eficiencia, a fin de evaluar su rendimiento en el modelo."
   ]
  },
  {
   "cell_type": "markdown",
   "id": "wDvvXRFk-EGV",
   "metadata": {
    "id": "wDvvXRFk-EGV"
   },
   "source": [
    "Los mejores resultados se encuentran en el **Modelo 4**, el cual alcanza un **accuracy de 0.4923**. Las modificaciones realizadas incluyen:\n",
    "\n",
    "1.   La adicción de 3 capas de dropout, cada una con una tasa del 20%. La primera se aplica a la segunda capa, la segunda a la tercera capa y la tercera a la cuarta capa. Estas capas de dropout ayudan a prevenir el sobreajuste al desactivar temporalmente una fracción de las neuronas durante el entrenamiento.\n",
    "2.   El aumento del tamaño de las épocas de entrenamiento de 30 a 50. Ello permite que el modelo se entrenara durante más tiempo, lo que podría mejorar su capacidad para aprender patrones complejos en los datos.\n",
    "\n",
    "Por consiguiente, estas modificaciones logran un equilibrio entre reducir el sobreajuste mediante la regularización con dropout y que el modelo aprenda más del conjunto de datos al aumentar el número de iteraciones. Logrando así mejorar la precisión del modelo en el conjunto de prueba, sin que caiga en overfitting."
   ]
  },
  {
   "cell_type": "markdown",
   "id": "67981497",
   "metadata": {
    "id": "67981497"
   },
   "source": [
    "**Modelo 1**\n",
    "\n",
    "En este caso, se han agregado 3 tasas de dropout después de la segunda, tercera y cuarta capa, cada una con un 20%. Con ello, logramos aumentar el accuracy a 0.4688."
   ]
  },
  {
   "cell_type": "code",
   "execution_count": 3,
   "id": "36f02804",
   "metadata": {
    "colab": {
     "base_uri": "https://localhost:8080/"
    },
    "executionInfo": {
     "elapsed": 146521,
     "status": "ok",
     "timestamp": 1714489352866,
     "user": {
      "displayName": "Cecilia Vásquez",
      "userId": "11534293609306579832"
     },
     "user_tz": 300
    },
    "id": "36f02804",
    "outputId": "b2916a97-9a9b-4207-d2bd-fef81a6284c3"
   },
   "outputs": [
    {
     "name": "stdout",
     "output_type": "stream",
     "text": [
      "Epoch 1/30\n",
      "313/313 [==============================] - 12s 13ms/step - loss: 4.2815 - accuracy: 0.0432 - val_loss: 3.9670 - val_accuracy: 0.0816\n",
      "Epoch 2/30\n",
      "313/313 [==============================] - 3s 9ms/step - loss: 3.7791 - accuracy: 0.1147 - val_loss: 3.5690 - val_accuracy: 0.1535\n",
      "Epoch 3/30\n",
      "313/313 [==============================] - 3s 11ms/step - loss: 3.4709 - accuracy: 0.1694 - val_loss: 3.2737 - val_accuracy: 0.1974\n",
      "Epoch 4/30\n",
      "313/313 [==============================] - 3s 9ms/step - loss: 3.2464 - accuracy: 0.2068 - val_loss: 3.2300 - val_accuracy: 0.2142\n",
      "Epoch 5/30\n",
      "313/313 [==============================] - 3s 9ms/step - loss: 3.0726 - accuracy: 0.2386 - val_loss: 2.9345 - val_accuracy: 0.2710\n",
      "Epoch 6/30\n",
      "313/313 [==============================] - 3s 10ms/step - loss: 2.9266 - accuracy: 0.2695 - val_loss: 2.8279 - val_accuracy: 0.2948\n",
      "Epoch 7/30\n",
      "313/313 [==============================] - 3s 11ms/step - loss: 2.8032 - accuracy: 0.2952 - val_loss: 2.6897 - val_accuracy: 0.3214\n",
      "Epoch 8/30\n",
      "313/313 [==============================] - 3s 9ms/step - loss: 2.6941 - accuracy: 0.3143 - val_loss: 2.6198 - val_accuracy: 0.3388\n",
      "Epoch 9/30\n",
      "313/313 [==============================] - 3s 9ms/step - loss: 2.6103 - accuracy: 0.3310 - val_loss: 2.5589 - val_accuracy: 0.3515\n",
      "Epoch 10/30\n",
      "313/313 [==============================] - 3s 9ms/step - loss: 2.5252 - accuracy: 0.3469 - val_loss: 2.5483 - val_accuracy: 0.3541\n",
      "Epoch 11/30\n",
      "313/313 [==============================] - 3s 11ms/step - loss: 2.4543 - accuracy: 0.3643 - val_loss: 2.4522 - val_accuracy: 0.3786\n",
      "Epoch 12/30\n",
      "313/313 [==============================] - 3s 9ms/step - loss: 2.3808 - accuracy: 0.3772 - val_loss: 2.4566 - val_accuracy: 0.3733\n",
      "Epoch 13/30\n",
      "313/313 [==============================] - 3s 9ms/step - loss: 2.3320 - accuracy: 0.3900 - val_loss: 2.4158 - val_accuracy: 0.3829\n",
      "Epoch 14/30\n",
      "313/313 [==============================] - 3s 9ms/step - loss: 2.2724 - accuracy: 0.3955 - val_loss: 2.3055 - val_accuracy: 0.4085\n",
      "Epoch 15/30\n",
      "313/313 [==============================] - 5s 16ms/step - loss: 2.2164 - accuracy: 0.4136 - val_loss: 2.3006 - val_accuracy: 0.4044\n",
      "Epoch 16/30\n",
      "313/313 [==============================] - 3s 11ms/step - loss: 2.1791 - accuracy: 0.4217 - val_loss: 2.3466 - val_accuracy: 0.3962\n",
      "Epoch 17/30\n",
      "313/313 [==============================] - 3s 9ms/step - loss: 2.1360 - accuracy: 0.4297 - val_loss: 2.2999 - val_accuracy: 0.4044\n",
      "Epoch 18/30\n",
      "313/313 [==============================] - 3s 9ms/step - loss: 2.0978 - accuracy: 0.4362 - val_loss: 2.2549 - val_accuracy: 0.4170\n",
      "Epoch 19/30\n",
      "313/313 [==============================] - 3s 11ms/step - loss: 2.0683 - accuracy: 0.4456 - val_loss: 2.3128 - val_accuracy: 0.4041\n",
      "Epoch 20/30\n",
      "313/313 [==============================] - 3s 9ms/step - loss: 2.0215 - accuracy: 0.4529 - val_loss: 2.2079 - val_accuracy: 0.4299\n",
      "Epoch 21/30\n",
      "313/313 [==============================] - 3s 9ms/step - loss: 1.9983 - accuracy: 0.4613 - val_loss: 2.2286 - val_accuracy: 0.4292\n",
      "Epoch 22/30\n",
      "313/313 [==============================] - 3s 9ms/step - loss: 1.9616 - accuracy: 0.4672 - val_loss: 2.2185 - val_accuracy: 0.4243\n",
      "Epoch 23/30\n",
      "313/313 [==============================] - 3s 10ms/step - loss: 1.9452 - accuracy: 0.4710 - val_loss: 2.2431 - val_accuracy: 0.4230\n",
      "Epoch 24/30\n",
      "313/313 [==============================] - 3s 9ms/step - loss: 1.9173 - accuracy: 0.4786 - val_loss: 2.2580 - val_accuracy: 0.4138\n",
      "Epoch 25/30\n",
      "313/313 [==============================] - 3s 9ms/step - loss: 1.8952 - accuracy: 0.4827 - val_loss: 2.1313 - val_accuracy: 0.4465\n",
      "Epoch 26/30\n",
      "313/313 [==============================] - 3s 9ms/step - loss: 1.8721 - accuracy: 0.4891 - val_loss: 2.1352 - val_accuracy: 0.4431\n",
      "Epoch 27/30\n",
      "313/313 [==============================] - 3s 10ms/step - loss: 1.8553 - accuracy: 0.4914 - val_loss: 2.1297 - val_accuracy: 0.4468\n",
      "Epoch 28/30\n",
      "313/313 [==============================] - 3s 9ms/step - loss: 1.8234 - accuracy: 0.4996 - val_loss: 2.0680 - val_accuracy: 0.4606\n",
      "Epoch 29/30\n",
      "313/313 [==============================] - 3s 9ms/step - loss: 1.8085 - accuracy: 0.4990 - val_loss: 2.1057 - val_accuracy: 0.4532\n",
      "Epoch 30/30\n",
      "313/313 [==============================] - 3s 9ms/step - loss: 1.8031 - accuracy: 0.5025 - val_loss: 2.1071 - val_accuracy: 0.4499\n"
     ]
    }
   ],
   "source": [
    "# Build the model\n",
    "modelCNN1 = keras.Sequential([\n",
    "        keras.layers.Conv2D(filters=32, kernel_size=(3, 3), padding='same', activation='relu', input_shape=(32, 32, 3)),\n",
    "        keras.layers.MaxPooling2D(pool_size=(2, 2)),\n",
    "        keras.layers.Conv2D(filters=64, kernel_size=(3, 3), padding='same', activation='relu'),\n",
    "        keras.layers.MaxPooling2D(pool_size=(2, 2)),\n",
    "        keras.layers.Dropout(rate=0.2),\n",
    "        keras.layers.Conv2D(filters=128, kernel_size=(3, 3), padding='same', activation='relu'),\n",
    "        keras.layers.MaxPooling2D(pool_size=(2, 2)),\n",
    "        keras.layers.Dropout(rate=0.2),\n",
    "        keras.layers.Conv2D(filters=256, kernel_size=(3, 3), padding='same', activation='relu'),\n",
    "        keras.layers.MaxPooling2D(pool_size=(2, 2)),\n",
    "        keras.layers.Dropout(rate=0.2),\n",
    "        keras.layers.Flatten(),\n",
    "        keras.layers.Dropout(rate=0.5),\n",
    "        keras.layers.Dense(units=512, activation='relu'),\n",
    "        keras.layers.Dense(units=100, activation='softmax')\n",
    "])\n",
    "\n",
    "# Compile and train the model\n",
    "modelCNN1.compile(loss='categorical_crossentropy',\n",
    "              optimizer=keras.optimizers.RMSprop(),\n",
    "              metrics=['accuracy'])\n",
    "\n",
    "history = modelCNN1.fit(x_train, y_train, epochs=30, batch_size=128, validation_split=0.2)"
   ]
  },
  {
   "cell_type": "markdown",
   "id": "7974af3b",
   "metadata": {
    "id": "7974af3b"
   },
   "source": [
    "Vamos a ver el Accuracy del modelo"
   ]
  },
  {
   "cell_type": "code",
   "execution_count": 4,
   "id": "175906eb",
   "metadata": {
    "colab": {
     "base_uri": "https://localhost:8080/"
    },
    "executionInfo": {
     "elapsed": 2102,
     "status": "ok",
     "timestamp": 1714489388156,
     "user": {
      "displayName": "Cecilia Vásquez",
      "userId": "11534293609306579832"
     },
     "user_tz": 300
    },
    "id": "175906eb",
    "outputId": "db2a9f62-a2d2-4ff3-e91f-fbfc352c3aa8"
   },
   "outputs": [
    {
     "name": "stdout",
     "output_type": "stream",
     "text": [
      "313/313 [==============================] - 1s 2ms/step\n"
     ]
    }
   ],
   "source": [
    "y_pred_cnn = np.argmax(modelCNN1.predict(x_test), axis=1)\n",
    "y_test_cnn = np.argmax(y_test, axis=1)"
   ]
  },
  {
   "cell_type": "code",
   "execution_count": 5,
   "id": "e04ac149",
   "metadata": {
    "colab": {
     "base_uri": "https://localhost:8080/"
    },
    "executionInfo": {
     "elapsed": 348,
     "status": "ok",
     "timestamp": 1714489390617,
     "user": {
      "displayName": "Cecilia Vásquez",
      "userId": "11534293609306579832"
     },
     "user_tz": 300
    },
    "id": "e04ac149",
    "outputId": "d7bb8210-ec6b-4320-ea3c-9a273b31bd96"
   },
   "outputs": [
    {
     "name": "stdout",
     "output_type": "stream",
     "text": [
      "Test accuracy: 0.4688\n"
     ]
    }
   ],
   "source": [
    "accuracy = accuracy_score(y_pred_cnn, y_test_cnn)\n",
    "print('Test accuracy:', accuracy)"
   ]
  },
  {
   "cell_type": "markdown",
   "id": "e00c5272",
   "metadata": {
    "id": "e00c5272"
   },
   "source": [
    "**Modelo 2**\n",
    "\n",
    "Adicionalmente, se presenta la arquitectura del modelo con una capa convolucional adicional que tiene 1000 neuronas se mantienen las tasas de dropouts mencionadas para el modelo 1 y se agrega una del 50% al final. Con ello, se alcanzó un accuracy de 0.4253.\n"
   ]
  },
  {
   "cell_type": "code",
   "execution_count": 6,
   "id": "06b9e3c0",
   "metadata": {
    "colab": {
     "base_uri": "https://localhost:8080/"
    },
    "executionInfo": {
     "elapsed": 115159,
     "status": "ok",
     "timestamp": 1714489553139,
     "user": {
      "displayName": "Cecilia Vásquez",
      "userId": "11534293609306579832"
     },
     "user_tz": 300
    },
    "id": "06b9e3c0",
    "outputId": "eb4d26b6-28eb-40cc-8f53-c150390883c0"
   },
   "outputs": [
    {
     "name": "stdout",
     "output_type": "stream",
     "text": [
      "Epoch 1/30\n",
      "313/313 [==============================] - 7s 15ms/step - loss: 4.5144 - accuracy: 0.0176 - val_loss: 4.4013 - val_accuracy: 0.0223\n",
      "Epoch 2/30\n",
      "313/313 [==============================] - 4s 12ms/step - loss: 4.2610 - accuracy: 0.0371 - val_loss: 4.0256 - val_accuracy: 0.0650\n",
      "Epoch 3/30\n",
      "313/313 [==============================] - 4s 11ms/step - loss: 3.9569 - accuracy: 0.0720 - val_loss: 3.7684 - val_accuracy: 0.1002\n",
      "Epoch 4/30\n",
      "313/313 [==============================] - 4s 11ms/step - loss: 3.7273 - accuracy: 0.1092 - val_loss: 3.6497 - val_accuracy: 0.1242\n",
      "Epoch 5/30\n",
      "313/313 [==============================] - 4s 13ms/step - loss: 3.5279 - accuracy: 0.1431 - val_loss: 3.3136 - val_accuracy: 0.1839\n",
      "Epoch 6/30\n",
      "313/313 [==============================] - 4s 12ms/step - loss: 3.3480 - accuracy: 0.1758 - val_loss: 3.1559 - val_accuracy: 0.2207\n",
      "Epoch 7/30\n",
      "313/313 [==============================] - 4s 11ms/step - loss: 3.1922 - accuracy: 0.2094 - val_loss: 3.1737 - val_accuracy: 0.2228\n",
      "Epoch 8/30\n",
      "313/313 [==============================] - 4s 11ms/step - loss: 3.0484 - accuracy: 0.2386 - val_loss: 2.9866 - val_accuracy: 0.2556\n",
      "Epoch 9/30\n",
      "313/313 [==============================] - 4s 12ms/step - loss: 2.9336 - accuracy: 0.2621 - val_loss: 2.8233 - val_accuracy: 0.2897\n",
      "Epoch 10/30\n",
      "313/313 [==============================] - 4s 11ms/step - loss: 2.8305 - accuracy: 0.2845 - val_loss: 2.7392 - val_accuracy: 0.3076\n",
      "Epoch 11/30\n",
      "313/313 [==============================] - 4s 11ms/step - loss: 2.7396 - accuracy: 0.3009 - val_loss: 2.7404 - val_accuracy: 0.3092\n",
      "Epoch 12/30\n",
      "313/313 [==============================] - 4s 13ms/step - loss: 2.6564 - accuracy: 0.3176 - val_loss: 2.7847 - val_accuracy: 0.3099\n",
      "Epoch 13/30\n",
      "313/313 [==============================] - 4s 11ms/step - loss: 2.6003 - accuracy: 0.3326 - val_loss: 2.6729 - val_accuracy: 0.3243\n",
      "Epoch 14/30\n",
      "313/313 [==============================] - 3s 11ms/step - loss: 2.5302 - accuracy: 0.3449 - val_loss: 2.5416 - val_accuracy: 0.3540\n",
      "Epoch 15/30\n",
      "313/313 [==============================] - 4s 12ms/step - loss: 2.4886 - accuracy: 0.3537 - val_loss: 2.5279 - val_accuracy: 0.3611\n",
      "Epoch 16/30\n",
      "313/313 [==============================] - 4s 12ms/step - loss: 2.4187 - accuracy: 0.3697 - val_loss: 2.4617 - val_accuracy: 0.3709\n",
      "Epoch 17/30\n",
      "313/313 [==============================] - 4s 11ms/step - loss: 2.3846 - accuracy: 0.3760 - val_loss: 2.4192 - val_accuracy: 0.3812\n",
      "Epoch 18/30\n",
      "313/313 [==============================] - 4s 11ms/step - loss: 2.3498 - accuracy: 0.3832 - val_loss: 2.4812 - val_accuracy: 0.3672\n",
      "Epoch 19/30\n",
      "313/313 [==============================] - 4s 12ms/step - loss: 2.3095 - accuracy: 0.3911 - val_loss: 2.4160 - val_accuracy: 0.3859\n",
      "Epoch 20/30\n",
      "313/313 [==============================] - 4s 11ms/step - loss: 2.2733 - accuracy: 0.4027 - val_loss: 2.3533 - val_accuracy: 0.3940\n",
      "Epoch 21/30\n",
      "313/313 [==============================] - 4s 11ms/step - loss: 2.2477 - accuracy: 0.4070 - val_loss: 2.3742 - val_accuracy: 0.3924\n",
      "Epoch 22/30\n",
      "313/313 [==============================] - 4s 12ms/step - loss: 2.2119 - accuracy: 0.4155 - val_loss: 2.4057 - val_accuracy: 0.3849\n",
      "Epoch 23/30\n",
      "313/313 [==============================] - 4s 12ms/step - loss: 2.2115 - accuracy: 0.4164 - val_loss: 2.2852 - val_accuracy: 0.4116\n",
      "Epoch 24/30\n",
      "313/313 [==============================] - 4s 11ms/step - loss: 2.1747 - accuracy: 0.4257 - val_loss: 2.3450 - val_accuracy: 0.4075\n",
      "Epoch 25/30\n",
      "313/313 [==============================] - 4s 12ms/step - loss: 2.1606 - accuracy: 0.4288 - val_loss: 2.3294 - val_accuracy: 0.4020\n",
      "Epoch 26/30\n",
      "313/313 [==============================] - 4s 12ms/step - loss: 2.1363 - accuracy: 0.4340 - val_loss: 2.3581 - val_accuracy: 0.3986\n",
      "Epoch 27/30\n",
      "313/313 [==============================] - 4s 11ms/step - loss: 2.1278 - accuracy: 0.4356 - val_loss: 2.3210 - val_accuracy: 0.4084\n",
      "Epoch 28/30\n",
      "313/313 [==============================] - 4s 11ms/step - loss: 2.1068 - accuracy: 0.4430 - val_loss: 2.3514 - val_accuracy: 0.4036\n",
      "Epoch 29/30\n",
      "313/313 [==============================] - 4s 12ms/step - loss: 2.0938 - accuracy: 0.4444 - val_loss: 2.2733 - val_accuracy: 0.4189\n",
      "Epoch 30/30\n",
      "313/313 [==============================] - 4s 11ms/step - loss: 2.0802 - accuracy: 0.4491 - val_loss: 2.3552 - val_accuracy: 0.4101\n"
     ]
    }
   ],
   "source": [
    "# Build the model\n",
    "modelCNN2 = keras.Sequential([\n",
    "        keras.layers.Conv2D(filters=32, kernel_size=(3, 3), padding='same', activation='relu', input_shape=(32, 32, 3)),\n",
    "        keras.layers.MaxPooling2D(pool_size=(2, 2)),\n",
    "        keras.layers.Conv2D(filters=64, kernel_size=(3, 3), padding='same', activation='relu'),\n",
    "        keras.layers.MaxPooling2D(pool_size=(2, 2)),\n",
    "        keras.layers.Dropout(rate=0.2),\n",
    "        keras.layers.Conv2D(filters=128, kernel_size=(3, 3), padding='same', activation='relu'),\n",
    "        keras.layers.MaxPooling2D(pool_size=(2, 2)),\n",
    "        keras.layers.Dropout(rate=0.2),\n",
    "        keras.layers.Conv2D(filters=256, kernel_size=(3, 3), padding='same', activation='relu'),\n",
    "        keras.layers.MaxPooling2D(pool_size=(2, 2)),\n",
    "        keras.layers.Dropout(rate=0.2),\n",
    "        keras.layers.Conv2D(filters=512, kernel_size=(3, 3), padding='same', activation='relu'),\n",
    "        keras.layers.MaxPooling2D(pool_size=(2, 2)),\n",
    "        keras.layers.Dropout(rate=0.2),\n",
    "        keras.layers.Flatten(),\n",
    "        keras.layers.Dropout(rate=0.5),\n",
    "        keras.layers.Dense(units=1000, activation='relu'),\n",
    "        keras.layers.Dropout(rate=0.5),\n",
    "        keras.layers.Dense(units=100, activation='softmax')\n",
    "])\n",
    "\n",
    "# Compile and train the model\n",
    "modelCNN2.compile(loss='categorical_crossentropy',\n",
    "              optimizer=keras.optimizers.RMSprop(),\n",
    "              metrics=['accuracy'])\n",
    "\n",
    "history = modelCNN2.fit(x_train, y_train, epochs=30, batch_size=128, validation_split=0.2)"
   ]
  },
  {
   "cell_type": "code",
   "execution_count": 7,
   "id": "74b25bd0",
   "metadata": {
    "colab": {
     "base_uri": "https://localhost:8080/"
    },
    "executionInfo": {
     "elapsed": 1431,
     "status": "ok",
     "timestamp": 1714489561288,
     "user": {
      "displayName": "Cecilia Vásquez",
      "userId": "11534293609306579832"
     },
     "user_tz": 300
    },
    "id": "74b25bd0",
    "outputId": "08cf929f-69ad-498e-d977-102e33f9506c"
   },
   "outputs": [
    {
     "name": "stdout",
     "output_type": "stream",
     "text": [
      "313/313 [==============================] - 1s 2ms/step\n"
     ]
    }
   ],
   "source": [
    "y_pred_cnn = np.argmax(modelCNN2.predict(x_test), axis=1)\n",
    "y_test_cnn = np.argmax(y_test, axis=1)"
   ]
  },
  {
   "cell_type": "code",
   "execution_count": 8,
   "id": "ffdc8e4a",
   "metadata": {
    "colab": {
     "base_uri": "https://localhost:8080/"
    },
    "executionInfo": {
     "elapsed": 272,
     "status": "ok",
     "timestamp": 1714489564325,
     "user": {
      "displayName": "Cecilia Vásquez",
      "userId": "11534293609306579832"
     },
     "user_tz": 300
    },
    "id": "ffdc8e4a",
    "outputId": "90b6a162-b6ef-4c03-dd50-5ccb7b6697e5"
   },
   "outputs": [
    {
     "name": "stdout",
     "output_type": "stream",
     "text": [
      "Test accuracy: 0.4253\n"
     ]
    }
   ],
   "source": [
    "accuracy = accuracy_score(y_pred_cnn, y_test_cnn)\n",
    "print('Test accuracy:', accuracy)"
   ]
  },
  {
   "cell_type": "markdown",
   "id": "uNxIru75i2rv",
   "metadata": {
    "id": "uNxIru75i2rv"
   },
   "source": [
    "**Modelo 3**\n",
    "\n",
    "Se toma el modelo 2, que contiene una capa convolucional adicional y se aumenta el tamaño de las épocas desde 30 a 50; sin embargo, ello no mejoró el rendimiento del modelo, alcanzando un accuracy de 0.4172."
   ]
  },
  {
   "cell_type": "markdown",
   "id": "gwgp64ENsUQN",
   "metadata": {
    "id": "gwgp64ENsUQN"
   },
   "source": [
    "En este caso, se puede observar que el modelo 3 está haciendo overfitting al aumentar el número de iteracciones (épocas), dado que se ha ajustado demasiado a los datos de entrenamiento que no permite predecir adecuadamente en un nuevo conjunto de datos."
   ]
  },
  {
   "cell_type": "code",
   "execution_count": 9,
   "id": "MBkFouFnklL3",
   "metadata": {
    "colab": {
     "base_uri": "https://localhost:8080/"
    },
    "executionInfo": {
     "elapsed": 206896,
     "status": "ok",
     "timestamp": 1714490645395,
     "user": {
      "displayName": "Cecilia Vásquez",
      "userId": "11534293609306579832"
     },
     "user_tz": 300
    },
    "id": "MBkFouFnklL3",
    "outputId": "5a7a9935-6ca5-4e13-f75e-c6c7d3c6b6a4"
   },
   "outputs": [
    {
     "name": "stdout",
     "output_type": "stream",
     "text": [
      "Epoch 1/50\n",
      "313/313 [==============================] - 7s 14ms/step - loss: 4.4733 - accuracy: 0.0219 - val_loss: 4.2012 - val_accuracy: 0.0397\n",
      "Epoch 2/50\n",
      "313/313 [==============================] - 4s 11ms/step - loss: 4.1018 - accuracy: 0.0530 - val_loss: 3.9903 - val_accuracy: 0.0711\n",
      "Epoch 3/50\n",
      "313/313 [==============================] - 4s 12ms/step - loss: 3.8550 - accuracy: 0.0898 - val_loss: 3.6469 - val_accuracy: 0.1348\n",
      "Epoch 4/50\n",
      "313/313 [==============================] - 4s 12ms/step - loss: 3.6387 - accuracy: 0.1310 - val_loss: 3.4268 - val_accuracy: 0.1687\n",
      "Epoch 5/50\n",
      "313/313 [==============================] - 4s 12ms/step - loss: 3.4389 - accuracy: 0.1658 - val_loss: 3.2843 - val_accuracy: 0.2020\n",
      "Epoch 6/50\n",
      "313/313 [==============================] - 4s 12ms/step - loss: 3.2582 - accuracy: 0.2028 - val_loss: 3.1115 - val_accuracy: 0.2316\n",
      "Epoch 7/50\n",
      "313/313 [==============================] - 4s 12ms/step - loss: 3.1200 - accuracy: 0.2273 - val_loss: 3.0245 - val_accuracy: 0.2568\n",
      "Epoch 8/50\n",
      "313/313 [==============================] - 4s 11ms/step - loss: 3.0040 - accuracy: 0.2484 - val_loss: 2.8247 - val_accuracy: 0.2880\n",
      "Epoch 9/50\n",
      "313/313 [==============================] - 4s 11ms/step - loss: 2.8904 - accuracy: 0.2718 - val_loss: 2.9073 - val_accuracy: 0.2752\n",
      "Epoch 10/50\n",
      "313/313 [==============================] - 4s 12ms/step - loss: 2.7964 - accuracy: 0.2911 - val_loss: 2.7745 - val_accuracy: 0.3048\n",
      "Epoch 11/50\n",
      "313/313 [==============================] - 4s 11ms/step - loss: 2.7141 - accuracy: 0.3082 - val_loss: 2.6177 - val_accuracy: 0.3388\n",
      "Epoch 12/50\n",
      "313/313 [==============================] - 4s 11ms/step - loss: 2.6279 - accuracy: 0.3255 - val_loss: 2.5736 - val_accuracy: 0.3416\n",
      "Epoch 13/50\n",
      "313/313 [==============================] - 4s 13ms/step - loss: 2.5704 - accuracy: 0.3347 - val_loss: 2.5210 - val_accuracy: 0.3560\n",
      "Epoch 14/50\n",
      "313/313 [==============================] - 4s 11ms/step - loss: 2.5108 - accuracy: 0.3511 - val_loss: 2.5431 - val_accuracy: 0.3569\n",
      "Epoch 15/50\n",
      "313/313 [==============================] - 4s 11ms/step - loss: 2.4486 - accuracy: 0.3639 - val_loss: 2.5977 - val_accuracy: 0.3508\n",
      "Epoch 16/50\n",
      "313/313 [==============================] - 5s 15ms/step - loss: 2.4167 - accuracy: 0.3678 - val_loss: 2.4098 - val_accuracy: 0.3798\n",
      "Epoch 17/50\n",
      "313/313 [==============================] - 4s 11ms/step - loss: 2.3673 - accuracy: 0.3802 - val_loss: 2.3622 - val_accuracy: 0.3962\n",
      "Epoch 18/50\n",
      "313/313 [==============================] - 4s 11ms/step - loss: 2.3338 - accuracy: 0.3897 - val_loss: 2.5036 - val_accuracy: 0.3724\n",
      "Epoch 19/50\n",
      "313/313 [==============================] - 4s 11ms/step - loss: 2.2952 - accuracy: 0.3955 - val_loss: 2.4578 - val_accuracy: 0.3767\n",
      "Epoch 20/50\n",
      "313/313 [==============================] - 4s 12ms/step - loss: 2.2761 - accuracy: 0.4017 - val_loss: 2.3412 - val_accuracy: 0.4032\n",
      "Epoch 21/50\n",
      "313/313 [==============================] - 4s 11ms/step - loss: 2.2287 - accuracy: 0.4114 - val_loss: 2.3157 - val_accuracy: 0.4101\n",
      "Epoch 22/50\n",
      "313/313 [==============================] - 4s 11ms/step - loss: 2.2158 - accuracy: 0.4172 - val_loss: 2.6452 - val_accuracy: 0.3420\n",
      "Epoch 23/50\n",
      "313/313 [==============================] - 4s 13ms/step - loss: 2.2068 - accuracy: 0.4212 - val_loss: 2.4000 - val_accuracy: 0.3917\n",
      "Epoch 24/50\n",
      "313/313 [==============================] - 4s 11ms/step - loss: 2.1706 - accuracy: 0.4253 - val_loss: 2.3280 - val_accuracy: 0.4032\n",
      "Epoch 25/50\n",
      "313/313 [==============================] - 4s 11ms/step - loss: 2.1605 - accuracy: 0.4307 - val_loss: 2.3343 - val_accuracy: 0.4031\n",
      "Epoch 26/50\n",
      "313/313 [==============================] - 4s 13ms/step - loss: 2.1411 - accuracy: 0.4350 - val_loss: 2.3831 - val_accuracy: 0.4038\n",
      "Epoch 27/50\n",
      "313/313 [==============================] - 4s 11ms/step - loss: 2.1228 - accuracy: 0.4371 - val_loss: 2.4242 - val_accuracy: 0.3854\n",
      "Epoch 28/50\n",
      "313/313 [==============================] - 4s 12ms/step - loss: 2.1101 - accuracy: 0.4402 - val_loss: 2.2757 - val_accuracy: 0.4230\n",
      "Epoch 29/50\n",
      "313/313 [==============================] - 4s 13ms/step - loss: 2.0890 - accuracy: 0.4460 - val_loss: 2.2883 - val_accuracy: 0.4170\n",
      "Epoch 30/50\n",
      "313/313 [==============================] - 4s 12ms/step - loss: 2.0852 - accuracy: 0.4473 - val_loss: 2.3246 - val_accuracy: 0.4079\n",
      "Epoch 31/50\n",
      "313/313 [==============================] - 4s 11ms/step - loss: 2.0729 - accuracy: 0.4520 - val_loss: 2.2783 - val_accuracy: 0.4192\n",
      "Epoch 32/50\n",
      "313/313 [==============================] - 4s 11ms/step - loss: 2.0642 - accuracy: 0.4527 - val_loss: 2.3022 - val_accuracy: 0.4219\n",
      "Epoch 33/50\n",
      "313/313 [==============================] - 4s 12ms/step - loss: 2.0481 - accuracy: 0.4575 - val_loss: 2.3334 - val_accuracy: 0.4053\n",
      "Epoch 34/50\n",
      "313/313 [==============================] - 4s 11ms/step - loss: 2.0365 - accuracy: 0.4635 - val_loss: 2.2834 - val_accuracy: 0.4264\n",
      "Epoch 35/50\n",
      "313/313 [==============================] - 4s 11ms/step - loss: 2.0300 - accuracy: 0.4642 - val_loss: 2.3900 - val_accuracy: 0.4064\n",
      "Epoch 36/50\n",
      "313/313 [==============================] - 4s 12ms/step - loss: 2.0235 - accuracy: 0.4617 - val_loss: 2.3123 - val_accuracy: 0.4157\n",
      "Epoch 37/50\n",
      "313/313 [==============================] - 4s 11ms/step - loss: 2.0110 - accuracy: 0.4697 - val_loss: 2.2782 - val_accuracy: 0.4257\n",
      "Epoch 38/50\n",
      "313/313 [==============================] - 4s 11ms/step - loss: 2.0081 - accuracy: 0.4692 - val_loss: 2.2494 - val_accuracy: 0.4316\n",
      "Epoch 39/50\n",
      "313/313 [==============================] - 4s 12ms/step - loss: 2.0008 - accuracy: 0.4702 - val_loss: 2.3027 - val_accuracy: 0.4250\n",
      "Epoch 40/50\n",
      "313/313 [==============================] - 4s 12ms/step - loss: 2.0010 - accuracy: 0.4717 - val_loss: 2.3409 - val_accuracy: 0.4115\n",
      "Epoch 41/50\n",
      "313/313 [==============================] - 4s 11ms/step - loss: 1.9989 - accuracy: 0.4717 - val_loss: 2.3511 - val_accuracy: 0.4093\n",
      "Epoch 42/50\n",
      "313/313 [==============================] - 4s 11ms/step - loss: 1.9894 - accuracy: 0.4753 - val_loss: 2.3279 - val_accuracy: 0.4159\n",
      "Epoch 43/50\n",
      "313/313 [==============================] - 4s 12ms/step - loss: 1.9936 - accuracy: 0.4750 - val_loss: 2.2371 - val_accuracy: 0.4358\n",
      "Epoch 44/50\n",
      "313/313 [==============================] - 4s 11ms/step - loss: 1.9896 - accuracy: 0.4768 - val_loss: 2.2808 - val_accuracy: 0.4279\n",
      "Epoch 45/50\n",
      "313/313 [==============================] - 3s 11ms/step - loss: 1.9758 - accuracy: 0.4825 - val_loss: 2.3695 - val_accuracy: 0.4106\n",
      "Epoch 46/50\n",
      "313/313 [==============================] - 4s 12ms/step - loss: 1.9898 - accuracy: 0.4795 - val_loss: 2.3712 - val_accuracy: 0.4161\n",
      "Epoch 47/50\n",
      "313/313 [==============================] - 4s 11ms/step - loss: 1.9922 - accuracy: 0.4772 - val_loss: 2.2923 - val_accuracy: 0.4274\n",
      "Epoch 48/50\n",
      "313/313 [==============================] - 4s 11ms/step - loss: 1.9863 - accuracy: 0.4814 - val_loss: 2.3059 - val_accuracy: 0.4208\n",
      "Epoch 49/50\n",
      "313/313 [==============================] - 4s 12ms/step - loss: 1.9675 - accuracy: 0.4830 - val_loss: 2.4469 - val_accuracy: 0.3983\n",
      "Epoch 50/50\n",
      "313/313 [==============================] - 4s 12ms/step - loss: 1.9695 - accuracy: 0.4865 - val_loss: 2.3926 - val_accuracy: 0.4093\n"
     ]
    }
   ],
   "source": [
    "# Build the model\n",
    "modelCNN3 = keras.Sequential([\n",
    "        keras.layers.Conv2D(filters=32, kernel_size=(3, 3), padding='same', activation='relu', input_shape=(32, 32, 3)),\n",
    "        keras.layers.MaxPooling2D(pool_size=(2, 2)),\n",
    "        keras.layers.Conv2D(filters=64, kernel_size=(3, 3), padding='same', activation='relu'),\n",
    "        keras.layers.MaxPooling2D(pool_size=(2, 2)),\n",
    "        keras.layers.Dropout(rate=0.2),\n",
    "        keras.layers.Conv2D(filters=128, kernel_size=(3, 3), padding='same', activation='relu'),\n",
    "        keras.layers.MaxPooling2D(pool_size=(2, 2)),\n",
    "        keras.layers.Dropout(rate=0.2),\n",
    "        keras.layers.Conv2D(filters=256, kernel_size=(3, 3), padding='same', activation='relu'),\n",
    "        keras.layers.MaxPooling2D(pool_size=(2, 2)),\n",
    "        keras.layers.Dropout(rate=0.2),\n",
    "        keras.layers.Conv2D(filters=512, kernel_size=(3, 3), padding='same', activation='relu'),\n",
    "        keras.layers.MaxPooling2D(pool_size=(2, 2)),\n",
    "        keras.layers.Dropout(rate=0.2),\n",
    "        keras.layers.Flatten(),\n",
    "        keras.layers.Dropout(rate=0.5),\n",
    "        keras.layers.Dense(units=1000, activation='relu'),\n",
    "        keras.layers.Dropout(rate=0.5),\n",
    "        keras.layers.Dense(units=100, activation='softmax')\n",
    "])\n",
    "\n",
    "# Compile and train the model\n",
    "modelCNN3.compile(loss='categorical_crossentropy',\n",
    "              optimizer=keras.optimizers.RMSprop(),\n",
    "              metrics=['accuracy'])\n",
    "\n",
    "history = modelCNN3.fit(x_train, y_train, epochs=50, batch_size=128, validation_split=0.2)"
   ]
  },
  {
   "cell_type": "code",
   "execution_count": 10,
   "id": "4p3BjaQJnEAo",
   "metadata": {
    "colab": {
     "base_uri": "https://localhost:8080/"
    },
    "executionInfo": {
     "elapsed": 3929,
     "status": "ok",
     "timestamp": 1714490732490,
     "user": {
      "displayName": "Cecilia Vásquez",
      "userId": "11534293609306579832"
     },
     "user_tz": 300
    },
    "id": "4p3BjaQJnEAo",
    "outputId": "b56a4c8b-27a4-4e34-c8a8-f36a0ba0cff8"
   },
   "outputs": [
    {
     "name": "stdout",
     "output_type": "stream",
     "text": [
      "313/313 [==============================] - 1s 4ms/step\n"
     ]
    }
   ],
   "source": [
    "y_pred_cnn = np.argmax(modelCNN3.predict(x_test), axis=1)\n",
    "y_test_cnn = np.argmax(y_test, axis=1)"
   ]
  },
  {
   "cell_type": "code",
   "execution_count": 11,
   "id": "z53hQ-lrnKCS",
   "metadata": {
    "colab": {
     "base_uri": "https://localhost:8080/"
    },
    "executionInfo": {
     "elapsed": 289,
     "status": "ok",
     "timestamp": 1714490751675,
     "user": {
      "displayName": "Cecilia Vásquez",
      "userId": "11534293609306579832"
     },
     "user_tz": 300
    },
    "id": "z53hQ-lrnKCS",
    "outputId": "ca05bbd1-21d1-4577-89ce-810a46c08e9a"
   },
   "outputs": [
    {
     "name": "stdout",
     "output_type": "stream",
     "text": [
      "Test accuracy: 0.4172\n"
     ]
    }
   ],
   "source": [
    "accuracy = accuracy_score(y_pred_cnn, y_test_cnn)\n",
    "print('Test accuracy:', accuracy)"
   ]
  },
  {
   "cell_type": "markdown",
   "id": "O_P3T4NTqLC4",
   "metadata": {
    "id": "O_P3T4NTqLC4"
   },
   "source": [
    "**Modelo 4**\n",
    "\n",
    "Por otro lado, se toma el modelo 1, en el cual se agregaron 3 capas de dropout después de la segunda, tercera y cuarta capa convolucional, cada una con un 20%, y aumentamos las épocas de 30 a 50, se alcanza un **accuracy de 0.4923**."
   ]
  },
  {
   "cell_type": "markdown",
   "id": "ntlShOONrBrQ",
   "metadata": {
    "id": "ntlShOONrBrQ"
   },
   "source": [
    "En este caso, contrariamente a lo ocurrido en el caso anterior, al aumentar el número de iteracciones no se cae en overfitting. Más bien, el modelo 4 aprende adecuadamente del conjunto de entrenamiento y predice con un mejor rendimiento en el conjunto de prueba. Se puede observar que hay un equilibrio entre la regularización con dropout y el tamaño de las épocas."
   ]
  },
  {
   "cell_type": "code",
   "execution_count": 12,
   "id": "EVdxetFUoLYp",
   "metadata": {
    "colab": {
     "base_uri": "https://localhost:8080/"
    },
    "executionInfo": {
     "elapsed": 207493,
     "status": "ok",
     "timestamp": 1714491451611,
     "user": {
      "displayName": "Cecilia Vásquez",
      "userId": "11534293609306579832"
     },
     "user_tz": 300
    },
    "id": "EVdxetFUoLYp",
    "outputId": "f5a043ce-5338-47dd-e9a3-36ffc6515174"
   },
   "outputs": [
    {
     "name": "stdout",
     "output_type": "stream",
     "text": [
      "Epoch 1/50\n",
      "313/313 [==============================] - 5s 11ms/step - loss: 4.3163 - accuracy: 0.0372 - val_loss: 4.0870 - val_accuracy: 0.0700\n",
      "Epoch 2/50\n",
      "313/313 [==============================] - 3s 9ms/step - loss: 3.8203 - accuracy: 0.1068 - val_loss: 3.6118 - val_accuracy: 0.1423\n",
      "Epoch 3/50\n",
      "313/313 [==============================] - 3s 11ms/step - loss: 3.5053 - accuracy: 0.1613 - val_loss: 3.3943 - val_accuracy: 0.1866\n",
      "Epoch 4/50\n",
      "313/313 [==============================] - 3s 10ms/step - loss: 3.2674 - accuracy: 0.2048 - val_loss: 3.0513 - val_accuracy: 0.2499\n",
      "Epoch 5/50\n",
      "313/313 [==============================] - 3s 10ms/step - loss: 3.0752 - accuracy: 0.2397 - val_loss: 2.9910 - val_accuracy: 0.2664\n",
      "Epoch 6/50\n",
      "313/313 [==============================] - 3s 10ms/step - loss: 2.9359 - accuracy: 0.2678 - val_loss: 2.8690 - val_accuracy: 0.2863\n",
      "Epoch 7/50\n",
      "313/313 [==============================] - 4s 11ms/step - loss: 2.8125 - accuracy: 0.2893 - val_loss: 2.7758 - val_accuracy: 0.3041\n",
      "Epoch 8/50\n",
      "313/313 [==============================] - 3s 9ms/step - loss: 2.7042 - accuracy: 0.3154 - val_loss: 2.7022 - val_accuracy: 0.3108\n",
      "Epoch 9/50\n",
      "313/313 [==============================] - 3s 9ms/step - loss: 2.6142 - accuracy: 0.3294 - val_loss: 2.6261 - val_accuracy: 0.3388\n",
      "Epoch 10/50\n",
      "313/313 [==============================] - 3s 9ms/step - loss: 2.5185 - accuracy: 0.3510 - val_loss: 2.5125 - val_accuracy: 0.3597\n",
      "Epoch 11/50\n",
      "313/313 [==============================] - 3s 10ms/step - loss: 2.4434 - accuracy: 0.3673 - val_loss: 2.4031 - val_accuracy: 0.3809\n",
      "Epoch 12/50\n",
      "313/313 [==============================] - 3s 9ms/step - loss: 2.3834 - accuracy: 0.3771 - val_loss: 2.4316 - val_accuracy: 0.3821\n",
      "Epoch 13/50\n",
      "313/313 [==============================] - 3s 9ms/step - loss: 2.3187 - accuracy: 0.3898 - val_loss: 2.4880 - val_accuracy: 0.3685\n",
      "Epoch 14/50\n",
      "313/313 [==============================] - 3s 9ms/step - loss: 2.2685 - accuracy: 0.4032 - val_loss: 2.3016 - val_accuracy: 0.4127\n",
      "Epoch 15/50\n",
      "313/313 [==============================] - 3s 10ms/step - loss: 2.2091 - accuracy: 0.4173 - val_loss: 2.3266 - val_accuracy: 0.4008\n",
      "Epoch 16/50\n",
      "313/313 [==============================] - 3s 9ms/step - loss: 2.1640 - accuracy: 0.4242 - val_loss: 2.3161 - val_accuracy: 0.4065\n",
      "Epoch 17/50\n",
      "313/313 [==============================] - 3s 9ms/step - loss: 2.1221 - accuracy: 0.4332 - val_loss: 2.2309 - val_accuracy: 0.4229\n",
      "Epoch 18/50\n",
      "313/313 [==============================] - 3s 9ms/step - loss: 2.0878 - accuracy: 0.4387 - val_loss: 2.1828 - val_accuracy: 0.4305\n",
      "Epoch 19/50\n",
      "313/313 [==============================] - 3s 11ms/step - loss: 2.0428 - accuracy: 0.4507 - val_loss: 2.1453 - val_accuracy: 0.4404\n",
      "Epoch 20/50\n",
      "313/313 [==============================] - 3s 9ms/step - loss: 2.0224 - accuracy: 0.4525 - val_loss: 2.1488 - val_accuracy: 0.4399\n",
      "Epoch 21/50\n",
      "313/313 [==============================] - 3s 9ms/step - loss: 1.9872 - accuracy: 0.4595 - val_loss: 2.1107 - val_accuracy: 0.4472\n",
      "Epoch 22/50\n",
      "313/313 [==============================] - 3s 9ms/step - loss: 1.9436 - accuracy: 0.4719 - val_loss: 2.1309 - val_accuracy: 0.4466\n",
      "Epoch 23/50\n",
      "313/313 [==============================] - 3s 11ms/step - loss: 1.9327 - accuracy: 0.4725 - val_loss: 2.0695 - val_accuracy: 0.4569\n",
      "Epoch 24/50\n",
      "313/313 [==============================] - 3s 9ms/step - loss: 1.9067 - accuracy: 0.4807 - val_loss: 2.1482 - val_accuracy: 0.4382\n",
      "Epoch 25/50\n",
      "313/313 [==============================] - 3s 9ms/step - loss: 1.8738 - accuracy: 0.4859 - val_loss: 2.0815 - val_accuracy: 0.4519\n",
      "Epoch 26/50\n",
      "313/313 [==============================] - 3s 9ms/step - loss: 1.8616 - accuracy: 0.4913 - val_loss: 2.1083 - val_accuracy: 0.4500\n",
      "Epoch 27/50\n",
      "313/313 [==============================] - 3s 11ms/step - loss: 1.8457 - accuracy: 0.4927 - val_loss: 2.0771 - val_accuracy: 0.4557\n",
      "Epoch 28/50\n",
      "313/313 [==============================] - 3s 9ms/step - loss: 1.8190 - accuracy: 0.5012 - val_loss: 2.3257 - val_accuracy: 0.4150\n",
      "Epoch 29/50\n",
      "313/313 [==============================] - 3s 9ms/step - loss: 1.8006 - accuracy: 0.5073 - val_loss: 2.0920 - val_accuracy: 0.4487\n",
      "Epoch 30/50\n",
      "313/313 [==============================] - 3s 9ms/step - loss: 1.7841 - accuracy: 0.5083 - val_loss: 2.0677 - val_accuracy: 0.4566\n",
      "Epoch 31/50\n",
      "313/313 [==============================] - 3s 10ms/step - loss: 1.7761 - accuracy: 0.5054 - val_loss: 2.1291 - val_accuracy: 0.4473\n",
      "Epoch 32/50\n",
      "313/313 [==============================] - 3s 9ms/step - loss: 1.7607 - accuracy: 0.5124 - val_loss: 2.3364 - val_accuracy: 0.4063\n",
      "Epoch 33/50\n",
      "313/313 [==============================] - 3s 9ms/step - loss: 1.7477 - accuracy: 0.5168 - val_loss: 2.0847 - val_accuracy: 0.4587\n",
      "Epoch 34/50\n",
      "313/313 [==============================] - 3s 9ms/step - loss: 1.7280 - accuracy: 0.5204 - val_loss: 2.1638 - val_accuracy: 0.4395\n",
      "Epoch 35/50\n",
      "313/313 [==============================] - 3s 11ms/step - loss: 1.7181 - accuracy: 0.5209 - val_loss: 2.0301 - val_accuracy: 0.4665\n",
      "Epoch 36/50\n",
      "313/313 [==============================] - 3s 9ms/step - loss: 1.6993 - accuracy: 0.5296 - val_loss: 2.1177 - val_accuracy: 0.4523\n",
      "Epoch 37/50\n",
      "313/313 [==============================] - 3s 9ms/step - loss: 1.6988 - accuracy: 0.5229 - val_loss: 2.0378 - val_accuracy: 0.4689\n",
      "Epoch 38/50\n",
      "313/313 [==============================] - 3s 9ms/step - loss: 1.6859 - accuracy: 0.5306 - val_loss: 2.0250 - val_accuracy: 0.4751\n",
      "Epoch 39/50\n",
      "313/313 [==============================] - 3s 11ms/step - loss: 1.6754 - accuracy: 0.5336 - val_loss: 2.1092 - val_accuracy: 0.4535\n",
      "Epoch 40/50\n",
      "313/313 [==============================] - 3s 9ms/step - loss: 1.6726 - accuracy: 0.5330 - val_loss: 2.1149 - val_accuracy: 0.4535\n",
      "Epoch 41/50\n",
      "313/313 [==============================] - 3s 9ms/step - loss: 1.6522 - accuracy: 0.5375 - val_loss: 2.0796 - val_accuracy: 0.4579\n",
      "Epoch 42/50\n",
      "313/313 [==============================] - 3s 9ms/step - loss: 1.6449 - accuracy: 0.5414 - val_loss: 2.0809 - val_accuracy: 0.4547\n",
      "Epoch 43/50\n",
      "313/313 [==============================] - 3s 11ms/step - loss: 1.6317 - accuracy: 0.5475 - val_loss: 2.0344 - val_accuracy: 0.4680\n",
      "Epoch 44/50\n",
      "313/313 [==============================] - 3s 9ms/step - loss: 1.6254 - accuracy: 0.5428 - val_loss: 2.1343 - val_accuracy: 0.4529\n",
      "Epoch 45/50\n",
      "313/313 [==============================] - 3s 9ms/step - loss: 1.6198 - accuracy: 0.5495 - val_loss: 2.0314 - val_accuracy: 0.4680\n",
      "Epoch 46/50\n",
      "313/313 [==============================] - 3s 9ms/step - loss: 1.6118 - accuracy: 0.5473 - val_loss: 2.0798 - val_accuracy: 0.4518\n",
      "Epoch 47/50\n",
      "313/313 [==============================] - 3s 11ms/step - loss: 1.6227 - accuracy: 0.5480 - val_loss: 2.0277 - val_accuracy: 0.4710\n",
      "Epoch 48/50\n",
      "313/313 [==============================] - 3s 9ms/step - loss: 1.6031 - accuracy: 0.5516 - val_loss: 2.1001 - val_accuracy: 0.4580\n",
      "Epoch 49/50\n",
      "313/313 [==============================] - 3s 9ms/step - loss: 1.6016 - accuracy: 0.5467 - val_loss: 2.0018 - val_accuracy: 0.4789\n",
      "Epoch 50/50\n",
      "313/313 [==============================] - 3s 9ms/step - loss: 1.6021 - accuracy: 0.5552 - val_loss: 1.9914 - val_accuracy: 0.4762\n"
     ]
    }
   ],
   "source": [
    "# Build the model\n",
    "modelCNN4 = keras.Sequential([\n",
    "        keras.layers.Conv2D(filters=32, kernel_size=(3, 3), padding='same', activation='relu', input_shape=(32, 32, 3)),\n",
    "        keras.layers.MaxPooling2D(pool_size=(2, 2)),\n",
    "        keras.layers.Conv2D(filters=64, kernel_size=(3, 3), padding='same', activation='relu'),\n",
    "        keras.layers.MaxPooling2D(pool_size=(2, 2)),\n",
    "        keras.layers.Dropout(rate=0.2),\n",
    "        keras.layers.Conv2D(filters=128, kernel_size=(3, 3), padding='same', activation='relu'),\n",
    "        keras.layers.MaxPooling2D(pool_size=(2, 2)),\n",
    "        keras.layers.Dropout(rate=0.2),\n",
    "        keras.layers.Conv2D(filters=256, kernel_size=(3, 3), padding='same', activation='relu'),\n",
    "        keras.layers.MaxPooling2D(pool_size=(2, 2)),\n",
    "        keras.layers.Dropout(rate=0.2),\n",
    "        keras.layers.Flatten(),\n",
    "        keras.layers.Dropout(rate=0.5),\n",
    "        keras.layers.Dense(units=512, activation='relu'),\n",
    "        keras.layers.Dense(units=100, activation='softmax')\n",
    "])\n",
    "\n",
    "# Compile and train the model\n",
    "modelCNN4.compile(loss='categorical_crossentropy',\n",
    "              optimizer=keras.optimizers.RMSprop(),\n",
    "              metrics=['accuracy'])\n",
    "\n",
    "history = modelCNN4.fit(x_train, y_train, epochs=50, batch_size=128, validation_split=0.2)"
   ]
  },
  {
   "cell_type": "code",
   "execution_count": 13,
   "id": "ix2ae_Hbp9jW",
   "metadata": {
    "colab": {
     "base_uri": "https://localhost:8080/"
    },
    "executionInfo": {
     "elapsed": 3199,
     "status": "ok",
     "timestamp": 1714491497179,
     "user": {
      "displayName": "Cecilia Vásquez",
      "userId": "11534293609306579832"
     },
     "user_tz": 300
    },
    "id": "ix2ae_Hbp9jW",
    "outputId": "a5c95483-ea8e-4ed8-d020-185ad7425654"
   },
   "outputs": [
    {
     "name": "stdout",
     "output_type": "stream",
     "text": [
      "313/313 [==============================] - 2s 4ms/step\n"
     ]
    }
   ],
   "source": [
    "y_pred_cnn = np.argmax(modelCNN4.predict(x_test), axis=1)\n",
    "y_test_cnn = np.argmax(y_test, axis=1)"
   ]
  },
  {
   "cell_type": "code",
   "execution_count": 14,
   "id": "Ysb_yo6hqD_D",
   "metadata": {
    "colab": {
     "base_uri": "https://localhost:8080/"
    },
    "executionInfo": {
     "elapsed": 341,
     "status": "ok",
     "timestamp": 1714491510367,
     "user": {
      "displayName": "Cecilia Vásquez",
      "userId": "11534293609306579832"
     },
     "user_tz": 300
    },
    "id": "Ysb_yo6hqD_D",
    "outputId": "d81c8c5a-2ddf-4637-f59f-8ea8d67092ed"
   },
   "outputs": [
    {
     "name": "stdout",
     "output_type": "stream",
     "text": [
      "Test accuracy: 0.4923\n"
     ]
    }
   ],
   "source": [
    "accuracy = accuracy_score(y_pred_cnn, y_test_cnn)\n",
    "print('Test accuracy:', accuracy)"
   ]
  },
  {
   "cell_type": "markdown",
   "id": "6qNqvO-mwDrR",
   "metadata": {
    "id": "6qNqvO-mwDrR"
   },
   "source": [
    "**Modelo 5**\n",
    "\n",
    "Se toma el modelo 4 (nuestro modelo con el mejor rendimiento), se cambia el tamaño del batch desde 128 a 64; sin embargo, dicho cambio no mejoró el rendimiento del modelo alcanzando un accuracy de 0.3883."
   ]
  },
  {
   "cell_type": "code",
   "execution_count": 19,
   "id": "qj70iW_Ru0kl",
   "metadata": {
    "colab": {
     "base_uri": "https://localhost:8080/"
    },
    "executionInfo": {
     "elapsed": 265566,
     "status": "ok",
     "timestamp": 1714493955905,
     "user": {
      "displayName": "Cecilia Vásquez",
      "userId": "11534293609306579832"
     },
     "user_tz": 300
    },
    "id": "qj70iW_Ru0kl",
    "outputId": "f88ecfc7-c056-4b1c-e054-a55fb75bf2c9"
   },
   "outputs": [
    {
     "name": "stdout",
     "output_type": "stream",
     "text": [
      "Epoch 1/50\n",
      "625/625 [==============================] - 6s 7ms/step - loss: 4.1869 - accuracy: 0.0557 - val_loss: 3.7822 - val_accuracy: 0.1208\n",
      "Epoch 2/50\n",
      "625/625 [==============================] - 4s 6ms/step - loss: 3.6132 - accuracy: 0.1423 - val_loss: 3.2758 - val_accuracy: 0.2056\n",
      "Epoch 3/50\n",
      "625/625 [==============================] - 7s 11ms/step - loss: 3.2874 - accuracy: 0.2009 - val_loss: 3.1369 - val_accuracy: 0.2361\n",
      "Epoch 4/50\n",
      "625/625 [==============================] - 6s 10ms/step - loss: 3.0695 - accuracy: 0.2424 - val_loss: 2.9035 - val_accuracy: 0.2824\n",
      "Epoch 5/50\n",
      "625/625 [==============================] - 6s 10ms/step - loss: 2.8997 - accuracy: 0.2772 - val_loss: 2.7519 - val_accuracy: 0.3072\n",
      "Epoch 6/50\n",
      "625/625 [==============================] - 4s 7ms/step - loss: 2.7511 - accuracy: 0.3020 - val_loss: 2.6193 - val_accuracy: 0.3344\n",
      "Epoch 7/50\n",
      "625/625 [==============================] - 4s 7ms/step - loss: 2.6476 - accuracy: 0.3221 - val_loss: 2.5225 - val_accuracy: 0.3525\n",
      "Epoch 8/50\n",
      "625/625 [==============================] - 4s 7ms/step - loss: 2.5588 - accuracy: 0.3424 - val_loss: 2.4746 - val_accuracy: 0.3734\n",
      "Epoch 9/50\n",
      "625/625 [==============================] - 4s 6ms/step - loss: 2.4768 - accuracy: 0.3591 - val_loss: 2.4468 - val_accuracy: 0.3641\n",
      "Epoch 10/50\n",
      "625/625 [==============================] - 4s 6ms/step - loss: 2.4196 - accuracy: 0.3706 - val_loss: 2.3406 - val_accuracy: 0.3984\n",
      "Epoch 11/50\n",
      "625/625 [==============================] - 4s 7ms/step - loss: 2.3648 - accuracy: 0.3826 - val_loss: 2.2794 - val_accuracy: 0.4095\n",
      "Epoch 12/50\n",
      "625/625 [==============================] - 4s 6ms/step - loss: 2.3243 - accuracy: 0.3906 - val_loss: 2.3136 - val_accuracy: 0.4001\n",
      "Epoch 13/50\n",
      "625/625 [==============================] - 4s 6ms/step - loss: 2.2769 - accuracy: 0.4005 - val_loss: 2.2938 - val_accuracy: 0.4090\n",
      "Epoch 14/50\n",
      "625/625 [==============================] - 4s 7ms/step - loss: 2.2496 - accuracy: 0.4089 - val_loss: 2.3102 - val_accuracy: 0.4017\n",
      "Epoch 15/50\n",
      "625/625 [==============================] - 4s 6ms/step - loss: 2.2106 - accuracy: 0.4154 - val_loss: 2.1865 - val_accuracy: 0.4327\n",
      "Epoch 16/50\n",
      "625/625 [==============================] - 4s 6ms/step - loss: 2.1838 - accuracy: 0.4245 - val_loss: 2.2473 - val_accuracy: 0.4102\n",
      "Epoch 17/50\n",
      "625/625 [==============================] - 4s 7ms/step - loss: 2.1660 - accuracy: 0.4286 - val_loss: 2.1897 - val_accuracy: 0.4251\n",
      "Epoch 18/50\n",
      "625/625 [==============================] - 4s 6ms/step - loss: 2.1506 - accuracy: 0.4312 - val_loss: 2.2269 - val_accuracy: 0.4240\n",
      "Epoch 19/50\n",
      "625/625 [==============================] - 4s 6ms/step - loss: 2.1286 - accuracy: 0.4360 - val_loss: 2.2812 - val_accuracy: 0.4143\n",
      "Epoch 20/50\n",
      "625/625 [==============================] - 4s 7ms/step - loss: 2.1184 - accuracy: 0.4367 - val_loss: 2.2105 - val_accuracy: 0.4259\n",
      "Epoch 21/50\n",
      "625/625 [==============================] - 4s 6ms/step - loss: 2.1062 - accuracy: 0.4389 - val_loss: 2.1806 - val_accuracy: 0.4351\n",
      "Epoch 22/50\n",
      "625/625 [==============================] - 4s 6ms/step - loss: 2.0879 - accuracy: 0.4464 - val_loss: 2.2139 - val_accuracy: 0.4303\n",
      "Epoch 23/50\n",
      "625/625 [==============================] - 4s 7ms/step - loss: 2.0800 - accuracy: 0.4485 - val_loss: 2.2112 - val_accuracy: 0.4300\n",
      "Epoch 24/50\n",
      "625/625 [==============================] - 4s 6ms/step - loss: 2.0697 - accuracy: 0.4503 - val_loss: 2.1843 - val_accuracy: 0.4329\n",
      "Epoch 25/50\n",
      "625/625 [==============================] - 4s 6ms/step - loss: 2.0679 - accuracy: 0.4533 - val_loss: 2.1502 - val_accuracy: 0.4432\n",
      "Epoch 26/50\n",
      "625/625 [==============================] - 4s 7ms/step - loss: 2.0599 - accuracy: 0.4544 - val_loss: 2.2290 - val_accuracy: 0.4240\n",
      "Epoch 27/50\n",
      "625/625 [==============================] - 4s 6ms/step - loss: 2.0524 - accuracy: 0.4578 - val_loss: 2.1488 - val_accuracy: 0.4447\n",
      "Epoch 28/50\n",
      "625/625 [==============================] - 4s 6ms/step - loss: 2.0541 - accuracy: 0.4555 - val_loss: 2.1649 - val_accuracy: 0.4403\n",
      "Epoch 29/50\n",
      "625/625 [==============================] - 4s 7ms/step - loss: 2.0500 - accuracy: 0.4595 - val_loss: 2.2882 - val_accuracy: 0.4076\n",
      "Epoch 30/50\n",
      "625/625 [==============================] - 4s 6ms/step - loss: 2.0367 - accuracy: 0.4602 - val_loss: 2.3256 - val_accuracy: 0.4134\n",
      "Epoch 31/50\n",
      "625/625 [==============================] - 4s 6ms/step - loss: 2.0334 - accuracy: 0.4629 - val_loss: 2.2863 - val_accuracy: 0.4224\n",
      "Epoch 32/50\n",
      "625/625 [==============================] - 5s 7ms/step - loss: 2.0378 - accuracy: 0.4625 - val_loss: 2.2855 - val_accuracy: 0.4172\n",
      "Epoch 33/50\n",
      "625/625 [==============================] - 4s 6ms/step - loss: 2.0405 - accuracy: 0.4591 - val_loss: 2.4212 - val_accuracy: 0.3943\n",
      "Epoch 34/50\n",
      "625/625 [==============================] - 4s 6ms/step - loss: 2.0331 - accuracy: 0.4649 - val_loss: 2.2997 - val_accuracy: 0.4157\n",
      "Epoch 35/50\n",
      "625/625 [==============================] - 4s 7ms/step - loss: 2.0471 - accuracy: 0.4611 - val_loss: 2.3107 - val_accuracy: 0.4141\n",
      "Epoch 36/50\n",
      "625/625 [==============================] - 4s 6ms/step - loss: 2.0272 - accuracy: 0.4676 - val_loss: 2.1997 - val_accuracy: 0.4443\n",
      "Epoch 37/50\n",
      "625/625 [==============================] - 4s 6ms/step - loss: 2.0322 - accuracy: 0.4682 - val_loss: 2.4054 - val_accuracy: 0.3918\n",
      "Epoch 38/50\n",
      "625/625 [==============================] - 4s 7ms/step - loss: 2.0337 - accuracy: 0.4651 - val_loss: 2.3296 - val_accuracy: 0.4083\n",
      "Epoch 39/50\n",
      "625/625 [==============================] - 4s 6ms/step - loss: 2.0329 - accuracy: 0.4648 - val_loss: 2.3476 - val_accuracy: 0.4065\n",
      "Epoch 40/50\n",
      "625/625 [==============================] - 4s 6ms/step - loss: 2.0469 - accuracy: 0.4614 - val_loss: 2.2906 - val_accuracy: 0.4098\n",
      "Epoch 41/50\n",
      "625/625 [==============================] - 4s 7ms/step - loss: 2.0495 - accuracy: 0.4612 - val_loss: 2.2550 - val_accuracy: 0.4233\n",
      "Epoch 42/50\n",
      "625/625 [==============================] - 4s 6ms/step - loss: 2.0544 - accuracy: 0.4620 - val_loss: 2.3819 - val_accuracy: 0.4096\n",
      "Epoch 43/50\n",
      "625/625 [==============================] - 4s 6ms/step - loss: 2.0573 - accuracy: 0.4619 - val_loss: 2.2463 - val_accuracy: 0.4330\n",
      "Epoch 44/50\n",
      "625/625 [==============================] - 4s 6ms/step - loss: 2.0560 - accuracy: 0.4675 - val_loss: 2.4617 - val_accuracy: 0.3903\n",
      "Epoch 45/50\n",
      "625/625 [==============================] - 4s 6ms/step - loss: 2.0495 - accuracy: 0.4628 - val_loss: 2.4347 - val_accuracy: 0.3818\n",
      "Epoch 46/50\n",
      "625/625 [==============================] - 4s 6ms/step - loss: 2.0491 - accuracy: 0.4646 - val_loss: 2.4193 - val_accuracy: 0.4016\n",
      "Epoch 47/50\n",
      "625/625 [==============================] - 4s 6ms/step - loss: 2.0507 - accuracy: 0.4665 - val_loss: 2.4674 - val_accuracy: 0.3884\n",
      "Epoch 48/50\n",
      "625/625 [==============================] - 4s 7ms/step - loss: 2.0630 - accuracy: 0.4597 - val_loss: 2.2862 - val_accuracy: 0.4187\n",
      "Epoch 49/50\n",
      "625/625 [==============================] - 4s 6ms/step - loss: 2.0576 - accuracy: 0.4642 - val_loss: 2.3362 - val_accuracy: 0.4235\n",
      "Epoch 50/50\n",
      "625/625 [==============================] - 4s 6ms/step - loss: 2.0677 - accuracy: 0.4624 - val_loss: 2.5063 - val_accuracy: 0.3813\n"
     ]
    }
   ],
   "source": [
    "# Build the model\n",
    "modelCNN5 = keras.Sequential([\n",
    "        keras.layers.Conv2D(filters=32, kernel_size=(3, 3), padding='same', activation='relu', input_shape=(32, 32, 3)),\n",
    "        keras.layers.MaxPooling2D(pool_size=(2, 2)),\n",
    "        keras.layers.Conv2D(filters=64, kernel_size=(3, 3), padding='same', activation='relu'),\n",
    "        keras.layers.MaxPooling2D(pool_size=(2, 2)),\n",
    "        keras.layers.Dropout(rate=0.2),\n",
    "        keras.layers.Conv2D(filters=128, kernel_size=(3, 3), padding='same', activation='relu'),\n",
    "        keras.layers.MaxPooling2D(pool_size=(2, 2)),\n",
    "        keras.layers.Dropout(rate=0.2),\n",
    "        keras.layers.Conv2D(filters=256, kernel_size=(3, 3), padding='same', activation='relu'),\n",
    "        keras.layers.MaxPooling2D(pool_size=(2, 2)),\n",
    "        keras.layers.Dropout(rate=0.2),\n",
    "        keras.layers.Flatten(),\n",
    "        keras.layers.Dropout(rate=0.5),\n",
    "        keras.layers.Dense(units=512, activation='relu'),\n",
    "        keras.layers.Dense(units=100, activation='softmax')\n",
    "])\n",
    "\n",
    "# Compile and train the model\n",
    "modelCNN5.compile(loss='categorical_crossentropy',\n",
    "              optimizer=keras.optimizers.RMSprop(),\n",
    "              metrics=['accuracy'])\n",
    "\n",
    "history = modelCNN5.fit(x_train, y_train, epochs=50, batch_size=64, validation_split=0.2)"
   ]
  },
  {
   "cell_type": "code",
   "execution_count": 20,
   "id": "Vt_7eh5-u4eS",
   "metadata": {
    "colab": {
     "base_uri": "https://localhost:8080/"
    },
    "executionInfo": {
     "elapsed": 1952,
     "status": "ok",
     "timestamp": 1714493982243,
     "user": {
      "displayName": "Cecilia Vásquez",
      "userId": "11534293609306579832"
     },
     "user_tz": 300
    },
    "id": "Vt_7eh5-u4eS",
    "outputId": "e8ebaedd-6eea-40c7-d23b-3f51e97f0dce"
   },
   "outputs": [
    {
     "name": "stdout",
     "output_type": "stream",
     "text": [
      "313/313 [==============================] - 1s 2ms/step\n"
     ]
    }
   ],
   "source": [
    "y_pred_cnn = np.argmax(modelCNN5.predict(x_test), axis=1)\n",
    "y_test_cnn = np.argmax(y_test, axis=1)"
   ]
  },
  {
   "cell_type": "code",
   "execution_count": 21,
   "id": "NubBgCV6u4t8",
   "metadata": {
    "colab": {
     "base_uri": "https://localhost:8080/"
    },
    "executionInfo": {
     "elapsed": 256,
     "status": "ok",
     "timestamp": 1714493984094,
     "user": {
      "displayName": "Cecilia Vásquez",
      "userId": "11534293609306579832"
     },
     "user_tz": 300
    },
    "id": "NubBgCV6u4t8",
    "outputId": "fb5398d9-b3b8-48a8-dca0-4ea5e4a2cd9a"
   },
   "outputs": [
    {
     "name": "stdout",
     "output_type": "stream",
     "text": [
      "Test accuracy: 0.3883\n"
     ]
    }
   ],
   "source": [
    "accuracy = accuracy_score(y_pred_cnn, y_test_cnn)\n",
    "print('Test accuracy:', accuracy)"
   ]
  },
  {
   "cell_type": "markdown",
   "id": "M2JVRrJXzt6X",
   "metadata": {
    "id": "M2JVRrJXzt6X"
   },
   "source": [
    "**Modelo 6**\n",
    "\n",
    "Se tomó el modelo 4 (modelo con nuestro mejor rendimiento alcanzado), y se va a cambiar el algoritmo de optimización. Como resultado, no mejoró la precisión del modelo 4, alcanzando un accuracy de 0.4714."
   ]
  },
  {
   "cell_type": "code",
   "execution_count": 22,
   "id": "dLW3i3WMwoZx",
   "metadata": {
    "colab": {
     "base_uri": "https://localhost:8080/"
    },
    "executionInfo": {
     "elapsed": 205725,
     "status": "ok",
     "timestamp": 1714494231462,
     "user": {
      "displayName": "Cecilia Vásquez",
      "userId": "11534293609306579832"
     },
     "user_tz": 300
    },
    "id": "dLW3i3WMwoZx",
    "outputId": "f6449c9d-a1e0-4c90-f68b-ceb31e4129b5"
   },
   "outputs": [
    {
     "name": "stdout",
     "output_type": "stream",
     "text": [
      "Epoch 1/50\n",
      "313/313 [==============================] - 6s 11ms/step - loss: 4.3393 - accuracy: 0.0376 - val_loss: 3.9489 - val_accuracy: 0.0859\n",
      "Epoch 2/50\n",
      "313/313 [==============================] - 3s 11ms/step - loss: 3.7297 - accuracy: 0.1201 - val_loss: 3.4438 - val_accuracy: 0.1740\n",
      "Epoch 3/50\n",
      "313/313 [==============================] - 4s 12ms/step - loss: 3.3765 - accuracy: 0.1810 - val_loss: 3.1678 - val_accuracy: 0.2221\n",
      "Epoch 4/50\n",
      "313/313 [==============================] - 4s 13ms/step - loss: 3.1512 - accuracy: 0.2211 - val_loss: 2.9379 - val_accuracy: 0.2621\n",
      "Epoch 5/50\n",
      "313/313 [==============================] - 5s 15ms/step - loss: 2.9861 - accuracy: 0.2539 - val_loss: 2.8442 - val_accuracy: 0.2873\n",
      "Epoch 6/50\n",
      "313/313 [==============================] - 4s 12ms/step - loss: 2.8482 - accuracy: 0.2824 - val_loss: 2.7775 - val_accuracy: 0.3054\n",
      "Epoch 7/50\n",
      "313/313 [==============================] - 4s 12ms/step - loss: 2.7381 - accuracy: 0.3017 - val_loss: 2.6269 - val_accuracy: 0.3327\n",
      "Epoch 8/50\n",
      "313/313 [==============================] - 4s 13ms/step - loss: 2.6384 - accuracy: 0.3191 - val_loss: 2.5806 - val_accuracy: 0.3404\n",
      "Epoch 9/50\n",
      "313/313 [==============================] - 4s 12ms/step - loss: 2.5505 - accuracy: 0.3401 - val_loss: 2.4928 - val_accuracy: 0.3587\n",
      "Epoch 10/50\n",
      "313/313 [==============================] - 4s 12ms/step - loss: 2.4757 - accuracy: 0.3535 - val_loss: 2.4666 - val_accuracy: 0.3661\n",
      "Epoch 11/50\n",
      "313/313 [==============================] - 4s 12ms/step - loss: 2.4116 - accuracy: 0.3660 - val_loss: 2.3808 - val_accuracy: 0.3829\n",
      "Epoch 12/50\n",
      "313/313 [==============================] - 4s 12ms/step - loss: 2.3548 - accuracy: 0.3791 - val_loss: 2.3825 - val_accuracy: 0.3832\n",
      "Epoch 13/50\n",
      "313/313 [==============================] - 3s 11ms/step - loss: 2.2937 - accuracy: 0.3916 - val_loss: 2.3401 - val_accuracy: 0.3916\n",
      "Epoch 14/50\n",
      "313/313 [==============================] - 3s 10ms/step - loss: 2.2484 - accuracy: 0.4002 - val_loss: 2.2522 - val_accuracy: 0.4122\n",
      "Epoch 15/50\n",
      "313/313 [==============================] - 4s 12ms/step - loss: 2.2082 - accuracy: 0.4065 - val_loss: 2.3064 - val_accuracy: 0.3948\n",
      "Epoch 16/50\n",
      "313/313 [==============================] - 4s 14ms/step - loss: 2.1625 - accuracy: 0.4172 - val_loss: 2.2452 - val_accuracy: 0.4126\n",
      "Epoch 17/50\n",
      "313/313 [==============================] - 3s 10ms/step - loss: 2.1197 - accuracy: 0.4261 - val_loss: 2.2173 - val_accuracy: 0.4173\n",
      "Epoch 18/50\n",
      "313/313 [==============================] - 3s 9ms/step - loss: 2.0777 - accuracy: 0.4351 - val_loss: 2.2043 - val_accuracy: 0.4183\n",
      "Epoch 19/50\n",
      "313/313 [==============================] - 3s 10ms/step - loss: 2.0405 - accuracy: 0.4432 - val_loss: 2.1869 - val_accuracy: 0.4264\n",
      "Epoch 20/50\n",
      "313/313 [==============================] - 3s 9ms/step - loss: 2.0260 - accuracy: 0.4500 - val_loss: 2.1600 - val_accuracy: 0.4335\n",
      "Epoch 21/50\n",
      "313/313 [==============================] - 3s 9ms/step - loss: 1.9831 - accuracy: 0.4570 - val_loss: 2.1628 - val_accuracy: 0.4329\n",
      "Epoch 22/50\n",
      "313/313 [==============================] - 3s 9ms/step - loss: 1.9535 - accuracy: 0.4630 - val_loss: 2.1346 - val_accuracy: 0.4321\n",
      "Epoch 23/50\n",
      "313/313 [==============================] - 3s 10ms/step - loss: 1.9334 - accuracy: 0.4679 - val_loss: 2.1452 - val_accuracy: 0.4381\n",
      "Epoch 24/50\n",
      "313/313 [==============================] - 3s 9ms/step - loss: 1.9015 - accuracy: 0.4743 - val_loss: 2.1282 - val_accuracy: 0.4437\n",
      "Epoch 25/50\n",
      "313/313 [==============================] - 3s 9ms/step - loss: 1.8859 - accuracy: 0.4793 - val_loss: 2.1241 - val_accuracy: 0.4424\n",
      "Epoch 26/50\n",
      "313/313 [==============================] - 3s 9ms/step - loss: 1.8685 - accuracy: 0.4809 - val_loss: 2.1293 - val_accuracy: 0.4416\n",
      "Epoch 27/50\n",
      "313/313 [==============================] - 3s 10ms/step - loss: 1.8524 - accuracy: 0.4817 - val_loss: 2.1293 - val_accuracy: 0.4438\n",
      "Epoch 28/50\n",
      "313/313 [==============================] - 3s 9ms/step - loss: 1.8182 - accuracy: 0.4917 - val_loss: 2.1194 - val_accuracy: 0.4460\n",
      "Epoch 29/50\n",
      "313/313 [==============================] - 3s 9ms/step - loss: 1.8088 - accuracy: 0.4958 - val_loss: 2.0950 - val_accuracy: 0.4552\n",
      "Epoch 30/50\n",
      "313/313 [==============================] - 3s 9ms/step - loss: 1.7882 - accuracy: 0.5013 - val_loss: 2.1138 - val_accuracy: 0.4483\n",
      "Epoch 31/50\n",
      "313/313 [==============================] - 4s 11ms/step - loss: 1.7611 - accuracy: 0.5033 - val_loss: 2.1117 - val_accuracy: 0.4531\n",
      "Epoch 32/50\n",
      "313/313 [==============================] - 3s 9ms/step - loss: 1.7527 - accuracy: 0.5092 - val_loss: 2.0651 - val_accuracy: 0.4566\n",
      "Epoch 33/50\n",
      "313/313 [==============================] - 3s 11ms/step - loss: 1.7362 - accuracy: 0.5101 - val_loss: 2.0748 - val_accuracy: 0.4545\n",
      "Epoch 34/50\n",
      "313/313 [==============================] - 3s 10ms/step - loss: 1.7286 - accuracy: 0.5117 - val_loss: 2.0877 - val_accuracy: 0.4578\n",
      "Epoch 35/50\n",
      "313/313 [==============================] - 3s 11ms/step - loss: 1.7007 - accuracy: 0.5189 - val_loss: 2.0867 - val_accuracy: 0.4535\n",
      "Epoch 36/50\n",
      "313/313 [==============================] - 3s 11ms/step - loss: 1.6917 - accuracy: 0.5191 - val_loss: 2.0664 - val_accuracy: 0.4579\n",
      "Epoch 37/50\n",
      "313/313 [==============================] - 4s 12ms/step - loss: 1.6742 - accuracy: 0.5277 - val_loss: 2.0899 - val_accuracy: 0.4573\n",
      "Epoch 38/50\n",
      "313/313 [==============================] - 4s 12ms/step - loss: 1.6747 - accuracy: 0.5246 - val_loss: 2.0784 - val_accuracy: 0.4587\n",
      "Epoch 39/50\n",
      "313/313 [==============================] - 3s 10ms/step - loss: 1.6480 - accuracy: 0.5308 - val_loss: 2.0439 - val_accuracy: 0.4655\n",
      "Epoch 40/50\n",
      "313/313 [==============================] - 4s 12ms/step - loss: 1.6313 - accuracy: 0.5358 - val_loss: 2.0479 - val_accuracy: 0.4683\n",
      "Epoch 41/50\n",
      "313/313 [==============================] - 3s 11ms/step - loss: 1.6181 - accuracy: 0.5378 - val_loss: 2.0539 - val_accuracy: 0.4641\n",
      "Epoch 42/50\n",
      "313/313 [==============================] - 4s 13ms/step - loss: 1.6184 - accuracy: 0.5363 - val_loss: 2.1162 - val_accuracy: 0.4534\n",
      "Epoch 43/50\n",
      "313/313 [==============================] - 3s 11ms/step - loss: 1.6022 - accuracy: 0.5414 - val_loss: 2.0915 - val_accuracy: 0.4618\n",
      "Epoch 44/50\n",
      "313/313 [==============================] - 3s 11ms/step - loss: 1.5835 - accuracy: 0.5451 - val_loss: 2.0994 - val_accuracy: 0.4582\n",
      "Epoch 45/50\n",
      "313/313 [==============================] - 5s 15ms/step - loss: 1.5923 - accuracy: 0.5466 - val_loss: 2.0765 - val_accuracy: 0.4573\n",
      "Epoch 46/50\n",
      "313/313 [==============================] - 4s 12ms/step - loss: 1.5650 - accuracy: 0.5508 - val_loss: 2.0828 - val_accuracy: 0.4621\n",
      "Epoch 47/50\n",
      "313/313 [==============================] - 4s 12ms/step - loss: 1.5641 - accuracy: 0.5518 - val_loss: 2.0527 - val_accuracy: 0.4651\n",
      "Epoch 48/50\n",
      "313/313 [==============================] - 4s 12ms/step - loss: 1.5565 - accuracy: 0.5490 - val_loss: 2.0859 - val_accuracy: 0.4626\n",
      "Epoch 49/50\n",
      "313/313 [==============================] - 3s 11ms/step - loss: 1.5454 - accuracy: 0.5565 - val_loss: 2.0660 - val_accuracy: 0.4645\n",
      "Epoch 50/50\n",
      "313/313 [==============================] - 3s 9ms/step - loss: 1.5320 - accuracy: 0.5573 - val_loss: 2.0700 - val_accuracy: 0.4618\n"
     ]
    }
   ],
   "source": [
    "# Build the model\n",
    "modelCNN6 = keras.Sequential([\n",
    "        keras.layers.Conv2D(filters=32, kernel_size=(3, 3), padding='same', activation='relu', input_shape=(32, 32, 3)),\n",
    "        keras.layers.MaxPooling2D(pool_size=(2, 2)),\n",
    "        keras.layers.Conv2D(filters=64, kernel_size=(3, 3), padding='same', activation='relu'),\n",
    "        keras.layers.MaxPooling2D(pool_size=(2, 2)),\n",
    "        keras.layers.Dropout(rate=0.2),\n",
    "        keras.layers.Conv2D(filters=128, kernel_size=(3, 3), padding='same', activation='relu'),\n",
    "        keras.layers.MaxPooling2D(pool_size=(2, 2)),\n",
    "        keras.layers.Dropout(rate=0.2),\n",
    "        keras.layers.Conv2D(filters=256, kernel_size=(3, 3), padding='same', activation='relu'),\n",
    "        keras.layers.MaxPooling2D(pool_size=(2, 2)),\n",
    "        keras.layers.Dropout(rate=0.2),\n",
    "        keras.layers.Flatten(),\n",
    "        keras.layers.Dropout(rate=0.5),\n",
    "        keras.layers.Dense(units=512, activation='relu'),\n",
    "        keras.layers.Dense(units=100, activation='softmax')\n",
    "])\n",
    "\n",
    "# Compile and train the model\n",
    "modelCNN6.compile(loss='categorical_crossentropy',\n",
    "              optimizer=keras.optimizers.Adam(),\n",
    "              metrics=['accuracy'])\n",
    "\n",
    "history = modelCNN6.fit(x_train, y_train, epochs=50, batch_size=128, validation_split=0.2)"
   ]
  },
  {
   "cell_type": "code",
   "execution_count": 23,
   "id": "hGnxfkLmw-i9",
   "metadata": {
    "colab": {
     "base_uri": "https://localhost:8080/"
    },
    "executionInfo": {
     "elapsed": 1820,
     "status": "ok",
     "timestamp": 1714494256966,
     "user": {
      "displayName": "Cecilia Vásquez",
      "userId": "11534293609306579832"
     },
     "user_tz": 300
    },
    "id": "hGnxfkLmw-i9",
    "outputId": "24a12c1b-f1b6-4075-8e27-0ec7f9b373c5"
   },
   "outputs": [
    {
     "name": "stdout",
     "output_type": "stream",
     "text": [
      "313/313 [==============================] - 1s 2ms/step\n"
     ]
    }
   ],
   "source": [
    "y_pred_cnn = np.argmax(modelCNN6.predict(x_test), axis=1)\n",
    "y_test_cnn = np.argmax(y_test, axis=1)"
   ]
  },
  {
   "cell_type": "code",
   "execution_count": 24,
   "id": "ama6V3h2xCaW",
   "metadata": {
    "colab": {
     "base_uri": "https://localhost:8080/"
    },
    "executionInfo": {
     "elapsed": 298,
     "status": "ok",
     "timestamp": 1714494258333,
     "user": {
      "displayName": "Cecilia Vásquez",
      "userId": "11534293609306579832"
     },
     "user_tz": 300
    },
    "id": "ama6V3h2xCaW",
    "outputId": "b1cf7837-bd53-4cf9-a3a4-8f0c89534ce6"
   },
   "outputs": [
    {
     "name": "stdout",
     "output_type": "stream",
     "text": [
      "Test accuracy: 0.4714\n"
     ]
    }
   ],
   "source": [
    "accuracy = accuracy_score(y_pred_cnn, y_test_cnn)\n",
    "print('Test accuracy:', accuracy)"
   ]
  },
  {
   "cell_type": "markdown",
   "id": "i2a-oHEr4e9J",
   "metadata": {
    "id": "i2a-oHEr4e9J"
   },
   "source": [
    "**Modelo 7**\n",
    "\n",
    "Finalmente, se toma el modelo 4 (nuestro modelo con mayor rendimiento) y se incrementó el tamaño del kernel desde 3 a 5. Sin embargo, ello no mejoró el rendimiento del modelo alcanzando un accuracy de 0.423."
   ]
  },
  {
   "cell_type": "code",
   "execution_count": 31,
   "id": "5LavkB6l1ArW",
   "metadata": {
    "colab": {
     "base_uri": "https://localhost:8080/"
    },
    "executionInfo": {
     "elapsed": 245692,
     "status": "ok",
     "timestamp": 1714495242420,
     "user": {
      "displayName": "Cecilia Vásquez",
      "userId": "11534293609306579832"
     },
     "user_tz": 300
    },
    "id": "5LavkB6l1ArW",
    "outputId": "af1bb509-3c1a-4e38-ad84-4a69f43f9acc"
   },
   "outputs": [
    {
     "name": "stdout",
     "output_type": "stream",
     "text": [
      "Epoch 1/50\n",
      "313/313 [==============================] - 7s 18ms/step - loss: 4.3528 - accuracy: 0.0333 - val_loss: 4.0446 - val_accuracy: 0.0584\n",
      "Epoch 2/50\n",
      "313/313 [==============================] - 5s 14ms/step - loss: 3.8926 - accuracy: 0.0956 - val_loss: 3.6302 - val_accuracy: 0.1297\n",
      "Epoch 3/50\n",
      "313/313 [==============================] - 5s 16ms/step - loss: 3.5095 - accuracy: 0.1618 - val_loss: 3.2561 - val_accuracy: 0.2116\n",
      "Epoch 4/50\n",
      "313/313 [==============================] - 5s 15ms/step - loss: 3.2378 - accuracy: 0.2126 - val_loss: 3.1876 - val_accuracy: 0.2288\n",
      "Epoch 5/50\n",
      "313/313 [==============================] - 5s 15ms/step - loss: 3.0264 - accuracy: 0.2506 - val_loss: 2.8778 - val_accuracy: 0.2856\n",
      "Epoch 6/50\n",
      "313/313 [==============================] - 5s 15ms/step - loss: 2.8462 - accuracy: 0.2844 - val_loss: 2.7734 - val_accuracy: 0.3165\n",
      "Epoch 7/50\n",
      "313/313 [==============================] - 5s 15ms/step - loss: 2.7161 - accuracy: 0.3113 - val_loss: 2.6378 - val_accuracy: 0.3354\n",
      "Epoch 8/50\n",
      "313/313 [==============================] - 5s 16ms/step - loss: 2.5860 - accuracy: 0.3371 - val_loss: 2.6219 - val_accuracy: 0.3438\n",
      "Epoch 9/50\n",
      "313/313 [==============================] - 5s 15ms/step - loss: 2.4860 - accuracy: 0.3566 - val_loss: 2.7051 - val_accuracy: 0.3298\n",
      "Epoch 10/50\n",
      "313/313 [==============================] - 5s 15ms/step - loss: 2.3934 - accuracy: 0.3774 - val_loss: 2.5266 - val_accuracy: 0.3634\n",
      "Epoch 11/50\n",
      "313/313 [==============================] - 5s 16ms/step - loss: 2.3152 - accuracy: 0.3936 - val_loss: 2.4600 - val_accuracy: 0.3764\n",
      "Epoch 12/50\n",
      "313/313 [==============================] - 4s 14ms/step - loss: 2.2378 - accuracy: 0.4120 - val_loss: 2.4848 - val_accuracy: 0.3674\n",
      "Epoch 13/50\n",
      "313/313 [==============================] - 5s 16ms/step - loss: 2.1847 - accuracy: 0.4174 - val_loss: 2.3732 - val_accuracy: 0.3912\n",
      "Epoch 14/50\n",
      "313/313 [==============================] - 5s 16ms/step - loss: 2.1237 - accuracy: 0.4332 - val_loss: 2.4642 - val_accuracy: 0.3789\n",
      "Epoch 15/50\n",
      "313/313 [==============================] - 5s 14ms/step - loss: 2.0644 - accuracy: 0.4488 - val_loss: 2.3443 - val_accuracy: 0.4049\n",
      "Epoch 16/50\n",
      "313/313 [==============================] - 5s 15ms/step - loss: 2.0177 - accuracy: 0.4563 - val_loss: 2.4131 - val_accuracy: 0.3897\n",
      "Epoch 17/50\n",
      "313/313 [==============================] - 5s 15ms/step - loss: 1.9796 - accuracy: 0.4621 - val_loss: 2.3569 - val_accuracy: 0.4036\n",
      "Epoch 18/50\n",
      "313/313 [==============================] - 5s 15ms/step - loss: 1.9378 - accuracy: 0.4721 - val_loss: 2.2781 - val_accuracy: 0.4158\n",
      "Epoch 19/50\n",
      "313/313 [==============================] - 5s 16ms/step - loss: 1.9079 - accuracy: 0.4809 - val_loss: 2.2986 - val_accuracy: 0.4193\n",
      "Epoch 20/50\n",
      "313/313 [==============================] - 4s 14ms/step - loss: 1.8863 - accuracy: 0.4846 - val_loss: 2.3056 - val_accuracy: 0.4158\n",
      "Epoch 21/50\n",
      "313/313 [==============================] - 5s 16ms/step - loss: 1.8550 - accuracy: 0.4929 - val_loss: 2.3212 - val_accuracy: 0.4127\n",
      "Epoch 22/50\n",
      "313/313 [==============================] - 5s 15ms/step - loss: 1.8267 - accuracy: 0.5005 - val_loss: 2.3260 - val_accuracy: 0.4139\n",
      "Epoch 23/50\n",
      "313/313 [==============================] - 5s 15ms/step - loss: 1.8012 - accuracy: 0.5032 - val_loss: 2.3529 - val_accuracy: 0.4081\n",
      "Epoch 24/50\n",
      "313/313 [==============================] - 5s 16ms/step - loss: 1.7780 - accuracy: 0.5102 - val_loss: 2.2978 - val_accuracy: 0.4175\n",
      "Epoch 25/50\n",
      "313/313 [==============================] - 5s 15ms/step - loss: 1.7622 - accuracy: 0.5137 - val_loss: 2.3169 - val_accuracy: 0.4182\n",
      "Epoch 26/50\n",
      "313/313 [==============================] - 5s 16ms/step - loss: 1.7339 - accuracy: 0.5242 - val_loss: 2.2888 - val_accuracy: 0.4190\n",
      "Epoch 27/50\n",
      "313/313 [==============================] - 5s 15ms/step - loss: 1.7316 - accuracy: 0.5227 - val_loss: 2.2799 - val_accuracy: 0.4222\n",
      "Epoch 28/50\n",
      "313/313 [==============================] - 5s 15ms/step - loss: 1.7262 - accuracy: 0.5238 - val_loss: 2.3642 - val_accuracy: 0.4112\n",
      "Epoch 29/50\n",
      "313/313 [==============================] - 5s 16ms/step - loss: 1.7091 - accuracy: 0.5284 - val_loss: 2.3833 - val_accuracy: 0.4064\n",
      "Epoch 30/50\n",
      "313/313 [==============================] - 5s 15ms/step - loss: 1.6834 - accuracy: 0.5320 - val_loss: 2.2831 - val_accuracy: 0.4309\n",
      "Epoch 31/50\n",
      "313/313 [==============================] - 5s 15ms/step - loss: 1.6701 - accuracy: 0.5359 - val_loss: 2.3222 - val_accuracy: 0.4166\n",
      "Epoch 32/50\n",
      "313/313 [==============================] - 5s 15ms/step - loss: 1.6729 - accuracy: 0.5366 - val_loss: 2.3703 - val_accuracy: 0.4092\n",
      "Epoch 33/50\n",
      "313/313 [==============================] - 5s 15ms/step - loss: 1.6627 - accuracy: 0.5433 - val_loss: 2.3385 - val_accuracy: 0.4239\n",
      "Epoch 34/50\n",
      "313/313 [==============================] - 5s 15ms/step - loss: 1.6563 - accuracy: 0.5411 - val_loss: 2.3658 - val_accuracy: 0.4123\n",
      "Epoch 35/50\n",
      "313/313 [==============================] - 5s 15ms/step - loss: 1.6447 - accuracy: 0.5464 - val_loss: 2.3843 - val_accuracy: 0.4043\n",
      "Epoch 36/50\n",
      "313/313 [==============================] - 5s 15ms/step - loss: 1.6328 - accuracy: 0.5490 - val_loss: 2.3040 - val_accuracy: 0.4231\n",
      "Epoch 37/50\n",
      "313/313 [==============================] - 5s 16ms/step - loss: 1.6286 - accuracy: 0.5500 - val_loss: 2.3077 - val_accuracy: 0.4264\n",
      "Epoch 38/50\n",
      "313/313 [==============================] - 5s 15ms/step - loss: 1.6104 - accuracy: 0.5541 - val_loss: 2.2991 - val_accuracy: 0.4299\n",
      "Epoch 39/50\n",
      "313/313 [==============================] - 5s 16ms/step - loss: 1.6229 - accuracy: 0.5494 - val_loss: 2.2990 - val_accuracy: 0.4212\n",
      "Epoch 40/50\n",
      "313/313 [==============================] - 5s 15ms/step - loss: 1.6034 - accuracy: 0.5563 - val_loss: 2.4769 - val_accuracy: 0.3975\n",
      "Epoch 41/50\n",
      "313/313 [==============================] - 5s 15ms/step - loss: 1.6100 - accuracy: 0.5547 - val_loss: 2.3959 - val_accuracy: 0.4062\n",
      "Epoch 42/50\n",
      "313/313 [==============================] - 5s 15ms/step - loss: 1.5974 - accuracy: 0.5603 - val_loss: 2.2792 - val_accuracy: 0.4390\n",
      "Epoch 43/50\n",
      "313/313 [==============================] - 5s 15ms/step - loss: 1.5996 - accuracy: 0.5573 - val_loss: 2.3111 - val_accuracy: 0.4273\n",
      "Epoch 44/50\n",
      "313/313 [==============================] - 5s 16ms/step - loss: 1.5941 - accuracy: 0.5600 - val_loss: 2.3702 - val_accuracy: 0.4145\n",
      "Epoch 45/50\n",
      "313/313 [==============================] - 5s 15ms/step - loss: 1.5849 - accuracy: 0.5592 - val_loss: 2.3204 - val_accuracy: 0.4197\n",
      "Epoch 46/50\n",
      "313/313 [==============================] - 5s 15ms/step - loss: 1.5861 - accuracy: 0.5608 - val_loss: 2.3155 - val_accuracy: 0.4182\n",
      "Epoch 47/50\n",
      "313/313 [==============================] - 5s 15ms/step - loss: 1.5814 - accuracy: 0.5610 - val_loss: 2.3103 - val_accuracy: 0.4329\n",
      "Epoch 48/50\n",
      "313/313 [==============================] - 5s 15ms/step - loss: 1.5750 - accuracy: 0.5691 - val_loss: 2.3101 - val_accuracy: 0.4261\n",
      "Epoch 49/50\n",
      "313/313 [==============================] - 5s 16ms/step - loss: 1.5986 - accuracy: 0.5604 - val_loss: 2.3782 - val_accuracy: 0.4112\n",
      "Epoch 50/50\n",
      "313/313 [==============================] - 5s 15ms/step - loss: 1.5894 - accuracy: 0.5615 - val_loss: 2.3829 - val_accuracy: 0.4202\n"
     ]
    }
   ],
   "source": [
    "# Build the model\n",
    "modelCNN7 = keras.Sequential([\n",
    "        keras.layers.Conv2D(filters=32, kernel_size=(5, 5), padding='same', activation='relu', input_shape=(32, 32, 3)),\n",
    "        keras.layers.MaxPooling2D(pool_size=(2, 2)),\n",
    "        keras.layers.Conv2D(filters=64, kernel_size=(5, 5), padding='same', activation='relu'),\n",
    "        keras.layers.MaxPooling2D(pool_size=(2, 2)),\n",
    "        keras.layers.Dropout(rate=0.2),\n",
    "        keras.layers.Conv2D(filters=128, kernel_size=(5, 5), padding='same', activation='relu'),\n",
    "        keras.layers.MaxPooling2D(pool_size=(2, 2)),\n",
    "        keras.layers.Dropout(rate=0.2),\n",
    "        keras.layers.Conv2D(filters=256, kernel_size=(5, 5), padding='same', activation='relu'),\n",
    "        keras.layers.MaxPooling2D(pool_size=(2, 2)),\n",
    "        keras.layers.Dropout(rate=0.2),\n",
    "        keras.layers.Flatten(),\n",
    "        keras.layers.Dropout(rate=0.5),\n",
    "        keras.layers.Dense(units=512, activation='relu'),\n",
    "        keras.layers.Dense(units=100, activation='softmax')\n",
    "])\n",
    "\n",
    "# Compile and train the model\n",
    "modelCNN7.compile(loss='categorical_crossentropy',\n",
    "              optimizer=keras.optimizers.RMSprop(),\n",
    "              metrics=['accuracy'])\n",
    "\n",
    "history = modelCNN7.fit(x_train, y_train, epochs=50, batch_size=128, validation_split=0.2)"
   ]
  },
  {
   "cell_type": "code",
   "execution_count": 32,
   "id": "T1XVUbwy2WaU",
   "metadata": {
    "colab": {
     "base_uri": "https://localhost:8080/"
    },
    "executionInfo": {
     "elapsed": 1495,
     "status": "ok",
     "timestamp": 1714495253927,
     "user": {
      "displayName": "Cecilia Vásquez",
      "userId": "11534293609306579832"
     },
     "user_tz": 300
    },
    "id": "T1XVUbwy2WaU",
    "outputId": "525374a0-bb50-4405-a09d-8f1f61d328c5"
   },
   "outputs": [
    {
     "name": "stdout",
     "output_type": "stream",
     "text": [
      "313/313 [==============================] - 1s 2ms/step\n"
     ]
    }
   ],
   "source": [
    "y_pred_cnn = np.argmax(modelCNN7.predict(x_test), axis=1)\n",
    "y_test_cnn = np.argmax(y_test, axis=1)"
   ]
  },
  {
   "cell_type": "code",
   "execution_count": 33,
   "id": "f9UJL-FF2c3S",
   "metadata": {
    "colab": {
     "base_uri": "https://localhost:8080/"
    },
    "executionInfo": {
     "elapsed": 263,
     "status": "ok",
     "timestamp": 1714495257539,
     "user": {
      "displayName": "Cecilia Vásquez",
      "userId": "11534293609306579832"
     },
     "user_tz": 300
    },
    "id": "f9UJL-FF2c3S",
    "outputId": "7fdb042a-48f6-46b6-ef74-a1e95f53308d"
   },
   "outputs": [
    {
     "name": "stdout",
     "output_type": "stream",
     "text": [
      "Test accuracy: 0.423\n"
     ]
    }
   ],
   "source": [
    "accuracy = accuracy_score(y_pred_cnn, y_test_cnn)\n",
    "print('Test accuracy:', accuracy)"
   ]
  }
 ],
 "metadata": {
  "accelerator": "GPU",
  "colab": {
   "gpuType": "T4",
   "provenance": []
  },
  "kernelspec": {
   "display_name": "Python 3 (ipykernel)",
   "language": "python",
   "name": "python3"
  },
  "language_info": {
   "codemirror_mode": {
    "name": "ipython",
    "version": 3
   },
   "file_extension": ".py",
   "mimetype": "text/x-python",
   "name": "python",
   "nbconvert_exporter": "python",
   "pygments_lexer": "ipython3",
   "version": "3.11.5"
  }
 },
 "nbformat": 4,
 "nbformat_minor": 5
}
