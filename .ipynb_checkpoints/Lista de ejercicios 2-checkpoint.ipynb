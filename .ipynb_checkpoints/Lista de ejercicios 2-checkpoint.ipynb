{
 "cells": [
  {
   "cell_type": "markdown",
   "id": "a8bb2145",
   "metadata": {},
   "source": [
    "**Lista de Ejercicios 2** \n",
    "\n",
    "\n",
    "Grupo:\n",
    "1. Mayra Gavilán (20131530)\n",
    "2. Milagros Meza (20120186)\n",
    "3. Paola Cordova (20130365)\n",
    "4. Serghi Arista (20125341)"
   ]
  },
  {
   "cell_type": "markdown",
   "id": "1335be2a",
   "metadata": {},
   "source": [
    "**Pregunta 1**"
   ]
  },
  {
   "cell_type": "markdown",
   "id": "1d6ab0cf",
   "metadata": {},
   "source": [
    "Considere el conjunto de datos de viviendas de Boston:"
   ]
  },
  {
   "cell_type": "code",
   "execution_count": 1,
   "id": "0ca0fec6",
   "metadata": {},
   "outputs": [],
   "source": [
    "import warnings\n",
    "\n",
    "warnings.filterwarnings('ignore')"
   ]
  },
  {
   "cell_type": "code",
   "execution_count": 2,
   "id": "8322bb8d",
   "metadata": {},
   "outputs": [],
   "source": [
    "import numpy as np\n",
    "import pandas as pd"
   ]
  },
  {
   "cell_type": "code",
   "execution_count": 2,
   "id": "dd7b8bb3",
   "metadata": {},
   "outputs": [],
   "source": [
    "data = pd.read_csv('https://raw.githubusercontent.com/qlabpucp/datasets/main/datasets/boston.csv')\n",
    "data = data.drop(columns=['Unnamed: 0'])"
   ]
  },
  {
   "cell_type": "markdown",
   "id": "c5e6f094",
   "metadata": {},
   "source": [
    "a) Defina una función llamada 'estimate_mean' que tome como argumentos un DataFrame de Pandas data, una serie de índices idx y el nombre de una columna x. Esta función debe calcular y devolver la media de la columna x para las filas correspondientes a los índices dados en el DataFrame. Utilice esta función y estime la media poblacional de la columna **medv** en el conjunto de datos proporcionado. Llame a esta estimación $\\hat{μ}$. Hint: Para estimar la media poblacional, asegúrese de incluir todos los índices del conjunto de datos en el cálculo."
   ]
  },
  {
   "cell_type": "code",
   "execution_count": 13,
   "id": "a7e307d2",
   "metadata": {},
   "outputs": [
    {
     "name": "stdout",
     "output_type": "stream",
     "text": [
      "Estimación de la media poblacional de 'medv': 22.5328\n"
     ]
    }
   ],
   "source": [
    "def estimate_mean(data, idx, x):\n",
    "    \n",
    "    subset = data.loc[idx]\n",
    "    mean = subset[x].mean()\n",
    "    return round(mean, 4)\n",
    "\n",
    "estimated_mean = estimate_mean(data, data.index, 'medv')\n",
    "print(\"Estimación de la media poblacional de 'medv':\", estimated_mean)"
   ]
  },
  {
   "cell_type": "markdown",
   "id": "720cd73c",
   "metadata": {},
   "source": [
    "b) Proporcione una estimación del error estándar de $\\hat{μ}$. Interprete este resultado. Hint: Puede\n",
    "calcular el error estándar dividiendo la desviación estándar de la columna 'medv'(.std())\n",
    "por la raíz cuadrada del número de observaciones."
   ]
  },
  {
   "cell_type": "code",
   "execution_count": 12,
   "id": "b111178b",
   "metadata": {},
   "outputs": [
    {
     "name": "stdout",
     "output_type": "stream",
     "text": [
      "Estimación del error estándar de la media poblacional de 'medv': 0.4089\n"
     ]
    }
   ],
   "source": [
    "def estimate_standard_error(data, x):\n",
    "    std_dev = data[x].std()\n",
    "    n = len(data)\n",
    "    standard_error = std_dev / np.sqrt(n)\n",
    "    return round(standard_error, 4)\n",
    "\n",
    "estimated_standard_error = estimate_standard_error(data, 'medv')\n",
    "print(\"Estimación del error estándar de la media poblacional de 'medv':\", estimated_standard_error)"
   ]
  },
  {
   "cell_type": "markdown",
   "id": "baa7c3b3",
   "metadata": {},
   "source": [
    "c) Ahora estime el error estándar (SE) de $\\hat{μ}$ usando el méodo Bootstrap. ¿Cómo se compara esto con su respuesta de (b) Hint: Puede modificar la función boot SE para adaptarla a la función definida en (a)."
   ]
  },
  {
   "cell_type": "code",
   "execution_count": 7,
   "id": "65053ac2",
   "metadata": {},
   "outputs": [
    {
     "name": "stdout",
     "output_type": "stream",
     "text": [
      "Error estándar de la media poblacional de 'medv' estimado con Bootstrap: 0.4125\n"
     ]
    }
   ],
   "source": [
    "def boot_SE(func, data, idx, x, n=None, b=1000, seed=0):\n",
    "\n",
    "    rng = np.random.default_rng(seed)\n",
    "    sum_estimates = 0\n",
    "    sum_squared_estimates = 0\n",
    "    n = n or data.shape[0]\n",
    "    estimates = []\n",
    "\n",
    "    for sample in range(b):\n",
    "        idx = rng.choice(data.index, n, replace=True)\n",
    "        estimate = func(data, idx, x)\n",
    "        sum_estimates += estimate\n",
    "        sum_squared_estimates += estimate ** 2\n",
    "        estimates.append(estimate)\n",
    "\n",
    "    mean_estimates = sum_estimates / b\n",
    "    se = np.sqrt(sum_squared_estimates / b - mean_estimates ** 2)\n",
    "\n",
    "    return round(se, 4), estimates\n",
    "\n",
    "estimated_bootstrap_se, bootstrap_estimates = boot_SE(estimate_mean, data, data.index, 'medv')\n",
    "print(\"Error estándar de la media poblacional de 'medv' estimado con Bootstrap:\", estimated_bootstrap_se)\n"
   ]
  },
  {
   "cell_type": "markdown",
   "id": "bea21acd",
   "metadata": {},
   "source": [
    "En relación al error estándar hallado en b), el error estándar estimado con Bootstrap difiere y es mayor."
   ]
  },
  {
   "cell_type": "markdown",
   "id": "72026ba5",
   "metadata": {},
   "source": [
    "d) Basado en su estimaci´on bootstrap de (c), proporcione un intervalo de confianza del 95%\n",
    "para la media de medv. Hint: Puede aproximar un intervalo de confianza del 95% usando la\n",
    "fórmula $\\hat{μ}$ − 2SE($\\hat{μ}$), $\\hat{μ}$ + 2SE($\\hat{μ}$)."
   ]
  },
  {
   "cell_type": "code",
   "execution_count": 8,
   "id": "08cdbad7",
   "metadata": {
    "scrolled": true
   },
   "outputs": [
    {
     "name": "stdout",
     "output_type": "stream",
     "text": [
      "Intervalo de confianza del 95% para la media de 'medv': (21.707800000000002, 23.3578)\n"
     ]
    }
   ],
   "source": [
    "lower_bound = estimated_mean - 2 * estimated_bootstrap_se\n",
    "upper_bound = estimated_mean + 2 * estimated_bootstrap_se\n",
    "\n",
    "print(\"Intervalo de confianza del 95% para la media de 'medv':\", (lower_bound, upper_bound))"
   ]
  },
  {
   "cell_type": "markdown",
   "id": "d59ad1d7",
   "metadata": {},
   "source": [
    "e) Defina una función para estimar la mediana de una variable. Use esta función y estime la\n",
    "mediana poblacional de la columna **medv**. Llame a esta estimación $\\hat{μ}$$_{med}$. Hint: puede seguir\n",
    "el mismo enfoque que en (a)."
   ]
  },
  {
   "cell_type": "code",
   "execution_count": 10,
   "id": "c5e23220",
   "metadata": {},
   "outputs": [
    {
     "name": "stdout",
     "output_type": "stream",
     "text": [
      "Estimación de la mediana poblacional de 'medv': 21.2\n"
     ]
    }
   ],
   "source": [
    "def estimate_median(data, idx, x):\n",
    "    \n",
    "    subset = data.loc[idx]\n",
    "    median = subset[x].median()\n",
    "    return median\n",
    "\n",
    "estimated_median = estimate_median(data, data.index, 'medv')\n",
    "print(\"Estimación de la mediana poblacional de 'medv':\", estimated_median)"
   ]
  },
  {
   "cell_type": "markdown",
   "id": "f3d96401",
   "metadata": {},
   "source": [
    "f) Estime el error estándar (SE) de $\\hat{μ}$$_{med}$ mediante el método Bootstrap. Hint: Puede seguir el mismo enfoque en que (c)."
   ]
  },
  {
   "cell_type": "code",
   "execution_count": 11,
   "id": "f153b31a",
   "metadata": {},
   "outputs": [
    {
     "name": "stdout",
     "output_type": "stream",
     "text": [
      "Error estándar de la mediana poblacional de 'medv' estimado con Bootstrap: 0.3694\n"
     ]
    }
   ],
   "source": [
    "def boot_SE_median(func, data, idx, x, n=None, b=1000, seed=0):\n",
    "\n",
    "    rng = np.random.default_rng(seed)\n",
    "    sum_estimates = 0\n",
    "    sum_squared_estimates = 0\n",
    "    n = n or data.shape[0]\n",
    "    estimates = []\n",
    "\n",
    "    for sample in range(b):\n",
    "        idx = rng.choice(data.index, n, replace=True)\n",
    "        estimate = func(data, idx, x)\n",
    "        sum_estimates += estimate\n",
    "        sum_squared_estimates += estimate ** 2\n",
    "        estimates.append(estimate)\n",
    "\n",
    "    mean_estimates = sum_estimates / b\n",
    "    se = np.sqrt(sum_squared_estimates / b - mean_estimates ** 2)\n",
    "\n",
    "    return round(se, 4), estimates\n",
    "\n",
    "estimated_bootstrap_se_median, bootstrap_estimates_median = boot_SE_median(estimate_median, data, data.index, 'medv')\n",
    "print(\"Error estándar de la mediana poblacional de 'medv' estimado con Bootstrap:\", estimated_bootstrap_se_median)\n"
   ]
  },
  {
   "cell_type": "markdown",
   "id": "b686e37f",
   "metadata": {},
   "source": [
    "**Pregunta 4**\\\n",
    "Prediga el número de solicitudes recibidas (columna Apps)."
   ]
  },
  {
   "cell_type": "code",
   "execution_count": 12,
   "id": "32d060ef",
   "metadata": {
    "scrolled": true
   },
   "outputs": [],
   "source": [
    "from functools import partial\n",
    "\n",
    "from sklearn.linear_model import LinearRegression\n",
    "from sklearn.preprocessing import scale\n",
    "import sklearn.model_selection as skm\n",
    "import sklearn.linear_model as skl\n",
    "from sklearn.pipeline import Pipeline\n",
    "from sklearn.preprocessing import StandardScaler\n",
    "from sklearn.metrics import mean_squared_error\n",
    "from matplotlib.pyplot import subplots\n",
    "from sklearn.model_selection import train_test_split"
   ]
  },
  {
   "cell_type": "code",
   "execution_count": 4,
   "id": "230b5201",
   "metadata": {},
   "outputs": [
    {
     "data": {
      "text/plain": [
       "(777, 18)"
      ]
     },
     "execution_count": 4,
     "metadata": {},
     "output_type": "execute_result"
    }
   ],
   "source": [
    "college = pd.read_csv('https://raw.githubusercontent.com/qlabpucp/datasets/main/datasets/college.csv')\n",
    "college = college.drop(columns=['Unnamed: 0'])\n",
    "college['Private'] = college['Private'].map({'Yes': 1, 'No': 0})\n",
    "college = college.dropna()\n",
    "college = college.reindex()\n",
    "college.shape"
   ]
  },
  {
   "cell_type": "markdown",
   "id": "15a31b25",
   "metadata": {},
   "source": [
    "a) Divida el conjunto de datos en un conjunto de entrenamiento y un conjunto de validacion."
   ]
  },
  {
   "cell_type": "code",
   "execution_count": 10,
   "id": "35f6729c",
   "metadata": {},
   "outputs": [],
   "source": [
    "Y = np.array(college['Apps'])\n",
    "X = college.drop(columns=['Apps'])\n",
    "\n",
    "X_, X_test, Y_, Y_test = train_test_split(X, Y, test_size=0.3, random_state=0)\n",
    "\n",
    "X_train, X_valid, Y_train, Y_valid = train_test_split(X_, Y_, test_size=0.5, random_state=0)"
   ]
  },
  {
   "cell_type": "markdown",
   "id": "2b743513",
   "metadata": {},
   "source": [
    "b) Ajuste un modelo lineal utilizando mınimos cuadrados en el conjunto de entrenamiento e informe el error en el conjunto de prueba."
   ]
  },
  {
   "cell_type": "code",
   "execution_count": 20,
   "id": "f04fa11a",
   "metadata": {},
   "outputs": [
    {
     "name": "stdout",
     "output_type": "stream",
     "text": [
      "MSE en el conjunto de prueba: 1659682.172\n"
     ]
    }
   ],
   "source": [
    "model = LinearRegression()\n",
    "model.fit(X_, Y_)\n",
    "\n",
    "pred = model.predict(X_test)\n",
    "MSE = round(np.mean((Y_test - pred)**2, axis=0),3)\n",
    "print(\"MSE en el conjunto de prueba:\", MSE)\n",
    "\n",
    "Resultados = pd.DataFrame(model.coef_, columns=['Coeficientes OLS'], index = X.columns)"
   ]
  },
  {
   "cell_type": "markdown",
   "id": "425892b4",
   "metadata": {},
   "source": [
    "c) Ajuste un modelo de regresion Ridge en el conjunto de entrenamiento, con λ elegido por Cross-Validation. Reporte el error en el conjunto de prueba y los coeficientes de las variables."
   ]
  },
  {
   "cell_type": "code",
   "execution_count": 21,
   "id": "31f4adb9",
   "metadata": {},
   "outputs": [
    {
     "name": "stdout",
     "output_type": "stream",
     "text": [
      "MSE en el conjunto de prueba: 1731344.268\n"
     ]
    }
   ],
   "source": [
    "cv = skm.KFold(n_splits=5, shuffle=True, random_state=0)\n",
    "lambdas = 10**np.linspace(8, -6, 200)\n",
    "scaler  = StandardScaler(with_mean=True, with_std=True)\n",
    "\n",
    "kfold = skm.KFold(5, random_state=0, shuffle=True)\n",
    "\n",
    "ridgeCV = skl.ElasticNetCV(alphas=lambdas, l1_ratio=0, cv=kfold)\n",
    "pipeCV = Pipeline(steps=[('scaler', scaler), ('ridge', ridgeCV)])\n",
    "pipeCV.fit(X_, Y_)\n",
    "\n",
    "tuned_ridge = pipeCV.named_steps['ridge']\n",
    "\n",
    "Y_pred_ridge = pipeCV.predict(X_test)\n",
    "mse_ridge = round(mean_squared_error(Y_test, Y_pred_ridge),3)\n",
    "print(\"MSE en el conjunto de prueba:\", mse_ridge)\n",
    "\n",
    "Resultados['Coeficientes Ridge'] = tuned_ridge.coef_"
   ]
  },
  {
   "cell_type": "markdown",
   "id": "1def61e1",
   "metadata": {},
   "source": [
    "d) Ajuste un modelo de regresion Lasso en el conjunto de entrenamiento, con λ elegido por Cross-Validation. Informe el error en el conjunto de prueba y los coeficientes de las variables."
   ]
  },
  {
   "cell_type": "code",
   "execution_count": 22,
   "id": "38254b9a",
   "metadata": {},
   "outputs": [
    {
     "name": "stdout",
     "output_type": "stream",
     "text": [
      "MSE en el conjunto de prueba: 1752978.467\n"
     ]
    }
   ],
   "source": [
    "lasso = skl.ElasticNet(l1_ratio=1)\n",
    "pipe_l = Pipeline(steps=[('scaler', scaler), ('lasso', lasso)])\n",
    "\n",
    "lassoCV = skl.ElasticNetCV(alphas=lambdas, l1_ratio=1,cv=kfold)\n",
    "pipeCV_lasso = Pipeline(steps=[('scaler', scaler), ('lasso', lassoCV)])\n",
    "pipeCV_lasso.fit(X_, Y_)\n",
    "\n",
    "tuned_lasso = pipeCV_lasso.named_steps['lasso']\n",
    "\n",
    "Y_pred_lasso = pipeCV_lasso.predict(X_test)\n",
    "mse_lasso = round(mean_squared_error(Y_test, Y_pred_lasso),3)\n",
    "print(\"MSE en el conjunto de prueba:\", mse_lasso)\n",
    "\n",
    "Resultados['Coeficientes Lasso'] = tuned_lasso.coef_"
   ]
  },
  {
   "cell_type": "markdown",
   "id": "6b444e4c",
   "metadata": {},
   "source": [
    "e) Muestre un pandas Dataframe que resuma los resultados. ¿Cual modelo seleccionara para su investigacion? Justifique."
   ]
  },
  {
   "cell_type": "markdown",
   "id": "1eb11c14",
   "metadata": {},
   "source": [
    "Seleccionaria el modelo de Lasso, esto debido a la que es el único con el cual puedo eliminar algunas variables que no son importantes para la predicción del número de solicitudes de Apps (enroll, boosk, SF ratio), aun cuando esto signifique aceptar un MSE un poco mayor en comparación."
   ]
  },
  {
   "cell_type": "code",
   "execution_count": 23,
   "id": "91e191ab",
   "metadata": {},
   "outputs": [
    {
     "data": {
      "text/html": [
       "<div>\n",
       "<style scoped>\n",
       "    .dataframe tbody tr th:only-of-type {\n",
       "        vertical-align: middle;\n",
       "    }\n",
       "\n",
       "    .dataframe tbody tr th {\n",
       "        vertical-align: top;\n",
       "    }\n",
       "\n",
       "    .dataframe thead th {\n",
       "        text-align: right;\n",
       "    }\n",
       "</style>\n",
       "<table border=\"1\" class=\"dataframe\">\n",
       "  <thead>\n",
       "    <tr style=\"text-align: right;\">\n",
       "      <th></th>\n",
       "      <th>Coeficientes OLS</th>\n",
       "      <th>Coeficientes Ridge</th>\n",
       "      <th>Coeficientes Lasso</th>\n",
       "    </tr>\n",
       "  </thead>\n",
       "  <tbody>\n",
       "    <tr>\n",
       "      <th>Private</th>\n",
       "      <td>-671.494581</td>\n",
       "      <td>-305.020181</td>\n",
       "      <td>-300.143375</td>\n",
       "    </tr>\n",
       "    <tr>\n",
       "      <th>Accept</th>\n",
       "      <td>1.260847</td>\n",
       "      <td>2958.605158</td>\n",
       "      <td>2906.887403</td>\n",
       "    </tr>\n",
       "    <tr>\n",
       "      <th>Enroll</th>\n",
       "      <td>-0.378676</td>\n",
       "      <td>-252.782810</td>\n",
       "      <td>-0.000000</td>\n",
       "    </tr>\n",
       "    <tr>\n",
       "      <th>Top10perc</th>\n",
       "      <td>52.618992</td>\n",
       "      <td>885.778656</td>\n",
       "      <td>773.859506</td>\n",
       "    </tr>\n",
       "    <tr>\n",
       "      <th>Top25perc</th>\n",
       "      <td>-16.154400</td>\n",
       "      <td>-294.432997</td>\n",
       "      <td>-191.740110</td>\n",
       "    </tr>\n",
       "    <tr>\n",
       "      <th>F.Undergrad</th>\n",
       "      <td>0.098948</td>\n",
       "      <td>478.279582</td>\n",
       "      <td>275.526344</td>\n",
       "    </tr>\n",
       "    <tr>\n",
       "      <th>P.Undergrad</th>\n",
       "      <td>0.037652</td>\n",
       "      <td>61.870242</td>\n",
       "      <td>52.681271</td>\n",
       "    </tr>\n",
       "    <tr>\n",
       "      <th>Outstate</th>\n",
       "      <td>-0.042843</td>\n",
       "      <td>-152.844141</td>\n",
       "      <td>-102.858937</td>\n",
       "    </tr>\n",
       "    <tr>\n",
       "      <th>Room.Board</th>\n",
       "      <td>0.217593</td>\n",
       "      <td>240.390245</td>\n",
       "      <td>222.021816</td>\n",
       "    </tr>\n",
       "    <tr>\n",
       "      <th>Books</th>\n",
       "      <td>0.035527</td>\n",
       "      <td>6.403172</td>\n",
       "      <td>0.000000</td>\n",
       "    </tr>\n",
       "    <tr>\n",
       "      <th>Personal</th>\n",
       "      <td>-0.045311</td>\n",
       "      <td>-33.557397</td>\n",
       "      <td>-13.492329</td>\n",
       "    </tr>\n",
       "    <tr>\n",
       "      <th>PhD</th>\n",
       "      <td>-9.466083</td>\n",
       "      <td>-150.509589</td>\n",
       "      <td>-129.745538</td>\n",
       "    </tr>\n",
       "    <tr>\n",
       "      <th>Terminal</th>\n",
       "      <td>-4.687669</td>\n",
       "      <td>-73.817551</td>\n",
       "      <td>-66.988295</td>\n",
       "    </tr>\n",
       "    <tr>\n",
       "      <th>S.F.Ratio</th>\n",
       "      <td>4.572739</td>\n",
       "      <td>18.359275</td>\n",
       "      <td>0.000000</td>\n",
       "    </tr>\n",
       "    <tr>\n",
       "      <th>perc.alumni</th>\n",
       "      <td>-7.541081</td>\n",
       "      <td>-101.115515</td>\n",
       "      <td>-93.700718</td>\n",
       "    </tr>\n",
       "    <tr>\n",
       "      <th>Expend</th>\n",
       "      <td>0.064437</td>\n",
       "      <td>312.052132</td>\n",
       "      <td>279.765350</td>\n",
       "    </tr>\n",
       "    <tr>\n",
       "      <th>Grad.Rate</th>\n",
       "      <td>10.583755</td>\n",
       "      <td>181.733253</td>\n",
       "      <td>143.820440</td>\n",
       "    </tr>\n",
       "  </tbody>\n",
       "</table>\n",
       "</div>"
      ],
      "text/plain": [
       "             Coeficientes OLS  Coeficientes Ridge  Coeficientes Lasso\n",
       "Private           -671.494581         -305.020181         -300.143375\n",
       "Accept               1.260847         2958.605158         2906.887403\n",
       "Enroll              -0.378676         -252.782810           -0.000000\n",
       "Top10perc           52.618992          885.778656          773.859506\n",
       "Top25perc          -16.154400         -294.432997         -191.740110\n",
       "F.Undergrad          0.098948          478.279582          275.526344\n",
       "P.Undergrad          0.037652           61.870242           52.681271\n",
       "Outstate            -0.042843         -152.844141         -102.858937\n",
       "Room.Board           0.217593          240.390245          222.021816\n",
       "Books                0.035527            6.403172            0.000000\n",
       "Personal            -0.045311          -33.557397          -13.492329\n",
       "PhD                 -9.466083         -150.509589         -129.745538\n",
       "Terminal            -4.687669          -73.817551          -66.988295\n",
       "S.F.Ratio            4.572739           18.359275            0.000000\n",
       "perc.alumni         -7.541081         -101.115515          -93.700718\n",
       "Expend               0.064437          312.052132          279.765350\n",
       "Grad.Rate           10.583755          181.733253          143.820440"
      ]
     },
     "execution_count": 23,
     "metadata": {},
     "output_type": "execute_result"
    }
   ],
   "source": [
    "Resultados"
   ]
  }
 ],
 "metadata": {
  "kernelspec": {
   "display_name": "Python 3 (ipykernel)",
   "language": "python",
   "name": "python3"
  },
  "language_info": {
   "codemirror_mode": {
    "name": "ipython",
    "version": 3
   },
   "file_extension": ".py",
   "mimetype": "text/x-python",
   "name": "python",
   "nbconvert_exporter": "python",
   "pygments_lexer": "ipython3",
   "version": "3.11.5"
  }
 },
 "nbformat": 4,
 "nbformat_minor": 5
}
