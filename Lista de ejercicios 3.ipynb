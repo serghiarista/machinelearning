{
 "cells": [
  {
   "cell_type": "markdown",
   "id": "e499580f",
   "metadata": {},
   "source": [
    "**Lista de Ejercicios 3** \n",
    "\n",
    "\n",
    "Grupo:\n",
    "1. Mayra Gavilán (20131530)\n",
    "2. Milagros Meza (20120186)\n",
    "3. Paola Cordova (20130365)\n",
    "4. Serghi Arista (20125341)"
   ]
  },
  {
   "cell_type": "markdown",
   "id": "fdfd5acf",
   "metadata": {},
   "source": [
    "**Pregunta 1**"
   ]
  },
  {
   "cell_type": "markdown",
   "id": "3ffeedef",
   "metadata": {},
   "source": [
    "Brinde una explicación detallada del algoritmo que se utiliza para implementar un Árbol de Regresión."
   ]
  },
  {
   "cell_type": "markdown",
   "id": "7b03de0c",
   "metadata": {},
   "source": [
    "**1) División de los datos**\n",
    "\n",
    "El algoritmo comienza con todos los datos en un nodo raíz y busca la característica (o variable) que mejor divide los datos en subconjuntos más homogéneos en términos de la variable de respuesta (el valor que estamos tratando de predecir)."
   ]
  },
  {
   "cell_type": "markdown",
   "id": "1fe11002",
   "metadata": {},
   "source": [
    "**2) Criterio de división**\n",
    "\n",
    "Para determinar la mejor característica de división, se utiliza un criterio de impureza como el error cuadrático medio (MSE), que mide la dispersión de los valores de la variable de respuesta en un nodo. Se calcula la reducción en la impureza (o la ganancia en la pureza) que se obtiene al dividir los datos según una característica específica."
   ]
  },
  {
   "cell_type": "markdown",
   "id": "fade785a",
   "metadata": {},
   "source": [
    "**3) División recursiva**\n",
    "\n",
    "Una vez que se selecciona la mejor característica de división, los datos se dividen en dos o más subconjuntos en función de los valores de esa característica. Este proceso se repite recursivamente en cada subconjunto hasta que se alcanza un criterio de parada, como una profundidad máxima del árbol, un número mínimo de muestras en cada nodo hoja o una impureza mínima."
   ]
  },
  {
   "cell_type": "markdown",
   "id": "457af500",
   "metadata": {},
   "source": [
    "**4) Predicción**\n",
    "\n",
    "Una vez construido el árbol, para hacer una predicción para una nueva observación, se sigue el árbol desde la raíz hasta llegar a una hoja, y se predice el valor promedio de las observaciones de entrenamiento en esa hoja."
   ]
  },
  {
   "cell_type": "markdown",
   "id": "147f6232",
   "metadata": {},
   "source": [
    "**5) Regularización**\n",
    "\n",
    "Para evitar el sobreajuste (overfitting), se pueden aplicar técnicas de regularización como la poda del árbol (eliminación de nodos innecesarios), la limitación de la profundidad máxima del árbol o la especificación de un número mínimo de muestras requeridas para dividir un nodo."
   ]
  }
 ],
 "metadata": {
  "kernelspec": {
   "display_name": "Python 3 (ipykernel)",
   "language": "python",
   "name": "python3"
  },
  "language_info": {
   "codemirror_mode": {
    "name": "ipython",
    "version": 3
   },
   "file_extension": ".py",
   "mimetype": "text/x-python",
   "name": "python",
   "nbconvert_exporter": "python",
   "pygments_lexer": "ipython3",
   "version": "3.11.5"
  }
 },
 "nbformat": 4,
 "nbformat_minor": 5
}
